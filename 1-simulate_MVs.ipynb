{
 "cells": [
  {
   "cell_type": "code",
   "execution_count": 1,
   "metadata": {},
   "outputs": [],
   "source": [
    "from protzilla.utilities.transform_dfs import long_to_wide\n",
    "import pandas as pd\n",
    "from protzilla.constants.paths import PROJECT_PATH\n",
    "import matplotlib.pyplot as plt\n",
    "import numpy as np\n"
   ]
  },
  {
   "attachments": {},
   "cell_type": "markdown",
   "metadata": {},
   "source": [
    "### Create datasets with simulated MVs"
   ]
  },
  {
   "cell_type": "code",
   "execution_count": 3,
   "metadata": {},
   "outputs": [],
   "source": [
    "# load filtered ba39 dataset without MVs\n",
    "df = pd.read_csv(f\"{PROJECT_PATH}\\\\user_data\\\\runs\\\\ba_39_small_gt\\\\dataframes\\\\df_3.csv\")\n",
    "df = long_to_wide(df).transpose(copy=False)\n",
    "columns = df.columns\n",
    "columns_new = []\n",
    "for c in columns:\n",
    "    columns_new.append(f\"Intensity {c}\")\n",
    "df.columns = columns_new"
   ]
  },
  {
   "cell_type": "code",
   "execution_count": 6,
   "metadata": {},
   "outputs": [
    {
     "data": {
      "text/plain": [
       "0"
      ]
     },
     "execution_count": 6,
     "metadata": {},
     "output_type": "execute_result"
    }
   ],
   "source": [
    "df.isna().sum().sum()"
   ]
  },
  {
   "cell_type": "code",
   "execution_count": 8,
   "metadata": {},
   "outputs": [
    {
     "name": "stdout",
     "output_type": "stream",
     "text": [
      "<class 'pandas.core.frame.DataFrame'>\n",
      "Index: 481 entries, A0A075B759;A0A0B4J2A2;F5H284;P0DN26;P0DN37;P62937;Q9Y536 to iRT-Kit_WR_fusion\n",
      "Columns: 130 entries, Intensity AD01_C1_INSOLUBLE_01 to Intensity CTR44_C1_INSOLUBLE_01\n",
      "dtypes: float64(130)\n",
      "memory usage: 508.4+ KB\n"
     ]
    }
   ],
   "source": [
    "df.info()"
   ]
  },
  {
   "cell_type": "code",
   "execution_count": 7,
   "metadata": {},
   "outputs": [],
   "source": [
    "probabilities = [0,0.05,0.1,0.15,0.2,0.25,0.3,0.4,0.5]"
   ]
  },
  {
   "cell_type": "code",
   "execution_count": 10,
   "metadata": {},
   "outputs": [
    {
     "name": "stdout",
     "output_type": "stream",
     "text": [
      "[[False False False ... False False False]\n",
      " [False False False ... False False False]\n",
      " [False False False ... False False False]\n",
      " ...\n",
      " [False False False ... False False False]\n",
      " [False False False ... False False False]\n",
      " [False False False ... False False False]]\n",
      "[[False False False ... False  True False]\n",
      " [False False False ... False False False]\n",
      " [False False False ... False False False]\n",
      " ...\n",
      " [False False False ...  True False False]\n",
      " [False False False ... False False False]\n",
      " [False False False ... False False False]]\n",
      "[[False False False ... False  True False]\n",
      " [False False False ... False False  True]\n",
      " [False False False ... False False False]\n",
      " ...\n",
      " [False False False ...  True False False]\n",
      " [False False False ... False False False]\n",
      " [False False False ... False False False]]\n",
      "[[False False False ... False  True False]\n",
      " [False False  True ... False False  True]\n",
      " [False False  True ... False False False]\n",
      " ...\n",
      " [ True False False ...  True False False]\n",
      " [False False False ... False False False]\n",
      " [False False False ... False False False]]\n",
      "[[False False False ... False  True False]\n",
      " [False False  True ... False False  True]\n",
      " [False False  True ...  True False False]\n",
      " ...\n",
      " [ True False False ...  True False  True]\n",
      " [False False False ... False False False]\n",
      " [False False False ... False False False]]\n",
      "[[False False False ... False  True False]\n",
      " [False  True  True ... False False  True]\n",
      " [False False  True ...  True False False]\n",
      " ...\n",
      " [ True False False ...  True False  True]\n",
      " [False  True False ... False False False]\n",
      " [False False False ... False False False]]\n",
      "[[False False False ... False  True False]\n",
      " [False  True  True ... False False  True]\n",
      " [False False  True ...  True False False]\n",
      " ...\n",
      " [ True False False ...  True False  True]\n",
      " [False  True False ... False False False]\n",
      " [False False False ...  True False False]]\n",
      "[[ True False False ... False  True False]\n",
      " [False  True  True ... False False  True]\n",
      " [False False  True ...  True False False]\n",
      " ...\n",
      " [ True False False ...  True  True  True]\n",
      " [ True  True False ... False False False]\n",
      " [False False False ...  True  True False]]\n",
      "[[ True False False ... False  True False]\n",
      " [ True  True  True ... False False  True]\n",
      " [False False  True ...  True False False]\n",
      " ...\n",
      " [ True False False ...  True  True  True]\n",
      " [ True  True False ... False False False]\n",
      " [ True  True False ...  True  True False]]\n"
     ]
    }
   ],
   "source": [
    "# create datasets\n",
    "for p in probabilities:\n",
    "    np.random.seed(42)\n",
    "    na_mask = np.random.choice([True, False], size=df.shape, p=[p,1-p] )\n",
    "    print(na_mask)\n",
    "    na_df = df.mask(na_mask,other=np.nan)\n",
    "    # add columns to make datasets compatible with MaxQuant import\n",
    "    na_df[\"Intensity\"] = [np.nan for i in range(0,481)]\n",
    "    na_df[\"iBAQ\"] = [np.nan for i in range(0,481)]\n",
    "    na_df[\"iBAQ peptides\"] = [np.nan for i in range(0,481)]\n",
    "    na_df[\"Gene names\"] = [\"Gene1\" for i in range(0,481)]\n",
    "    na_df.index.name = \"Protein IDs\"\n",
    "    na_df.to_csv(f\"{PROJECT_PATH}\\\\user_data\\\\data\\\\ba_39_small_{p}.csv\",sep=\"\\t\")\n"
   ]
  },
  {
   "cell_type": "code",
   "execution_count": 11,
   "metadata": {},
   "outputs": [
    {
     "name": "stdout",
     "output_type": "stream",
     "text": [
      "0.0\n",
      "4.968814968814969\n",
      "10.03518311210619\n",
      "14.972013433551895\n",
      "19.940828402366865\n",
      "24.951223412761873\n",
      "29.97920997920998\n",
      "40.02558771789541\n",
      "50.007996161842314\n"
     ]
    }
   ],
   "source": [
    "# print actual MV rates of the created datasets\n",
    "for p in probabilities:\n",
    "    df_sim_nas = pd.read_csv(f\"{PROJECT_PATH}\\\\user_data\\\\data\\\\ba_39_small_{p}.csv\",sep=\"\\t\")\n",
    "    print((df_sim_nas.isna().sum().sum()-3*481)/(130*481)*100)\n",
    "    "
   ]
  },
  {
   "cell_type": "markdown",
   "metadata": {},
   "source": []
  }
 ],
 "metadata": {
  "kernelspec": {
   "display_name": "protzilla2",
   "language": "python",
   "name": "python3"
  },
  "language_info": {
   "codemirror_mode": {
    "name": "ipython",
    "version": 3
   },
   "file_extension": ".py",
   "mimetype": "text/x-python",
   "name": "python",
   "nbconvert_exporter": "python",
   "pygments_lexer": "ipython3",
   "version": "3.11.4"
  },
  "orig_nbformat": 4
 },
 "nbformat": 4,
 "nbformat_minor": 2
}
