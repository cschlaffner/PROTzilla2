{
 "cells": [
  {
   "cell_type": "code",
   "execution_count": 1,
   "metadata": {},
   "outputs": [],
   "source": [
    "import matplotlib.pyplot as plt\n",
    "import numpy as np\n",
    "from sklearn import metrics\n",
    "import pandas as pd\n",
    "from protzilla.constants.paths import PROJECT_PATH\n",
    "from protzilla.utilities.transform_dfs import long_to_wide"
   ]
  },
  {
   "cell_type": "code",
   "execution_count": 2,
   "metadata": {},
   "outputs": [],
   "source": [
    "probabilities = [0,0.05,0.1,0.15,0.2,0.25,0.3,0.4,0.5]"
   ]
  },
  {
   "cell_type": "code",
   "execution_count": 15,
   "metadata": {},
   "outputs": [],
   "source": [
    "norm_methods = [\n",
    "    {\"method\":\"z_score\",\"parameters\":{}},\n",
    "    {\"method\":\"median\",\"parameters\":{\"percentile\":0.5}},\n",
    "    {\"method\":\"totalsum\",\"parameters\":{}}\n",
    "]"
   ]
  },
  {
   "cell_type": "code",
   "execution_count": 4,
   "metadata": {},
   "outputs": [],
   "source": [
    "imp_methods = [\n",
    "    {\"method\":\"min_value_per_sample\",\"parameters\":{\"shrinking_value\":1}},\n",
    "    {\"method\":\"simple_imputation_per_protein\",\"parameters\":{\"strategy\":\"median\"}},\n",
    "    {\"method\":\"simple_imputation_per_protein\",\"parameters\":{\"strategy\":\"most_frequent\"}},\n",
    "    {\"method\":\"knn\",\"parameters\":{\"number_of_neighbours\":5}}\n",
    "    ]"
   ]
  },
  {
   "cell_type": "code",
   "execution_count": 5,
   "metadata": {},
   "outputs": [],
   "source": [
    "def extract_method_info(norm_method,imp_method):\n",
    "    norm_name = norm_method[\"method\"]\n",
    "    imp_name = imp_method[\"method\"]\n",
    "    try:\n",
    "        add_info = imp_method[\"parameters\"][\"strategy\"]\n",
    "    except:\n",
    "        add_info = \"\"\n",
    "\n",
    "    return norm_name, imp_name, add_info "
   ]
  },
  {
   "cell_type": "markdown",
   "metadata": {},
   "source": [
    "### small ba39"
   ]
  },
  {
   "cell_type": "code",
   "execution_count": 13,
   "metadata": {},
   "outputs": [],
   "source": [
    "def create_line_plot(title,xlabel,ylabel):\n",
    "    plt.xticks(rotation = 90)\n",
    "    plt.title(title, fontsize=14)\n",
    "    plt.xlabel(xlabel, fontsize=14)\n",
    "    plt.ylabel(ylabel, fontsize=14)\n",
    "    plt.grid(True)\n",
    "    plt.axhline(63,linestyle=\"dashed\")\n",
    "\n",
    "    return plt"
   ]
  },
  {
   "cell_type": "code",
   "execution_count": 7,
   "metadata": {},
   "outputs": [
    {
     "data": {
      "text/plain": [
       "63"
      ]
     },
     "execution_count": 7,
     "metadata": {},
     "output_type": "execute_result"
    }
   ],
   "source": [
    "pred_positives_df = pd.read_csv(f\"{PROJECT_PATH}\\\\user_data\\\\runs\\\\ba_39_small_gt\\\\history_dfs\\\\5-data_analysis-differential_expression-t_test-de_proteins_df.csv\")\n",
    "pred_positives_protein_list = pred_positives_df[\"Protein ID\"].unique().tolist()\n",
    "len(pred_positives_protein_list)"
   ]
  },
  {
   "cell_type": "code",
   "execution_count": 14,
   "metadata": {},
   "outputs": [
    {
     "name": "stdout",
     "output_type": "stream",
     "text": [
      "0 \n",
      " dict_items([('z_score_min_value_per_sample', 53), ('z_score_median', 53), ('z_score_most_frequent', 53), ('z_score_knn', 53), ('median_min_value_per_sample', 35), ('median_median', 35), ('median_most_frequent', 35), ('median_knn', 35), ('totalsum_min_value_per_sample', 35), ('totalsum_median', 35), ('totalsum_most_frequent', 35), ('totalsum_knn', 35)])\n",
      "0.05 \n",
      " dict_items([('z_score_min_value_per_sample', 59), ('z_score_median', 49), ('z_score_most_frequent', 45), ('z_score_knn', 53), ('median_min_value_per_sample', 46), ('median_median', 35), ('median_most_frequent', 38), ('median_knn', 37), ('totalsum_min_value_per_sample', 51), ('totalsum_median', 38), ('totalsum_most_frequent', 40), ('totalsum_knn', 44)])\n",
      "0.1 \n",
      " dict_items([('z_score_min_value_per_sample', 28), ('z_score_median', 40), ('z_score_most_frequent', 42), ('z_score_knn', 53), ('median_min_value_per_sample', 30), ('median_median', 31), ('median_most_frequent', 31), ('median_knn', 34), ('totalsum_min_value_per_sample', 27), ('totalsum_median', 35), ('totalsum_most_frequent', 32), ('totalsum_knn', 43)])\n",
      "0.15 \n",
      " dict_items([('z_score_min_value_per_sample', 12), ('z_score_median', 37), ('z_score_most_frequent', 33), ('z_score_knn', 53), ('median_min_value_per_sample', 19), ('median_median', 24), ('median_most_frequent', 26), ('median_knn', 34), ('totalsum_min_value_per_sample', 15), ('totalsum_median', 35), ('totalsum_most_frequent', 25), ('totalsum_knn', 49)])\n",
      "0.2 \n",
      " dict_items([('z_score_min_value_per_sample', 14), ('z_score_median', 32), ('z_score_most_frequent', 27), ('z_score_knn', 49), ('median_min_value_per_sample', 9), ('median_median', 22), ('median_most_frequent', 23), ('median_knn', 31), ('totalsum_min_value_per_sample', 7), ('totalsum_median', 38), ('totalsum_most_frequent', 28), ('totalsum_knn', 59)])\n",
      "0.25 \n",
      " dict_items([('z_score_min_value_per_sample', 1), ('z_score_median', 26), ('z_score_most_frequent', 22), ('z_score_knn', 48), ('median_min_value_per_sample', 0), ('median_median', 15), ('median_most_frequent', 20), ('median_knn', 32), ('totalsum_min_value_per_sample', 0), ('totalsum_median', 39), ('totalsum_most_frequent', 23), ('totalsum_knn', 63)])\n",
      "0.3 \n",
      " dict_items([('z_score_min_value_per_sample', 3), ('z_score_median', 20), ('z_score_most_frequent', 16), ('z_score_knn', 45), ('median_min_value_per_sample', 4), ('median_median', 15), ('median_most_frequent', 14), ('median_knn', 30), ('totalsum_min_value_per_sample', 3), ('totalsum_median', 36), ('totalsum_most_frequent', 11), ('totalsum_knn', 63)])\n",
      "0.4 \n",
      " dict_items([('z_score_min_value_per_sample', 0), ('z_score_median', 12), ('z_score_most_frequent', 6), ('z_score_knn', 42), ('median_min_value_per_sample', 0), ('median_median', 7), ('median_most_frequent', 4), ('median_knn', 22), ('totalsum_min_value_per_sample', 0), ('totalsum_median', 22), ('totalsum_most_frequent', 2), ('totalsum_knn', 20)])\n",
      "0.5 \n",
      " dict_items([('z_score_min_value_per_sample', 0), ('z_score_median', 6), ('z_score_most_frequent', 1), ('z_score_knn', 31), ('median_min_value_per_sample', 0), ('median_median', 4), ('median_most_frequent', 1), ('median_knn', 18), ('totalsum_min_value_per_sample', 0), ('totalsum_median', 5), ('totalsum_most_frequent', 0), ('totalsum_knn', 5)])\n"
     ]
    }
   ],
   "source": [
    "line_graph = create_line_plot(\"Number of Differentially Expressed Proteins\",\"method combinations\", \"number of proteins\")\n",
    "nr_de_proteins = {}\n",
    "for p in probabilities:\n",
    "    for norm_method in norm_methods:\n",
    "        for imp_method in imp_methods:\n",
    "            norm_name, imp_name, add_info = extract_method_info(norm_method, imp_method)\n",
    "            id = f\"{p}_{norm_name}_{imp_name}{add_info}\"\n",
    "                     \n",
    "            pred_positives_df = pd.read_csv(f\"{PROJECT_PATH}\\\\user_data\\\\runs\\\\{p}\\\\ba_39_{p}_{norm_name}_{imp_name}{add_info}\\\\history_dfs\\\\5-data_analysis-differential_expression-t_test-de_proteins_df.csv\")\n",
    "            pred_positives_protein_list = pred_positives_df[\"Protein ID\"].unique().tolist()\n",
    "            if add_info != \"\":\n",
    "                name = f\"{norm_name}_{add_info}\"\n",
    "            else:\n",
    "                name = f\"{norm_name}_{imp_name}\"\n",
    "            nr_de_proteins[name] = len(pred_positives_protein_list)\n",
    "    line_graph.plot(nr_de_proteins.keys(),nr_de_proteins.values(),label=str(p))\n",
    "    print(p,\"\\n\",nr_de_proteins.items())\n",
    "line_graph.legend(loc=\"upper center\", ncols=3)\n",
    "line_graph.savefig(f\"{PROJECT_PATH}\\\\user_data\\\\plots\\\\nr_de_proteins\\\\nr_de_proteins.png\",format=\"png\",bbox_inches='tight')\n",
    "line_graph.close()\n",
    "\n"
   ]
  },
  {
   "cell_type": "markdown",
   "metadata": {},
   "source": [
    "zscore median   40/63   63,4921   91 /174   52,2989          \n",
    "zscore knn      53      84,127      122     70,1149\n",
    "totalsum knn    43      68,254      4       2,2989\n",
    "median knn      34      53,9683     167     95,9770\n"
   ]
  },
  {
   "cell_type": "code",
   "execution_count": 23,
   "metadata": {},
   "outputs": [
    {
     "data": {
      "text/plain": [
       "0.022988505747126436"
      ]
     },
     "execution_count": 23,
     "metadata": {},
     "output_type": "execute_result"
    }
   ],
   "source": [
    "4/174"
   ]
  },
  {
   "cell_type": "markdown",
   "metadata": {},
   "source": [
    "### ba39"
   ]
  },
  {
   "cell_type": "code",
   "execution_count": 29,
   "metadata": {},
   "outputs": [],
   "source": [
    "method_combinations = [({\"method\":\"z_score\",\"parameters\":{}, \"fc_threshold\":0.4237},{\"method\":\"knn\",\"parameters\":{\"number_of_neighbours\":5}}),\n",
    "                       ({\"method\":\"z_score\",\"parameters\":{}, \"fc_threshold\":0.4237},{\"method\":\"simple_imputation_per_protein\",\"parameters\":{\"strategy\":\"median\"}}),\n",
    "                       ({\"method\":\"totalsum\",\"parameters\":{},\"fc_threshold\":0.00004422884}, {\"method\":\"knn\",\"parameters\":{\"number_of_neighbours\":5}}),\n",
    "                       ({\"method\":\"median\",\"parameters\":{\"percentile\":0.5},\"fc_threshold\":0.0474},{\"method\":\"knn\",\"parameters\":{\"number_of_neighbours\":5}})]"
   ]
  },
  {
   "cell_type": "code",
   "execution_count": 30,
   "metadata": {},
   "outputs": [
    {
     "data": {
      "text/plain": [
       "54"
      ]
     },
     "execution_count": 30,
     "metadata": {},
     "output_type": "execute_result"
    }
   ],
   "source": [
    "pred_positives_df = pd.read_csv(f\"{PROJECT_PATH}\\\\user_data\\\\runs\\\\ba_39_gt_new_fc\\\\history_dfs\\\\6-data_analysis-differential_expression-t_test-de_proteins_df.csv\")\n",
    "pred_positives_protein_list = pred_positives_df[\"Protein ID\"].unique().tolist()\n",
    "len(pred_positives_protein_list)"
   ]
  },
  {
   "cell_type": "code",
   "execution_count": 35,
   "metadata": {},
   "outputs": [],
   "source": [
    "nr_de_proteins = {}\n",
    "for combination in method_combinations:\n",
    "    norm_method = combination[0]\n",
    "    imp_method = combination[1]\n",
    "    norm_name, imp_name, add_info = extract_method_info(norm_method, imp_method)\n",
    "    id = f\"{norm_name}_{imp_name}{add_info}\"\n",
    "\n",
    "    pred_positives_df = pd.read_csv(f\"{PROJECT_PATH}\\\\user_data\\\\runs\\\\ba_39_{id}_new_fc\\\\history_dfs\\\\7-data_analysis-differential_expression-t_test-de_proteins_df.csv\")\n",
    "    pred_positives_protein_list = pred_positives_df[\"Protein ID\"].unique().tolist()\n",
    "\n",
    "    if add_info != \"\":\n",
    "        name = f\"{norm_name}_{add_info}\"\n",
    "    else:\n",
    "        name = f\"{norm_name}_{imp_name}\"\n",
    "    nr_de_proteins[name] = len(pred_positives_protein_list)\n",
    "plt.bar(nr_de_proteins.keys(),nr_de_proteins.values())\n",
    "plt.xticks(rotation = 90)\n",
    "plt.title(\"Number of Differentially Expressed Proteins\", fontsize=14)\n",
    "plt.xlabel(\"method combination\", fontsize=14)\n",
    "plt.ylabel(\"number of proteins\", fontsize=14)\n",
    "plt.axhline(54,linestyle=\"dashed\")\n",
    "plt.savefig(f\"{PROJECT_PATH}\\\\user_data\\\\plots\\\\nr_de_proteins\\\\nr_de_proteins_ba39_new_fc.png\",format=\"png\",bbox_inches='tight')\n",
    "plt.close()"
   ]
  },
  {
   "cell_type": "code",
   "execution_count": 36,
   "metadata": {},
   "outputs": [
    {
     "data": {
      "text/plain": [
       "{'z_score_knn': 38, 'z_score_median': 27, 'totalsum_knn': 19, 'median_knn': 41}"
      ]
     },
     "execution_count": 36,
     "metadata": {},
     "output_type": "execute_result"
    }
   ],
   "source": [
    "nr_de_proteins"
   ]
  },
  {
   "cell_type": "markdown",
   "metadata": {},
   "source": [
    "numbers for ba"
   ]
  },
  {
   "cell_type": "code",
   "execution_count": 34,
   "metadata": {},
   "outputs": [
    {
     "name": "stdout",
     "output_type": "stream",
     "text": [
      "(143, 2766)\n",
      "0.5016964236053173\n",
      "(105, 1492)\n",
      "0.12785012128175666\n"
     ]
    }
   ],
   "source": [
    "orig_df = pd.read_csv(f\"{PROJECT_PATH}\\\\user_data\\\\runs\\\\ba_39_gt\\\\dataframes\\\\df_0.csv\")\n",
    "filtered_df = pd.read_csv(f\"{PROJECT_PATH}\\\\user_data\\\\runs\\\\ba_39_gt\\\\dataframes\\\\df_3.csv\")\n",
    "print(long_to_wide(orig_df).shape)\n",
    "print(orig_df.isna().sum().sum()/(143*2766))\n",
    "print(long_to_wide(filtered_df).shape)\n",
    "print(filtered_df.isna().sum().sum()/(105*1492))"
   ]
  },
  {
   "cell_type": "code",
   "execution_count": null,
   "metadata": {},
   "outputs": [],
   "source": []
  }
 ],
 "metadata": {
  "kernelspec": {
   "display_name": "protzilla2",
   "language": "python",
   "name": "python3"
  },
  "language_info": {
   "codemirror_mode": {
    "name": "ipython",
    "version": 3
   },
   "file_extension": ".py",
   "mimetype": "text/x-python",
   "name": "python",
   "nbconvert_exporter": "python",
   "pygments_lexer": "ipython3",
   "version": "3.11.4"
  },
  "orig_nbformat": 4
 },
 "nbformat": 4,
 "nbformat_minor": 2
}
