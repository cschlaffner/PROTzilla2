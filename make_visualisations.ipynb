{
 "cells": [
  {
   "cell_type": "code",
   "execution_count": 1,
   "metadata": {},
   "outputs": [],
   "source": [
    "import matplotlib.pyplot as plt\n",
    "import numpy as np\n",
    "from sklearn import metrics\n",
    "import pandas as pd\n",
    "from protzilla.constants.paths import PROJECT_PATH\n",
    "from protzilla.utilities.transform_dfs import long_to_wide"
   ]
  },
  {
   "cell_type": "code",
   "execution_count": 2,
   "metadata": {},
   "outputs": [],
   "source": [
    "probabilities = [0,0.05,0.1,0.15,0.2,0.25,0.3,0.4,0.5]"
   ]
  },
  {
   "cell_type": "code",
   "execution_count": 3,
   "metadata": {},
   "outputs": [],
   "source": [
    "norm_methods = [\n",
    "    {\"method\":\"z_score\",\"parameters\":{}},\n",
    "    {\"method\":\"median\",\"parameters\":{\"percentile\":0.5}},\n",
    "    {\"method\":\"totalsum\",\"parameters\":{}}\n",
    "]"
   ]
  },
  {
   "cell_type": "code",
   "execution_count": 4,
   "metadata": {},
   "outputs": [],
   "source": [
    "imp_methods = [\n",
    "    {\"method\":\"min_value_per_sample\",\"parameters\":{\"shrinking_value\":1}},\n",
    "    {\"method\":\"simple_imputation_per_protein\",\"parameters\":{\"strategy\":\"median\"}},\n",
    "    {\"method\":\"simple_imputation_per_protein\",\"parameters\":{\"strategy\":\"most_frequent\"}},\n",
    "    {\"method\":\"knn\",\"parameters\":{\"number_of_neighbours\":5}}\n",
    "    ]"
   ]
  },
  {
   "cell_type": "code",
   "execution_count": 2,
   "metadata": {},
   "outputs": [],
   "source": [
    "def extract_method_info(norm_method,imp_method):\n",
    "    norm_name = norm_method[\"method\"]\n",
    "    imp_name = imp_method[\"method\"]\n",
    "    try:\n",
    "        add_info = imp_method[\"parameters\"][\"strategy\"]\n",
    "    except:\n",
    "        add_info = \"\"\n",
    "\n",
    "    return norm_name, imp_name, add_info "
   ]
  },
  {
   "cell_type": "markdown",
   "metadata": {},
   "source": [
    "### small ba39"
   ]
  },
  {
   "cell_type": "code",
   "execution_count": 9,
   "metadata": {},
   "outputs": [],
   "source": [
    "def create_line_plot(title,xlabel,ylabel,gt):\n",
    "    plt.xticks(rotation = 90)\n",
    "    plt.title(title, fontsize=14)\n",
    "    plt.xlabel(xlabel, fontsize=14)\n",
    "    plt.ylabel(ylabel, fontsize=14)\n",
    "    plt.grid(True)\n",
    "\n",
    "    return plt"
   ]
  },
  {
   "cell_type": "code",
   "execution_count": 11,
   "metadata": {},
   "outputs": [
    {
     "data": {
      "text/plain": [
       "63"
      ]
     },
     "execution_count": 11,
     "metadata": {},
     "output_type": "execute_result"
    }
   ],
   "source": [
    "pred_positives_df = pd.read_csv(f\"{PROJECT_PATH}\\\\user_data\\\\runs\\\\ba_39_small_gt\\\\history_dfs\\\\5-data_analysis-differential_expression-t_test-de_proteins_df.csv\")\n",
    "pred_positives_protein_list = pred_positives_df[\"Protein ID\"].unique().tolist()\n",
    "len(pred_positives_protein_list)"
   ]
  },
  {
   "cell_type": "code",
   "execution_count": 13,
   "metadata": {},
   "outputs": [],
   "source": [
    "line_graph = create_line_plot(\"Number of Differentially Expressed Proteins\",\"method combinations\", \"number of proteins\",nr_de_gt)\n",
    "nr_de_proteins = {}\n",
    "for p in probabilities:\n",
    "    for norm_method in norm_methods:\n",
    "        for imp_method in imp_methods:\n",
    "            norm_name, imp_name, add_info = extract_method_info(norm_method, imp_method)\n",
    "            id = f\"{p}_{norm_name}_{imp_name}{add_info}\"\n",
    "                     \n",
    "            pred_positives_df = pd.read_csv(f\"{PROJECT_PATH}\\\\user_data\\\\runs\\\\{p}\\\\ba_39_{p}_{norm_name}_{imp_name}{add_info}\\\\history_dfs\\\\5-data_analysis-differential_expression-t_test-de_proteins_df.csv\")\n",
    "            pred_positives_protein_list = pred_positives_df[\"Protein ID\"].unique().tolist()\n",
    "            if add_info != \"\":\n",
    "                name = f\"{norm_name}_{add_info}\"\n",
    "            else:\n",
    "                name = f\"{norm_name}_{imp_name}\"\n",
    "            nr_de_proteins[name] = len(pred_positives_protein_list)\n",
    "    line_graph.plot(nr_de_proteins.keys(),nr_de_proteins.values(),label=str(p))\n",
    "line_graph.legend(loc=\"upper center\", ncols=3)\n",
    "line_graph.savefig(f\"{PROJECT_PATH}\\\\user_data\\\\plots\\\\nr_de_proteins\\\\nr_de_proteins.png\",format=\"png\",bbox_inches='tight')\n",
    "line_graph.close()\n",
    "\n"
   ]
  },
  {
   "cell_type": "markdown",
   "metadata": {},
   "source": [
    "### ba39"
   ]
  },
  {
   "cell_type": "code",
   "execution_count": 3,
   "metadata": {},
   "outputs": [],
   "source": [
    "method_combinations = [({\"method\":\"z_score\",\"parameters\":{}, \"fc_threshold\":0.3157},{\"method\":\"knn\",\"parameters\":{\"number_of_neighbours\":5}}),\n",
    "                       ({\"method\":\"z_score\",\"parameters\":{}, \"fc_threshold\":0.3157},{\"method\":\"simple_imputation_per_protein\",\"parameters\":{\"strategy\":\"median\"}}),\n",
    "                       ({\"method\":\"totalsum\",\"parameters\":{},\"fc_threshold\":0.0000638564}, {\"method\":\"knn\",\"parameters\":{\"number_of_neighbours\":5}}),\n",
    "                       ({\"method\":\"median\",\"parameters\":{\"percentile\":0.5},\"fc_threshold\":0.0309},{\"method\":\"knn\",\"parameters\":{\"number_of_neighbours\":5}})]"
   ]
  },
  {
   "cell_type": "code",
   "execution_count": 6,
   "metadata": {},
   "outputs": [
    {
     "data": {
      "text/plain": [
       "174"
      ]
     },
     "execution_count": 6,
     "metadata": {},
     "output_type": "execute_result"
    }
   ],
   "source": [
    "pred_positives_df = pd.read_csv(f\"{PROJECT_PATH}\\\\user_data\\\\runs\\\\ba_39_gt\\\\history_dfs\\\\6-data_analysis-differential_expression-t_test-de_proteins_df.csv\")\n",
    "pred_positives_protein_list = pred_positives_df[\"Protein ID\"].unique().tolist()\n",
    "len(pred_positives_protein_list)"
   ]
  },
  {
   "cell_type": "code",
   "execution_count": 11,
   "metadata": {},
   "outputs": [],
   "source": [
    "nr_de_proteins = {}\n",
    "for combination in method_combinations:\n",
    "    norm_method = combination[0]\n",
    "    imp_method = combination[1]\n",
    "    norm_name, imp_name, add_info = extract_method_info(norm_method, imp_method)\n",
    "    id = f\"{norm_name}_{imp_name}{add_info}\"\n",
    "\n",
    "    pred_positives_df = pd.read_csv(f\"{PROJECT_PATH}\\\\user_data\\\\runs\\\\ba_39_{id}\\\\history_dfs\\\\7-data_analysis-differential_expression-t_test-de_proteins_df.csv\")\n",
    "    pred_positives_protein_list = pred_positives_df[\"Protein ID\"].unique().tolist()\n",
    "\n",
    "    if add_info != \"\":\n",
    "        name = f\"{norm_name}_{add_info}\"\n",
    "    else:\n",
    "        name = f\"{norm_name}_{imp_name}\"\n",
    "    nr_de_proteins[name] = len(pred_positives_protein_list)\n",
    "plt.bar(nr_de_proteins.keys(),nr_de_proteins.values())\n",
    "plt.xticks(rotation = 90)\n",
    "plt.title(\"Number of Differentially Expressed Proteins\", fontsize=14)\n",
    "plt.xlabel(\"method combination\", fontsize=14)\n",
    "plt.ylabel(\"number of proteins\", fontsize=14)\n",
    "plt.savefig(f\"{PROJECT_PATH}\\\\user_data\\\\plots\\\\nr_de_proteins\\\\nr_de_proteins_ba39.png\",format=\"png\",bbox_inches='tight')\n",
    "plt.close()"
   ]
  },
  {
   "cell_type": "code",
   "execution_count": 12,
   "metadata": {},
   "outputs": [
    {
     "data": {
      "text/plain": [
       "{'z_score_knn': 122,\n",
       " 'z_score_median': 91,\n",
       " 'totalsum_knn': 4,\n",
       " 'median_knn': 167}"
      ]
     },
     "execution_count": 12,
     "metadata": {},
     "output_type": "execute_result"
    }
   ],
   "source": [
    "nr_de_proteins"
   ]
  },
  {
   "cell_type": "code",
   "execution_count": 19,
   "metadata": {},
   "outputs": [
    {
     "name": "stdout",
     "output_type": "stream",
     "text": [
      "(143, 2766)\n",
      "0.5016964236053173\n",
      "(105, 1492)\n",
      "0.12785012128175666\n"
     ]
    }
   ],
   "source": [
    "orig_df = pd.read_csv(f\"{PROJECT_PATH}\\\\user_data\\\\runs\\\\ba_39_gt\\\\dataframes\\\\df_0.csv\")\n",
    "filtered_df = pd.read_csv(f\"{PROJECT_PATH}\\\\user_data\\\\runs\\\\ba_39_gt\\\\dataframes\\\\df_3.csv\")\n",
    "print(long_to_wide(orig_df).shape)\n",
    "print(orig_df.isna().sum().sum()/(143*2766))\n",
    "print(long_to_wide(filtered_df).shape)\n",
    "print(filtered_df.isna().sum().sum()/(105*1492))"
   ]
  }
 ],
 "metadata": {
  "kernelspec": {
   "display_name": "protzilla2",
   "language": "python",
   "name": "python3"
  },
  "language_info": {
   "codemirror_mode": {
    "name": "ipython",
    "version": 3
   },
   "file_extension": ".py",
   "mimetype": "text/x-python",
   "name": "python",
   "nbconvert_exporter": "python",
   "pygments_lexer": "ipython3",
   "version": "3.11.4"
  },
  "orig_nbformat": 4
 },
 "nbformat": 4,
 "nbformat_minor": 2
}
