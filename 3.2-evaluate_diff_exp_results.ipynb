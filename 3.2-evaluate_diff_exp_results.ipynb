{
 "cells": [
  {
   "cell_type": "code",
   "execution_count": 1,
   "metadata": {},
   "outputs": [],
   "source": [
    "import matplotlib.pyplot as plt\n",
    "import numpy as np\n",
    "from sklearn import metrics\n",
    "import pandas as pd\n",
    "from protzilla.constants.paths import PROJECT_PATH\n",
    "from protzilla.utilities.transform_dfs import long_to_wide"
   ]
  },
  {
   "cell_type": "code",
   "execution_count": 2,
   "metadata": {},
   "outputs": [],
   "source": [
    "probabilities = [0,0.05,0.1,0.15,0.2,0.25,0.3,0.4,0.5]"
   ]
  },
  {
   "cell_type": "code",
   "execution_count": 5,
   "metadata": {},
   "outputs": [],
   "source": [
    "method_combinations = [({\"method\":\"z_score\",\"parameters\":{}, \"fc_threshold\":0.3157},{\"method\":\"knn\",\"parameters\":{\"number_of_neighbours\":5}}),\n",
    "                       ({\"method\":\"z_score\",\"parameters\":{}, \"fc_threshold\":0.3157},{\"method\":\"simple_imputation_per_protein\",\"parameters\":{\"strategy\":\"median\"}}),\n",
    "                       ({\"method\":\"totalsum\",\"parameters\":{},\"fc_threshold\":0.0000638564}, {\"method\":\"knn\",\"parameters\":{\"number_of_neighbours\":5}}),\n",
    "                       ({\"method\":\"median\",\"parameters\":{\"percentile\":0.5},\"fc_threshold\":0.0309},{\"method\":\"knn\",\"parameters\":{\"number_of_neighbours\":5}})]"
   ]
  },
  {
   "cell_type": "code",
   "execution_count": 6,
   "metadata": {},
   "outputs": [],
   "source": [
    "def extract_method_info(norm_method,imp_method):\n",
    "    norm_name = norm_method[\"method\"]\n",
    "    imp_name = imp_method[\"method\"]\n",
    "    try:\n",
    "        add_info = imp_method[\"parameters\"][\"strategy\"]\n",
    "    except:\n",
    "        add_info = \"\"\n",
    "\n",
    "    return norm_name, imp_name, add_info"
   ]
  },
  {
   "cell_type": "code",
   "execution_count": 7,
   "metadata": {},
   "outputs": [],
   "source": [
    "def classify(proteins, pred_positives):\n",
    "    classification = []\n",
    "    for protein in proteins:\n",
    "        if protein in pred_positives:\n",
    "            classification.append(1)\n",
    "        else:\n",
    "            classification.append(0)\n",
    "    return classification"
   ]
  },
  {
   "attachments": {},
   "cell_type": "markdown",
   "metadata": {},
   "source": [
    "### Calculating ROC curves"
   ]
  },
  {
   "cell_type": "code",
   "execution_count": 8,
   "metadata": {},
   "outputs": [],
   "source": [
    "# load ground truth (ba_39_gt)\n",
    "# ground truth was calculated using the PROTzilla Runner commandline interface with workflow ba_39_gt_wf\n",
    "true_positives_df = pd.read_csv(f\"{PROJECT_PATH}\\\\user_data\\\\runs\\\\ba_39_gt\\\\history_dfs\\\\6-data_analysis-differential_expression-t_test-de_proteins_df.csv\")\n",
    "true_positives_protein_list = long_to_wide(true_positives_df).columns\n",
    "all_proteins_df = pd.read_csv(f\"{PROJECT_PATH}\\\\user_data\\\\runs\\\\ba_39_gt\\\\history_dfs\\\\6-data_analysis-differential_expression-t_test-corrected_p_values_df.csv\")\n",
    "roc_df = pd.DataFrame()\n",
    "roc_df[\"Protein ID\"] = all_proteins_df[\"Protein ID\"]\n",
    "classification = classify(all_proteins_df[\"Protein ID\"],true_positives_protein_list)\n",
    "roc_df[\"classification\"] = classification"
   ]
  },
  {
   "cell_type": "code",
   "execution_count": 9,
   "metadata": {},
   "outputs": [],
   "source": [
    "auc_dict = {}\n",
    "for combination in method_combinations:\n",
    "            norm_name, imp_name, add_info = extract_method_info(combination[0], combination[1])\n",
    "            id = f\"{norm_name}_{imp_name}{add_info}\"\n",
    "                     \n",
    "            # load differential expression results\n",
    "            pred_positives_df = pd.read_csv(f\"{PROJECT_PATH}\\\\user_data\\\\runs\\\\ba_39_{norm_name}_{imp_name}{add_info}\\\\history_dfs\\\\7-data_analysis-differential_expression-t_test-de_proteins_df.csv\")\n",
    "            pred_positives_protein_list = long_to_wide(pred_positives_df).columns\n",
    "            classification = classify(roc_df[\"Protein ID\"],pred_positives_protein_list)\n",
    "\n",
    "            pred_classification_df = pd.DataFrame()\n",
    "            pred_classification_df[\"Protein ID\"] = roc_df[\"Protein ID\"]\n",
    "            pred_classification_df[\"pred classification\"] = classification\n",
    "            \n",
    "            roc_df = roc_df.join(pred_classification_df.set_index('Protein ID'), on=\"Protein ID\")\n",
    "\n",
    "            # create ROC curves\n",
    "            fpr, tpr, thresholds = metrics.roc_curve(roc_df[\"classification\"], roc_df[\"pred classification\"],pos_label=1)\n",
    "            roc_auc = metrics.auc(fpr, tpr)\n",
    "            auc_dict[id] = roc_auc\n",
    "            display = metrics.RocCurveDisplay(fpr=fpr, tpr=tpr, roc_auc=roc_auc,estimator_name='example estimator')\n",
    "            display.plot()\n",
    "            plt.savefig(f\"{PROJECT_PATH}\\\\user_data\\\\plots\\\\{id}.svg\",format=\"svg\")\n",
    "            plt.close()\n",
    "            roc_df.drop(columns=[\"pred classification\"],inplace=True)\n"
   ]
  },
  {
   "cell_type": "markdown",
   "metadata": {},
   "source": [
    "### Create method ranking"
   ]
  },
  {
   "cell_type": "code",
   "execution_count": 10,
   "metadata": {},
   "outputs": [],
   "source": [
    "ranked_methods = {}\n",
    "for combination in method_combinations:\n",
    "    norm_name, imp_name, add_info = extract_method_info(combination[0], combination[1])\n",
    "    id = f\"{norm_name}_{imp_name}{add_info}\"\n",
    "    ranked_methods[id] = auc_dict[id]\n",
    "ranked_methods = sorted(ranked_methods.items(), key=lambda x:x[1],reverse=True)\n"
   ]
  },
  {
   "cell_type": "code",
   "execution_count": 11,
   "metadata": {},
   "outputs": [
    {
     "data": {
      "text/plain": [
       "[('median_knn', 0.8604157008190388),\n",
       " ('z_score_knn', 0.8326379230412609),\n",
       " ('z_score_simple_imputation_per_proteinmedian', 0.75),\n",
       " ('totalsum_knn', 0.6759259259259259)]"
      ]
     },
     "execution_count": 11,
     "metadata": {},
     "output_type": "execute_result"
    }
   ],
   "source": [
    "ranked_methods"
   ]
  }
 ],
 "metadata": {
  "kernelspec": {
   "display_name": "protzilla2",
   "language": "python",
   "name": "python3"
  },
  "language_info": {
   "codemirror_mode": {
    "name": "ipython",
    "version": 3
   },
   "file_extension": ".py",
   "mimetype": "text/x-python",
   "name": "python",
   "nbconvert_exporter": "python",
   "pygments_lexer": "ipython3",
   "version": "3.11.4"
  },
  "orig_nbformat": 4
 },
 "nbformat": 4,
 "nbformat_minor": 2
}
