{
 "cells": [
  {
   "cell_type": "code",
   "execution_count": 24,
   "metadata": {},
   "outputs": [],
   "source": [
    "import matplotlib.pyplot as plt\n",
    "import numpy as np\n",
    "from sklearn import metrics\n",
    "import pandas as pd\n",
    "from protzilla.constants.paths import PROJECT_PATH\n",
    "from protzilla.utilities.transform_dfs import long_to_wide"
   ]
  },
  {
   "cell_type": "code",
   "execution_count": 25,
   "metadata": {},
   "outputs": [],
   "source": [
    "probabilities = [0,0.05,0.1,0.15,0.2,0.25,0.3,0.4,0.5]"
   ]
  },
  {
   "cell_type": "code",
   "execution_count": 26,
   "metadata": {},
   "outputs": [],
   "source": [
    "norm_methods = [\n",
    "    {\"method\":\"z_score\",\"parameters\":{}},\n",
    "    {\"method\":\"median\",\"parameters\":{\"percentile\":0.5}},\n",
    "    {\"method\":\"totalsum\",\"parameters\":{}}\n",
    "]"
   ]
  },
  {
   "cell_type": "code",
   "execution_count": 27,
   "metadata": {},
   "outputs": [],
   "source": [
    "imp_methods = [\n",
    "    {\"method\":\"min_value_per_sample\",\"parameters\":{\"shrinking_value\":1}},\n",
    "    {\"method\":\"simple_imputation_per_protein\",\"parameters\":{\"strategy\":\"median\"}},\n",
    "    {\"method\":\"simple_imputation_per_protein\",\"parameters\":{\"strategy\":\"most_frequent\"}},\n",
    "    {\"method\":\"knn\",\"parameters\":{\"number_of_neighbours\":5}}\n",
    "    ]"
   ]
  },
  {
   "cell_type": "code",
   "execution_count": 28,
   "metadata": {},
   "outputs": [],
   "source": [
    "method_combinations = [({\"method\":\"z_score\",\"parameters\":{}, \"fc_threshold\":0.4237},{\"method\":\"knn\",\"parameters\":{\"number_of_neighbours\":5}}),\n",
    "                       ({\"method\":\"z_score\",\"parameters\":{}, \"fc_threshold\":0.4237},{\"method\":\"simple_imputation_per_protein\",\"parameters\":{\"strategy\":\"median\"}}),\n",
    "                       ({\"method\":\"totalsum\",\"parameters\":{},\"fc_threshold\":0.00004422884}, {\"method\":\"knn\",\"parameters\":{\"number_of_neighbours\":5}}),\n",
    "                       ({\"method\":\"median\",\"parameters\":{\"percentile\":0.5},\"fc_threshold\":0.0474},{\"method\":\"knn\",\"parameters\":{\"number_of_neighbours\":5}})]"
   ]
  },
  {
   "cell_type": "code",
   "execution_count": 29,
   "metadata": {},
   "outputs": [],
   "source": [
    "def extract_method_info(norm_method,imp_method):\n",
    "    norm_name = norm_method[\"method\"]\n",
    "    imp_name = imp_method[\"method\"]\n",
    "    try:\n",
    "        add_info = imp_method[\"parameters\"][\"strategy\"]\n",
    "    except:\n",
    "        add_info = \"\"\n",
    "\n",
    "    return norm_name, imp_name, add_info"
   ]
  },
  {
   "cell_type": "code",
   "execution_count": 30,
   "metadata": {},
   "outputs": [],
   "source": [
    "def classify(proteins, pred_positives):\n",
    "    classification = []\n",
    "    for protein in proteins:\n",
    "        if protein in pred_positives:\n",
    "            classification.append(1)\n",
    "        else:\n",
    "            classification.append(0)\n",
    "    return classification"
   ]
  },
  {
   "attachments": {},
   "cell_type": "markdown",
   "metadata": {},
   "source": [
    "### 0,1"
   ]
  },
  {
   "cell_type": "code",
   "execution_count": 31,
   "metadata": {},
   "outputs": [],
   "source": [
    "true_positives_df = pd.read_csv(f\"{PROJECT_PATH}\\\\user_data\\\\runs\\\\ba_39_gt_new_fc\\\\history_dfs\\\\6-data_analysis-differential_expression-t_test-de_proteins_df.csv\")\n",
    "true_positives_protein_list = long_to_wide(true_positives_df).columns\n",
    "all_proteins_df = pd.read_csv(f\"{PROJECT_PATH}\\\\user_data\\\\runs\\\\ba_39_gt_new_fc\\\\history_dfs\\\\6-data_analysis-differential_expression-t_test-corrected_p_values_df.csv\")\n",
    "roc_df = pd.DataFrame()\n",
    "roc_df[\"Protein ID\"] = all_proteins_df[\"Protein ID\"]\n",
    "classification = classify(all_proteins_df[\"Protein ID\"],true_positives_protein_list)\n",
    "roc_df[\"classification\"] = classification"
   ]
  },
  {
   "cell_type": "code",
   "execution_count": 32,
   "metadata": {},
   "outputs": [],
   "source": [
    "auc_dict = {}\n",
    "for combination in method_combinations:\n",
    "            norm_name, imp_name, add_info = extract_method_info(combination[0], combination[1])\n",
    "            id = f\"{norm_name}_{imp_name}{add_info}\"\n",
    "                     \n",
    "            pred_positives_df = pd.read_csv(f\"{PROJECT_PATH}\\\\user_data\\\\runs\\\\ba_39_{norm_name}_{imp_name}{add_info}_new_fc\\\\history_dfs\\\\7-data_analysis-differential_expression-t_test-de_proteins_df.csv\")\n",
    "            pred_positives_protein_list = long_to_wide(pred_positives_df).columns\n",
    "            classification = classify(roc_df[\"Protein ID\"],pred_positives_protein_list)\n",
    "\n",
    "            pred_classification_df = pd.DataFrame()\n",
    "            pred_classification_df[\"Protein ID\"] = roc_df[\"Protein ID\"]\n",
    "            pred_classification_df[\"pred classification\"] = classification\n",
    "            \n",
    "            roc_df = roc_df.join(pred_classification_df.set_index('Protein ID'), on=\"Protein ID\")\n",
    "\n",
    "            fpr, tpr, thresholds = metrics.roc_curve(roc_df[\"classification\"], roc_df[\"pred classification\"],pos_label=1)\n",
    "            roc_auc = metrics.auc(fpr, tpr)\n",
    "            auc_dict[id] = roc_auc\n",
    "            display = metrics.RocCurveDisplay(fpr=fpr, tpr=tpr, roc_auc=roc_auc,estimator_name='example estimator')\n",
    "            display.plot()\n",
    "            plt.savefig(f\"{PROJECT_PATH}\\\\user_data\\\\plots\\\\{id}_new_fc.svg\",format=\"svg\")\n",
    "            plt.close()\n",
    "            roc_df.drop(columns=[\"pred classification\"],inplace=True)\n"
   ]
  },
  {
   "cell_type": "code",
   "execution_count": 33,
   "metadata": {},
   "outputs": [],
   "source": [
    "ranked_methods = {}\n",
    "for combination in method_combinations:\n",
    "    norm_name, imp_name, add_info = extract_method_info(combination[0], combination[1])\n",
    "    id = f\"{norm_name}_{imp_name}{add_info}\"\n",
    "    ranked_methods[id] = auc_dict[id]\n",
    "ranked_methods = sorted(ranked_methods.items(), key=lambda x:x[1],reverse=True)\n"
   ]
  },
  {
   "cell_type": "code",
   "execution_count": 34,
   "metadata": {},
   "outputs": [
    {
     "data": {
      "text/plain": [
       "[('median_knn', 0.8604157008190388),\n",
       " ('z_score_knn', 0.8326379230412609),\n",
       " ('z_score_simple_imputation_per_proteinmedian', 0.75),\n",
       " ('totalsum_knn', 0.6759259259259259)]"
      ]
     },
     "execution_count": 34,
     "metadata": {},
     "output_type": "execute_result"
    }
   ],
   "source": [
    "ranked_methods"
   ]
  },
  {
   "cell_type": "markdown",
   "metadata": {},
   "source": [
    "### plots"
   ]
  },
  {
   "cell_type": "code",
   "execution_count": 35,
   "metadata": {},
   "outputs": [],
   "source": [
    "def get_fpr_tpr(fpr,tpr):\n",
    "    fpr = 0 if len(fpr) == 2 else fpr[1]\n",
    "    tpr = 0 if len(tpr) == 2 else tpr[1]\n",
    "    return fpr,tpr"
   ]
  },
  {
   "cell_type": "code",
   "execution_count": 36,
   "metadata": {},
   "outputs": [],
   "source": [
    "auc_dict = {}\n",
    "tpr_dict = {}\n",
    "fpr_dict = {}\n",
    "for combination in method_combinations:\n",
    "    norm_method = combination[0]\n",
    "    imp_method = combination[1]    \n",
    "    norm_name, imp_name, add_info = extract_method_info(norm_method, imp_method)\n",
    "    id = f\"{norm_name}_{imp_name}{add_info}\"\n",
    "                     \n",
    "    pred_positives_df = pd.read_csv(f\"{PROJECT_PATH}\\\\user_data\\\\runs\\\\ba_39_{norm_name}_{imp_name}{add_info}\\\\history_dfs\\\\7-data_analysis-differential_expression-t_test-de_proteins_df.csv\")\n",
    "    pred_positives_protein_list = pred_positives_df[\"Protein ID\"].unique().tolist()\n",
    "    classification = classify(roc_df[\"Protein ID\"],pred_positives_protein_list)\n",
    "\n",
    "    pred_classification_df = pd.DataFrame()\n",
    "    pred_classification_df[\"Protein ID\"] = roc_df[\"Protein ID\"]\n",
    "    pred_classification_df[\"pred classification\"] = classification\n",
    "            \n",
    "    roc_df = roc_df.join(pred_classification_df.set_index('Protein ID'), on=\"Protein ID\")\n",
    "\n",
    "    fpr, tpr, thresholds = metrics.roc_curve(roc_df[\"classification\"], roc_df[\"pred classification\"],pos_label=1)\n",
    "\n",
    "    roc_df.drop(columns=[\"pred classification\"],inplace=True)\n",
    "\n",
    "            #curve = metrics.RocCurveDisplay(fpr=fpr, tpr=tpr, roc_auc=roc_auc,estimator_name='example estimator')\n",
    "    \n",
    "    if add_info != \"\":\n",
    "        name = f\"{norm_name}_{add_info}\"\n",
    "    else:\n",
    "        name = f\"{norm_name}_{imp_name}\"\n",
    "    plt.plot(fpr,tpr,label=name)\n",
    "\n",
    "    fpr,tpr = get_fpr_tpr(fpr,tpr)\n",
    "    tpr_dict[id] = tpr\n",
    "    fpr_dict[id] = fpr\n",
    "\n",
    "plt.legend()\n",
    "\n",
    "plt.xlabel(\"fpr\")\n",
    "plt.ylabel(\"tpr\")\n",
    "plt.title(f\"ROC curves for ba_39 dataset\")\n",
    "plt.savefig(f\"{PROJECT_PATH}\\\\user_data\\\\plots\\\\roc_curves\\\\ba_39_roc_new_fc.png\",format=\"png\")\n",
    "plt.close()\n",
    "            "
   ]
  },
  {
   "cell_type": "code",
   "execution_count": 14,
   "metadata": {},
   "outputs": [
    {
     "name": "stdout",
     "output_type": "stream",
     "text": [
      "tpr\n",
      "dict_items([('z_score_knn', 0.35), ('z_score_simple_imputation_per_proteinmedian', 0.28125), ('totalsum_knn', 0.0125), ('median_knn', 0.4625)])\n",
      "fpr\n",
      "dict_items([('z_score_knn', 0.008532423208191127), ('z_score_simple_imputation_per_proteinmedian', 0.0008532423208191126), ('totalsum_knn', 0.0), ('median_knn', 0.016211604095563138)])\n"
     ]
    }
   ],
   "source": [
    "print(\"tpr\")\n",
    "print(tpr_dict.items())\n",
    "print(\"fpr\")\n",
    "print(fpr_dict.items())"
   ]
  }
 ],
 "metadata": {
  "kernelspec": {
   "display_name": "protzilla2",
   "language": "python",
   "name": "python3"
  },
  "language_info": {
   "codemirror_mode": {
    "name": "ipython",
    "version": 3
   },
   "file_extension": ".py",
   "mimetype": "text/x-python",
   "name": "python",
   "nbconvert_exporter": "python",
   "pygments_lexer": "ipython3",
   "version": "3.11.4"
  },
  "orig_nbformat": 4
 },
 "nbformat": 4,
 "nbformat_minor": 2
}
