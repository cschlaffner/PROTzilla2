{
 "cells": [
  {
   "cell_type": "code",
   "execution_count": 32,
   "outputs": [],
   "source": [
    "import pandas as pd\n",
    "import numpy as np\n",
    "import scipy.stats\n",
    "import matplotlib.pyplot as plt"
   ],
   "metadata": {
    "collapsed": false,
    "pycharm": {
     "name": "#%%\n"
    }
   }
  },
  {
   "cell_type": "code",
   "execution_count": 33,
   "outputs": [],
   "source": [
    "# load all dfs\n",
    "enrichr_df = pd.read_csv(\"enr_data/Enrichr_df.csv\", index_col=0) # sorted by Term alphabetically\n",
    "offline_df = pd.read_csv(\"enr_data/offline_df.csv\", index_col=0) # sorted by Term alphabetically\n",
    "string_df = pd.read_csv(\"enr_data/string_df.csv\", index_col=0) # already sorted by fdr & by raw p-value\n",
    "gsea_df = pd.read_csv(\"enr_data/gsea_df.csv\", index_col=0) # sorted by absoulte NES\n",
    "preranked_df = pd.read_csv(\"enr_data/preranked_df.csv\", index_col=0) # sorted by absoulte NES"
   ],
   "metadata": {
    "collapsed": false,
    "pycharm": {
     "name": "#%%\n"
    }
   }
  },
  {
   "cell_type": "code",
   "execution_count": 34,
   "outputs": [],
   "source": [
    "# sorting\n",
    "enrichr_df.sort_values(by=['Adjusted P-value'], inplace=True, ascending=True)\n",
    "offline_df.sort_values(by=['Adjusted P-value'], inplace=True, ascending=True)\n",
    "enrichr_df.reset_index(drop=True, inplace=True)\n",
    "offline_df.reset_index(drop=True, inplace=True)"
   ],
   "metadata": {
    "collapsed": false,
    "pycharm": {
     "name": "#%%\n"
    }
   }
  },
  {
   "cell_type": "code",
   "execution_count": 35,
   "outputs": [],
   "source": [
    "# make index ranks\n",
    "enrichr_df.index = enrichr_df.index + 1\n",
    "offline_df.index = offline_df.index + 1\n",
    "string_df.index = string_df.index + 1\n",
    "gsea_df.index = gsea_df.index + 1\n",
    "preranked_df.index = preranked_df.index + 1"
   ],
   "metadata": {
    "collapsed": false,
    "pycharm": {
     "name": "#%%\n"
    }
   }
  },
  {
   "cell_type": "code",
   "execution_count": 36,
   "outputs": [
    {
     "name": "stdout",
     "output_type": "stream",
     "text": [
      "Gene_set             True\n",
      "Term                 True\n",
      "Overlap              True\n",
      "P-value              True\n",
      "Adjusted P-value     True\n",
      "Odds Ratio           True\n",
      "Combined Score       True\n",
      "Genes               False\n",
      "Proteins            False\n",
      "dtype: bool\n",
      "(224, 9)\n"
     ]
    }
   ],
   "source": [
    "enrichr_old_df = pd.read_csv(\"enr_data/Enrichr_df_old.csv\", index_col=0)\n",
    "enrichr_old_df.sort_values(by=['Adjusted P-value'], inplace=True, ascending=True)\n",
    "enrichr_old_df.reset_index(drop=True, inplace=True)\n",
    "enrichr_old_df.index = enrichr_old_df.index + 1\n",
    "print((enrichr_df == enrichr_old_df).all())\n",
    "print(enrichr_df.shape)\n"
   ],
   "metadata": {
    "collapsed": false,
    "pycharm": {
     "name": "#%%\n"
    }
   }
  },
  {
   "cell_type": "code",
   "execution_count": 37,
   "outputs": [
    {
     "name": "stdout",
     "output_type": "stream",
     "text": [
      "                                                 Term\n",
      "1        Response to elevated platelet cytosolic Ca2+\n",
      "2                              Platelet degranulation\n",
      "3      Platelet activation, signaling and aggregation\n",
      "4          Intrinsic Pathway of Fibrin Clot Formation\n",
      "5          Post-translational protein phosphorylation\n",
      "6   Regulation of Insulin-like Growth Factor (IGF)...\n",
      "7         Formation of Fibrin Clot (Clotting Cascade)\n",
      "8                       Retinoid cycle disease events\n",
      "9                                  Alanine metabolism\n",
      "10                    Diseases of the neuronal system\n"
     ]
    }
   ],
   "source": [
    "print(enrichr_df.iloc[:10, 1:5].drop(columns=[\"Overlap\", \"P-value\", \"Adjusted P-value\"]))\n",
    "# a lot of duplicate values\n",
    "# print(string_df[\"description\"])"
   ],
   "metadata": {
    "collapsed": false,
    "pycharm": {
     "name": "#%%\n"
    }
   }
  },
  {
   "cell_type": "code",
   "execution_count": 7,
   "outputs": [],
   "source": [
    "# functions\n",
    "def jaccard_similarity(A, B):\n",
    "    nominator = A.intersection(B)\n",
    "    denominator = A.union(B)\n",
    "    similarity = len(nominator)/len(denominator)\n",
    "    return similarity\n",
    "\n",
    "def mean_rank_difference(rank_dict_a, rank_dict_b):\n",
    "    total_diff = 0\n",
    "    rank_diff_list=[]\n",
    "\n",
    "    for element, rank_b in rank_dict_b.items():\n",
    "        if element in rank_dict_a:\n",
    "            rank_a = rank_dict_a[element]\n",
    "            rank_diff = abs(rank_a - rank_b)\n",
    "            total_diff += rank_diff\n",
    "            rank_diff_list.append(rank_diff)\n",
    "\n",
    "    mean_rank_diff = total_diff / len(rank_dict_b)\n",
    "    return mean_rank_diff, rank_diff_list"
   ],
   "metadata": {
    "collapsed": false,
    "pycharm": {
     "name": "#%%\n"
    }
   }
  },
  {
   "cell_type": "markdown",
   "source": [
    "## check if enrichr and offline are the same"
   ],
   "metadata": {
    "collapsed": false
   }
  },
  {
   "cell_type": "code",
   "execution_count": 8,
   "metadata": {
    "collapsed": true
   },
   "outputs": [
    {
     "data": {
      "text/plain": "True"
     },
     "execution_count": 8,
     "metadata": {},
     "output_type": "execute_result"
    }
   ],
   "source": [
    "enrichr_df.compare(offline_df, align_axis=1, keep_shape=True)\n",
    "all(enrichr_df == offline_df)"
   ]
  },
  {
   "cell_type": "markdown",
   "source": [
    "compare GO enrichment methods"
   ],
   "metadata": {
    "collapsed": false
   }
  },
  {
   "cell_type": "code",
   "execution_count": 9,
   "outputs": [
    {
     "name": "stdout",
     "output_type": "stream",
     "text": [
      "number of\n",
      "enriched terms GSEApy 224 enriched terms STRING 5\n"
     ]
    }
   ],
   "source": [
    "print(\"number of\")\n",
    "print(\"enriched terms GSEApy\", enrichr_df.shape[0], \"enriched terms STRING\", string_df.shape[0])"
   ],
   "metadata": {
    "collapsed": false,
    "pycharm": {
     "name": "#%%\n"
    }
   }
  },
  {
   "cell_type": "code",
   "execution_count": 10,
   "outputs": [
    {
     "name": "stdout",
     "output_type": "stream",
     "text": [
      "found\n",
      "found\n",
      "found\n",
      "found\n",
      "found\n"
     ]
    }
   ],
   "source": [
    "# Can all of the string enriched terms be found in GSEApy results?\n",
    "for term in string_df[\"description\"].tolist():\n",
    "    if term not in enrichr_df[\"Term\"].tolist():\n",
    "        print(term)\n",
    "    else:\n",
    "        print(\"found\")"
   ],
   "metadata": {
    "collapsed": false,
    "pycharm": {
     "name": "#%%\n"
    }
   }
  },
  {
   "cell_type": "code",
   "execution_count": 11,
   "outputs": [
    {
     "name": "stdout",
     "output_type": "stream",
     "text": [
      "Gene_set True\n",
      "Term False\n",
      "Overlap False\n",
      "P-value False\n",
      "Adjusted P-value True\n",
      "Odds Ratio False\n",
      "Combined Score False\n",
      "Genes False\n",
      "Proteins False\n"
     ]
    }
   ],
   "source": [
    "for col in enrichr_df.columns: # on column to find out if already sorted\n",
    "    print(col, enrichr_df[col].is_monotonic_increasing)"
   ],
   "metadata": {
    "collapsed": false,
    "pycharm": {
     "name": "#%%\n"
    }
   }
  },
  {
   "cell_type": "code",
   "execution_count": 12,
   "outputs": [
    {
     "name": "stdout",
     "output_type": "stream",
     "text": [
      "                Gene_set                                               Term  \\\n",
      "2   ReactomePathways.gmt                             Platelet degranulation   \n",
      "4   ReactomePathways.gmt         Intrinsic Pathway of Fibrin Clot Formation   \n",
      "5   ReactomePathways.gmt         Post-translational protein phosphorylation   \n",
      "6   ReactomePathways.gmt  Regulation of Insulin-like Growth Factor (IGF)...   \n",
      "13  ReactomePathways.gmt                                         Hemostasis   \n",
      "\n",
      "   Overlap       P-value  Adjusted P-value  Odds Ratio  Combined Score  \\\n",
      "2     9/82  2.466298e-07          0.000034   11.758513      178.910215   \n",
      "4     4/15  1.838297e-05          0.000877   27.238770      297.013883   \n",
      "5     6/51  1.958012e-05          0.000877   12.213309      132.404435   \n",
      "6     6/56  3.379333e-05          0.001262   11.121316      114.496698   \n",
      "13  11/288  3.079131e-04          0.005306    4.068858       32.899538   \n",
      "\n",
      "                                                Genes  \\\n",
      "2   CLEC3B;KNG1;A1BG;ITIH4;CLU;AHSG;A2M;SERPING1;A...   \n",
      "4                          A2M;SERPIND1;SERPING1;KNG1   \n",
      "5                   KNG1;AHSG;SERPIND1;CP;ITIH2;APOA1   \n",
      "6                   KNG1;AHSG;SERPIND1;CP;ITIH2;APOA1   \n",
      "13  CLEC3B;KNG1;A1BG;ITIH4;CLU;AHSG;A2M;SERPIND1;A...   \n",
      "\n",
      "                                             Proteins  \n",
      "2   P20742;B4DW11;B7Z8Q7;P10909-5;Q6LDQ3;E9KL26;P0...  \n",
      "4   P20742;Q8IVC0;E9KL26;P05155-3;Q9BQ22;P05546;A0...  \n",
      "5   Q8IVC0;B3KTA8;D6RE86;H7C5N5;A2RTY6;Q8TDB0;A0A0...  \n",
      "6   Q8IVC0;B3KTA8;D6RE86;H7C5N5;A2RTY6;Q8TDB0;A0A0...  \n",
      "13  P20742;B4DW11;B7Z8Q7;Q8IVC0;P10909-5;Q6LDQ3;E9...  \n"
     ]
    }
   ],
   "source": [
    "overlap_df = enrichr_df.loc[enrichr_df[\"Term\"].isin(string_df[\"description\"].tolist())]\n",
    "print(overlap_df)"
   ],
   "metadata": {
    "collapsed": false,
    "pycharm": {
     "name": "#%%\n"
    }
   }
  },
  {
   "cell_type": "code",
   "execution_count": 13,
   "outputs": [
    {
     "data": {
      "text/plain": "<Figure size 640x480 with 1 Axes>",
      "image/png": "[encoded data removed]"
     },
     "metadata": {},
     "output_type": "display_data"
    }
   ],
   "source": [
    "# venn diagram\n",
    "#Import libraries\n",
    "from matplotlib_venn import venn2, venn2_circles, venn2_unweighted, venn3_unweighted\n",
    "from matplotlib import pyplot as plt\n",
    "# venn2(subsets = (224, 0, 5), set_labels = ('Group A', 'Group B'), set_colors=('skyblue', 'red'), alpha = 0.7)\n",
    "venn2_unweighted(subsets = (219, 0, 5), set_labels = ('GO_analysis_offline / \\n GO_analysis_with_Enrichr', 'GO_analysis_with_STRING'), set_colors=(\"b\",\"g\"), alpha = 0.5);\n",
    "plt.savefig(\"VENN_GO.pdf\", dpi=300)\n",
    "# venn3_unweighted(subsets = (0, 0, 219, 0, 0, 0, 5), set_labels = ('GO_analysis_offline', 'GO_analysis_with_Enrichr', 'GO_analysis_with_STRING'), alpha = 0.5);\n",
    "# plt.savefig(\"VENN_GO3.pdf\", dpi=300)"
   ],
   "metadata": {
    "collapsed": false,
    "pycharm": {
     "name": "#%%\n"
    }
   }
  },
  {
   "cell_type": "code",
   "execution_count": 14,
   "outputs": [
    {
     "name": "stdout",
     "output_type": "stream",
     "text": [
      "jaccard index 0.022321428571428572\n",
      "jaccard top ten 0.36363636363636365\n",
      "jaccard top five 0.42857142857142855\n"
     ]
    }
   ],
   "source": [
    "# jaccard index\n",
    "enrichr_terms = enrichr_df[\"Term\"]\n",
    "string_terms = string_df[\"description\"]\n",
    "\n",
    "enrichr_terms_s = set(enrichr_df[\"Term\"])\n",
    "string_terms_s = set(string_df[\"description\"])\n",
    "print(\"jaccard index\", jaccard_similarity(enrichr_terms_s, string_terms_s))\n",
    "\n",
    "enrichr_top_ten = set(enrichr_df.loc[:10, \"Term\"])\n",
    "print(\"jaccard top ten\", jaccard_similarity(enrichr_top_ten, string_terms))\n",
    "\n",
    "enrichr_top_ten = set(enrichr_df.loc[:5, \"Term\"])\n",
    "print(\"jaccard top five\", jaccard_similarity(enrichr_top_ten, string_terms))"
   ],
   "metadata": {
    "collapsed": false,
    "pycharm": {
     "name": "#%%\n"
    }
   }
  },
  {
   "cell_type": "code",
   "execution_count": 15,
   "outputs": [
    {
     "name": "stdout",
     "output_type": "stream",
     "text": [
      "mean rank difference 3.4\n"
     ]
    }
   ],
   "source": [
    "string_dict = dict(zip(string_df[\"description\"], string_df.index))\n",
    "overlap_dict = dict(zip(overlap_df[\"Term\"], overlap_df.index))\n",
    "# print(string_dict)\n",
    "# print(overlap_dict)\n",
    "print(\"mean rank difference\", mean_rank_difference(string_dict, overlap_dict)[0])"
   ],
   "metadata": {
    "collapsed": false,
    "pycharm": {
     "name": "#%%\n"
    }
   }
  },
  {
   "cell_type": "code",
   "execution_count": 16,
   "outputs": [
    {
     "name": "stdout",
     "output_type": "stream",
     "text": [
      "[1, 2, 3, 4, 5]\n",
      "[2, 4, 5, 6, 13]\n",
      "numpy [[1.         0.90711474]\n",
      " [0.90711474 1.        ]]\n",
      "scipy PearsonRResult(statistic=0.9071147352221454, pvalue=0.03350493454730273)\n",
      "test PearsonRResult(statistic=0.8905881248488705, pvalue=0.0427239621501428)\n",
      "spearman 0.8660254037844387\n",
      "SignificanceResult(statistic=0.9746794344808963, pvalue=0.004818230468198566)\n",
      "SignificanceResult(statistic=0.9746794344808963, pvalue=0.004818230468198566)\n"
     ]
    }
   ],
   "source": [
    "# pearson correlation of ranks\n",
    "print(x := list(string_dict.values()))\n",
    "print(y := overlap_df.index.tolist())\n",
    "print(\"numpy\", np.corrcoef(x,y))\n",
    "print(\"scipy\", scipy.stats.pearsonr(x, y))\n",
    "print(\"test\", scipy.stats.pearsonr(np.array([1,2, 3, 4, 5]), np.array([1, 5, 4, 6, 13])))\n",
    "\n",
    "# should this be on the values not on the ranks?\n",
    "a = np.array(overlap_df[\"Adjusted P-value\"])\n",
    "b = np.array(string_df[\"p_value\"])\n",
    "print(\"spearman\", overlap_df[\"Adjusted P-value\"].corr(string_df[\"p_value\"], method=\"spearman\"))\n",
    "xy = np.array([np.array(overlap_df[\"Adjusted P-value\"]),np.array(string_df[\"p_value\"])], dtype=object)\n",
    "print(scipy.stats.spearmanr(a,b, axis=1))\n",
    "print(scipy.stats.spearmanr(xy, axis=1))"
   ],
   "metadata": {
    "collapsed": false,
    "pycharm": {
     "name": "#%%\n"
    }
   }
  },
  {
   "cell_type": "code",
   "execution_count": 17,
   "outputs": [
    {
     "data": {
      "text/plain": "<Figure size 640x480 with 1 Axes>",
      "image/png": "[encoded data removed]"
     },
     "metadata": {},
     "output_type": "display_data"
    }
   ],
   "source": [
    "# plot\n",
    "plt.style.use('ggplot')\n",
    "slope, intercept, r, p, stderr = scipy.stats.linregress(x, y)\n",
    "# line = f'Regression line: y={intercept:.2f}+{slope:.2f}x, r={r:.2f}'\n",
    "line = f'r={r:.2f}'\n",
    "# print(line)\n",
    "\n",
    "fig, ax = plt.subplots()\n",
    "ax.plot(x, y, linewidth=0, marker='s', label=line)\n",
    "# ax.plot(x, intercept + slope * x, label=line)\n",
    "ax.set_xlabel('Rank in GO_analysis_with_STRING')\n",
    "ax.set_ylabel('Rank in GO_analysis_with_Enrichr / \\n GO_analysis_offline')\n",
    "ax.legend(facecolor='white')\n",
    "ax.set_xticks(range(int(min(x)), int(max(x)) + 1))\n",
    "plt.savefig(\"pearson_GO.pdf\", dpi=300)\n",
    "plt.show()"
   ],
   "metadata": {
    "collapsed": false,
    "pycharm": {
     "name": "#%%\n"
    }
   }
  },
  {
   "cell_type": "markdown",
   "source": [],
   "metadata": {
    "collapsed": false
   }
  },
  {
   "cell_type": "markdown",
   "source": [],
   "metadata": {
    "collapsed": false
   }
  },
  {
   "cell_type": "markdown",
   "source": [
    "## GSEA Methods"
   ],
   "metadata": {
    "collapsed": false
   }
  },
  {
   "cell_type": "code",
   "execution_count": 19,
   "outputs": [
    {
     "name": "stdout",
     "output_type": "stream",
     "text": [
      "True\n",
      "Name             True\n",
      "Term             True\n",
      "ES               True\n",
      "NES              True\n",
      "NOM p-val        True\n",
      "FDR q-val        True\n",
      "FWER p-val       True\n",
      "Tag %            True\n",
      "Gene %           True\n",
      "Lead_genes       True\n",
      "Lead_proteins    True\n",
      "abs_NES          True\n",
      "dtype: bool\n",
      "True\n"
     ]
    },
    {
     "ename": "ValueError",
     "evalue": "Can only compare identically-labeled DataFrame objects",
     "output_type": "error",
     "traceback": [
      "\u001B[1;31m---------------------------------------------------------------------------\u001B[0m",
      "\u001B[1;31mValueError\u001B[0m                                Traceback (most recent call last)",
      "Cell \u001B[1;32mIn[19], line 12\u001B[0m\n\u001B[0;32m     10\u001B[0m \u001B[38;5;28mprint\u001B[39m(preranked_df[\u001B[38;5;124m\"\u001B[39m\u001B[38;5;124mabs_NES\u001B[39m\u001B[38;5;124m\"\u001B[39m]\u001B[38;5;241m.\u001B[39mis_monotonic_decreasing)\n\u001B[0;32m     11\u001B[0m preranked_df\u001B[38;5;241m.\u001B[39mdrop(columns\u001B[38;5;241m=\u001B[39m\u001B[38;5;124m\"\u001B[39m\u001B[38;5;124mabs_NES\u001B[39m\u001B[38;5;124m\"\u001B[39m)\n\u001B[1;32m---> 12\u001B[0m \u001B[38;5;28mprint\u001B[39m((\u001B[43mcopied_df\u001B[49m\u001B[43m \u001B[49m\u001B[38;5;241;43m==\u001B[39;49m\u001B[43m \u001B[49m\u001B[43mpreranked_df\u001B[49m)\u001B[38;5;241m.\u001B[39mall())\n",
      "File \u001B[1;32m~\\anaconda3\\envs\\prot3\\Lib\\site-packages\\pandas\\core\\ops\\common.py:72\u001B[0m, in \u001B[0;36m_unpack_zerodim_and_defer.<locals>.new_method\u001B[1;34m(self, other)\u001B[0m\n\u001B[0;32m     68\u001B[0m             \u001B[38;5;28;01mreturn\u001B[39;00m \u001B[38;5;28mNotImplemented\u001B[39m\n\u001B[0;32m     70\u001B[0m other \u001B[38;5;241m=\u001B[39m item_from_zerodim(other)\n\u001B[1;32m---> 72\u001B[0m \u001B[38;5;28;01mreturn\u001B[39;00m \u001B[43mmethod\u001B[49m\u001B[43m(\u001B[49m\u001B[38;5;28;43mself\u001B[39;49m\u001B[43m,\u001B[49m\u001B[43m \u001B[49m\u001B[43mother\u001B[49m\u001B[43m)\u001B[49m\n",
      "File \u001B[1;32m~\\anaconda3\\envs\\prot3\\Lib\\site-packages\\pandas\\core\\arraylike.py:42\u001B[0m, in \u001B[0;36mOpsMixin.__eq__\u001B[1;34m(self, other)\u001B[0m\n\u001B[0;32m     40\u001B[0m \u001B[38;5;129m@unpack_zerodim_and_defer\u001B[39m(\u001B[38;5;124m\"\u001B[39m\u001B[38;5;124m__eq__\u001B[39m\u001B[38;5;124m\"\u001B[39m)\n\u001B[0;32m     41\u001B[0m \u001B[38;5;28;01mdef\u001B[39;00m \u001B[38;5;21m__eq__\u001B[39m(\u001B[38;5;28mself\u001B[39m, other):\n\u001B[1;32m---> 42\u001B[0m     \u001B[38;5;28;01mreturn\u001B[39;00m \u001B[38;5;28;43mself\u001B[39;49m\u001B[38;5;241;43m.\u001B[39;49m\u001B[43m_cmp_method\u001B[49m\u001B[43m(\u001B[49m\u001B[43mother\u001B[49m\u001B[43m,\u001B[49m\u001B[43m \u001B[49m\u001B[43moperator\u001B[49m\u001B[38;5;241;43m.\u001B[39;49m\u001B[43meq\u001B[49m\u001B[43m)\u001B[49m\n",
      "File \u001B[1;32m~\\anaconda3\\envs\\prot3\\Lib\\site-packages\\pandas\\core\\frame.py:7579\u001B[0m, in \u001B[0;36mDataFrame._cmp_method\u001B[1;34m(self, other, op)\u001B[0m\n\u001B[0;32m   7576\u001B[0m \u001B[38;5;28;01mdef\u001B[39;00m \u001B[38;5;21m_cmp_method\u001B[39m(\u001B[38;5;28mself\u001B[39m, other, op):\n\u001B[0;32m   7577\u001B[0m     axis \u001B[38;5;241m=\u001B[39m \u001B[38;5;241m1\u001B[39m  \u001B[38;5;66;03m# only relevant for Series other case\u001B[39;00m\n\u001B[1;32m-> 7579\u001B[0m     \u001B[38;5;28mself\u001B[39m, other \u001B[38;5;241m=\u001B[39m \u001B[43mops\u001B[49m\u001B[38;5;241;43m.\u001B[39;49m\u001B[43malign_method_FRAME\u001B[49m\u001B[43m(\u001B[49m\u001B[38;5;28;43mself\u001B[39;49m\u001B[43m,\u001B[49m\u001B[43m \u001B[49m\u001B[43mother\u001B[49m\u001B[43m,\u001B[49m\u001B[43m \u001B[49m\u001B[43maxis\u001B[49m\u001B[43m,\u001B[49m\u001B[43m \u001B[49m\u001B[43mflex\u001B[49m\u001B[38;5;241;43m=\u001B[39;49m\u001B[38;5;28;43;01mFalse\u001B[39;49;00m\u001B[43m,\u001B[49m\u001B[43m \u001B[49m\u001B[43mlevel\u001B[49m\u001B[38;5;241;43m=\u001B[39;49m\u001B[38;5;28;43;01mNone\u001B[39;49;00m\u001B[43m)\u001B[49m\n\u001B[0;32m   7581\u001B[0m     \u001B[38;5;66;03m# See GH#4537 for discussion of scalar op behavior\u001B[39;00m\n\u001B[0;32m   7582\u001B[0m     new_data \u001B[38;5;241m=\u001B[39m \u001B[38;5;28mself\u001B[39m\u001B[38;5;241m.\u001B[39m_dispatch_frame_op(other, op, axis\u001B[38;5;241m=\u001B[39maxis)\n",
      "File \u001B[1;32m~\\anaconda3\\envs\\prot3\\Lib\\site-packages\\pandas\\core\\ops\\__init__.py:289\u001B[0m, in \u001B[0;36malign_method_FRAME\u001B[1;34m(left, right, axis, flex, level)\u001B[0m\n\u001B[0;32m    287\u001B[0m             left, right \u001B[38;5;241m=\u001B[39m left\u001B[38;5;241m.\u001B[39malign(right, join\u001B[38;5;241m=\u001B[39m\u001B[38;5;124m\"\u001B[39m\u001B[38;5;124mouter\u001B[39m\u001B[38;5;124m\"\u001B[39m, level\u001B[38;5;241m=\u001B[39mlevel, copy\u001B[38;5;241m=\u001B[39m\u001B[38;5;28;01mFalse\u001B[39;00m)\n\u001B[0;32m    288\u001B[0m         \u001B[38;5;28;01melse\u001B[39;00m:\n\u001B[1;32m--> 289\u001B[0m             \u001B[38;5;28;01mraise\u001B[39;00m \u001B[38;5;167;01mValueError\u001B[39;00m(\n\u001B[0;32m    290\u001B[0m                 \u001B[38;5;124m\"\u001B[39m\u001B[38;5;124mCan only compare identically-labeled DataFrame objects\u001B[39m\u001B[38;5;124m\"\u001B[39m\n\u001B[0;32m    291\u001B[0m             )\n\u001B[0;32m    292\u001B[0m \u001B[38;5;28;01melif\u001B[39;00m \u001B[38;5;28misinstance\u001B[39m(right, ABCSeries):\n\u001B[0;32m    293\u001B[0m     \u001B[38;5;66;03m# axis=1 is default for DataFrame-with-Series op\u001B[39;00m\n\u001B[0;32m    294\u001B[0m     axis \u001B[38;5;241m=\u001B[39m left\u001B[38;5;241m.\u001B[39m_get_axis_number(axis) \u001B[38;5;28;01mif\u001B[39;00m axis \u001B[38;5;129;01mis\u001B[39;00m \u001B[38;5;129;01mnot\u001B[39;00m \u001B[38;5;28;01mNone\u001B[39;00m \u001B[38;5;28;01melse\u001B[39;00m \u001B[38;5;241m1\u001B[39m\n",
      "\u001B[1;31mValueError\u001B[0m: Can only compare identically-labeled DataFrame objects"
     ]
    }
   ],
   "source": [
    "# sorted by absolute NES value\n",
    "copied_df = gsea_df.copy(deep=True)\n",
    "gsea_df[\"abs_NES\"]=gsea_df[\"NES\"].abs()\n",
    "print(gsea_df[\"abs_NES\"].is_monotonic_decreasing)\n",
    "gsea_df.drop(columns=\"abs_NES\")\n",
    "print((copied_df == gsea_df).all())\n",
    "#---\n",
    "copied_df = preranked_df.copy(deep=True)\n",
    "preranked_df[\"abs_NES\"]=preranked_df[\"NES\"].abs()\n",
    "print(preranked_df[\"abs_NES\"].is_monotonic_decreasing)\n",
    "preranked_df.drop(columns=\"abs_NES\")\n",
    "print((copied_df == preranked_df).all())"
   ],
   "metadata": {
    "collapsed": false,
    "pycharm": {
     "name": "#%%\n"
    }
   }
  },
  {
   "cell_type": "code",
   "execution_count": 20,
   "outputs": [
    {
     "name": "stdout",
     "output_type": "stream",
     "text": [
      "                                    Term\n",
      "1                             Metabolism\n",
      "2                                Disease\n",
      "3                 Metabolism of proteins\n",
      "4   Metabolism of vitamins and cofactors\n",
      "5           Transport of small molecules\n",
      "6                          Immune System\n",
      "7                   Innate Immune System\n",
      "8            Metabolism of carbohydrates\n",
      "9                Amyloid fiber formation\n",
      "10         Cellular responses to stimuli\n"
     ]
    }
   ],
   "source": [
    "# get top enriched terms\n",
    "print(gsea_df.iloc[:10,1:2])\n",
    "# print(preranked_df.iloc[:10,1:2])"
   ],
   "metadata": {
    "collapsed": false,
    "pycharm": {
     "name": "#%%\n"
    }
   }
  },
  {
   "cell_type": "code",
   "execution_count": 21,
   "outputs": [
    {
     "name": "stdout",
     "output_type": "stream",
     "text": [
      "(224, 12)\n",
      "(224, 12)\n",
      "similar terms: 224\n",
      "A - B: 0\n"
     ]
    }
   ],
   "source": [
    "# are the 224 terms similar?\n",
    "print(gsea_df.shape)\n",
    "print(preranked_df.shape)\n",
    "gsea_terms_s = set(gsea_df[\"Term\"])\n",
    "preranked_terms_s = set(preranked_df[\"Term\"])\n",
    "print(\"similar terms:\", len(gsea_terms_s.intersection(preranked_terms_s)))\n",
    "print(\"A - B:\", len(gsea_terms_s.difference(preranked_terms_s)))"
   ],
   "metadata": {
    "collapsed": false,
    "pycharm": {
     "name": "#%%\n"
    }
   }
  },
  {
   "cell_type": "code",
   "execution_count": 22,
   "outputs": [
    {
     "name": "stdout",
     "output_type": "stream",
     "text": [
      "similar terms in top 10:  1\n",
      "A - B: 9\n"
     ]
    }
   ],
   "source": [
    "# similar terms in top ten\n",
    "gsea_top_ten = set(gsea_df.loc[:10, \"Term\"])\n",
    "preranked_top_ten = set(preranked_df.loc[:10, \"Term\"])\n",
    "print(\"similar terms in top 10: \", len(gsea_top_ten.intersection(preranked_top_ten)))\n",
    "print(\"A - B:\", len(gsea_top_ten.difference(preranked_top_ten)))"
   ],
   "metadata": {
    "collapsed": false,
    "pycharm": {
     "name": "#%%\n"
    }
   }
  },
  {
   "cell_type": "code",
   "execution_count": 23,
   "outputs": [
    {
     "name": "stdout",
     "output_type": "stream",
     "text": [
      "jaccard index 1.0\n",
      "jaccard top ten 0.05263157894736842\n",
      "jaccard top 50 0.5625\n",
      "jaccard top 100 0.6949152542372882\n"
     ]
    }
   ],
   "source": [
    "# jaccard index\n",
    "print(\"jaccard index\", jaccard_similarity(gsea_terms_s, preranked_terms_s))\n",
    "\n",
    "gsea_top_ten = set(gsea_df.loc[:10, \"Term\"])\n",
    "preranked_top_ten = set(preranked_df.loc[:10, \"Term\"])\n",
    "print(\"jaccard top ten\", jaccard_similarity(gsea_top_ten, preranked_top_ten))\n",
    "\n",
    "gsea_top_50 = set(gsea_df.loc[:50, \"Term\"])\n",
    "preranked_top_50 = set(preranked_df.loc[:50, \"Term\"])\n",
    "print(\"jaccard top 50\", jaccard_similarity(gsea_top_50, preranked_top_50))\n",
    "\n",
    "gsea_top_100 = set(gsea_df.loc[:100, \"Term\"])\n",
    "preranked_top_100 = set(preranked_df.loc[:100, \"Term\"])\n",
    "print(\"jaccard top 100\", jaccard_similarity(gsea_top_100, preranked_top_100))"
   ],
   "metadata": {
    "collapsed": false,
    "pycharm": {
     "name": "#%%\n"
    }
   }
  },
  {
   "cell_type": "code",
   "execution_count": 24,
   "outputs": [
    {
     "name": "stdout",
     "output_type": "stream",
     "text": [
      "mean rank difference 22.785714285714285\n"
     ]
    }
   ],
   "source": [
    "# MRD\n",
    "gsea_dict = dict(zip(gsea_df[\"Term\"], gsea_df.index))\n",
    "preranked_dict = dict(zip(preranked_df[\"Term\"], preranked_df.index))\n",
    "#print(preranked_dict)\n",
    "# print(gsea_dict)\n",
    "print(\"mean rank difference\", mean_rank_difference(gsea_dict, preranked_dict)[0])\n"
   ],
   "metadata": {
    "collapsed": false,
    "pycharm": {
     "name": "#%%\n"
    }
   }
  },
  {
   "cell_type": "code",
   "execution_count": 25,
   "outputs": [
    {
     "name": "stdout",
     "output_type": "stream",
     "text": [
      "22.785714285714285\n",
      "14.0\n"
     ]
    },
    {
     "data": {
      "text/plain": "<Figure size 640x480 with 1 Axes>",
      "image/png": "[encoded data removed]"
     },
     "metadata": {},
     "output_type": "display_data"
    }
   ],
   "source": [
    "mean_difference, differences = mean_rank_difference(gsea_dict, preranked_dict)\n",
    "print(\"mean difference\", sum(differences)/len(differences))\n",
    "print(\"median\", np.median(np.array(differences)))\n",
    "plt.hist(differences, bins=20, color='skyblue', edgecolor='black')\n",
    "plt.axvline(mean_difference, color='red', linestyle='dashed', linewidth=2, label='Mean Difference')\n",
    "plt.xlabel('Absolute Difference of Ranks')\n",
    "plt.ylabel('Frequency')\n",
    "plt.title('Distribution of Rank Differences')\n",
    "plt.legend()\n",
    "plt.show()"
   ],
   "metadata": {
    "collapsed": false,
    "pycharm": {
     "name": "#%%\n"
    }
   }
  },
  {
   "cell_type": "code",
   "execution_count": null,
   "outputs": [],
   "source": [
    "# Calculate the frequency of each absolute difference value\n",
    "unique_diff, counts = np.unique(differences, return_counts=True)\n",
    "\n",
    "# Create a bar plot to show the rank differences\n",
    "plt.bar(unique_diff, counts, color='skyblue', edgecolor='black')\n",
    "plt.axhline(np.mean(counts), color='red', linestyle='dashed', linewidth=2, label='Mean Frequency')\n",
    "plt.xlabel('Absolute Difference of Ranks')\n",
    "plt.ylabel('Frequency')\n",
    "plt.title('Distribution of Rank Differences')\n",
    "plt.legend()\n",
    "plt.show()"
   ],
   "metadata": {
    "collapsed": false,
    "pycharm": {
     "name": "#%%\n"
    }
   }
  },
  {
   "cell_type": "code",
   "execution_count": 26,
   "outputs": [
    {
     "name": "stdout",
     "output_type": "stream",
     "text": [
      "                                   Term  df_2_index\n",
      "0                            Metabolism          24\n",
      "1                               Disease          36\n",
      "2                Metabolism of proteins          10\n",
      "3  Metabolism of vitamins and cofactors          15\n",
      "4          Transport of small molecules         183\n",
      "5                         Immune System          73\n",
      "6                  Innate Immune System          72\n",
      "7           Metabolism of carbohydrates          91\n",
      "8               Amyloid fiber formation          32\n",
      "9         Cellular responses to stimuli         150\n",
      "       Name        Term        ES       NES  NOM p-val  FDR q-val  FWER p-val  \\\n",
      "24  prerank  Metabolism  0.675924  1.219237     0.1002        1.0         1.0   \n",
      "\n",
      "   Tag %  Gene %                           Lead_genes  \\\n",
      "24  7/18  28.07%  TTR;RBP4;PRELP;GATM;DDAH1;APOA1;LUM   \n",
      "\n",
      "                                        Lead_proteins   abs_NES  \n",
      "24  A0A087WT59;A0A087WV45;A6XGL1;A6XMH1;E9KL36;P02...  1.219237  \n"
     ]
    }
   ],
   "source": [
    "# pearson correlation of ranks\n",
    "x = gsea_df.index.tolist() # use gsea as \"truth\"\n",
    "# get ranks for values in gsea_df from preranked_df\n",
    "df_2 = gsea_df\n",
    "df_1 = preranked_df\n",
    "\n",
    "# Add a temporary column to preserve the original index order\n",
    "df_1['temp_index'] = df_1.index\n",
    "df_2['temp_index'] = df_2.index\n",
    "# Merge the two DataFrames based on the \"Term\" column\n",
    "merged = df_2.merge(df_1, on='Term', how='left', indicator=True)\n",
    "# Sort the result based on the index from df_1 to get the corresponding index in df_2\n",
    "result = merged.sort_values(by='temp_index_x')[['Term', 'temp_index_y']]\n",
    "# Rename the column to \"df_2_index\" for clarity\n",
    "result.rename(columns={'temp_index_y': 'df_2_index'}, inplace=True)\n",
    "# Drop the temporary columns\n",
    "df_1.drop(columns='temp_index', inplace=True)\n",
    "df_2.drop(columns='temp_index', inplace=True)\n",
    "print(result.iloc[:10])\n",
    "print(preranked_df.iloc[23:24])"
   ],
   "metadata": {
    "collapsed": false,
    "pycharm": {
     "name": "#%%\n"
    }
   }
  },
  {
   "cell_type": "code",
   "execution_count": 31,
   "outputs": [
    {
     "name": "stdout",
     "output_type": "stream",
     "text": [
      "numpy [[1.         0.83294896]\n",
      " [0.83294896 1.        ]]\n",
      "scipy PearsonRResult(statistic=0.8329489643390989, pvalue=5.659187971720786e-59)\n",
      "spearman 0.9987874443699682\n",
      "SignificanceResult(statistic=0.9987874443699682, pvalue=2.5396646378527927e-292)\n",
      "SignificanceResult(statistic=0.21209140055654085, pvalue=0.001408335256337268)\n"
     ]
    }
   ],
   "source": [
    "# pearson correlation of ranks\n",
    "x = gsea_df.index.tolist() # use gsea as \"truth\"\n",
    "\n",
    "def sort_dict_by_order(reference_dict, dict_to_sort):\n",
    "    sorted_items = sorted(dict_to_sort.items(), key=lambda x: list(reference_dict.keys()).index(x[0]))\n",
    "    sorted_dict = {k: v for k, v in sorted_items}\n",
    "    return sorted_dict\n",
    "\n",
    "preranked_dict_sorted = sort_dict_by_order(gsea_dict, preranked_dict)\n",
    "y = list(preranked_dict_sorted.values())\n",
    "\n",
    "print(\"numpy\", np.corrcoef(x,y))\n",
    "print(\"scipy\", scipy.stats.pearsonr(x, y))\n",
    "\n",
    "# should this be on the values not on the ranks?\n",
    "a = np.array(gsea_df[\"NES\"])\n",
    "b = np.array(preranked_df[\"NES\"])\n",
    "gsea_df[\"abs_NES\"] = gsea_df[\"NES\"].abs()\n",
    "preranked_df[\"abs_NES\"] = preranked_df[\"abs_NES\"].abs()\n",
    "print(\"spearman\", gsea_df[\"abs_NES\"].corr(preranked_df[\"abs_NES\"], method=\"spearman\"))\n",
    "print(scipy.stats.spearmanr(np.array(gsea_df[\"abs_NES\"]),np.array(preranked_df[\"abs_NES\"]), axis=1))\n",
    "print(scipy.stats.spearmanr(a,b, axis=1))"
   ],
   "metadata": {
    "collapsed": false,
    "pycharm": {
     "name": "#%%\n"
    }
   }
  },
  {
   "cell_type": "code",
   "execution_count": null,
   "outputs": [],
   "source": [
    "# stronger relationship between later ranks?\n",
    "print(\"numpy\", np.corrcoef(x[50:],y[50:]))\n",
    "print(\"scipy\", scipy.stats.pearsonr(x[50:], y[50:]))"
   ],
   "metadata": {
    "collapsed": false,
    "pycharm": {
     "name": "#%%\n"
    }
   }
  },
  {
   "cell_type": "code",
   "execution_count": null,
   "outputs": [],
   "source": [
    "# plot\n",
    "x = np.array(x)\n",
    "y = np.array(y)\n",
    "plt.style.use('ggplot')\n",
    "slope, intercept, r, p, stderr = scipy.stats.linregress(x, y)\n",
    "line = f'Regression line: y={intercept:.2f}+{slope:.2f}x, r={r:.2f}'\n",
    "print(line)\n",
    "\n",
    "fig, ax = plt.subplots()\n",
    "ax.plot(x, y, linewidth=0, marker='s')\n",
    "# ax.plot(x, intercept + slope * x, label=line)\n",
    "ax.set_xlabel('Rank in gsea')\n",
    "ax.set_ylabel('Rank in gsea_preranked')\n",
    "# Set the x and y axis ticks starting from 1\n",
    "ax.set_xticks([1,50,100,150,200])\n",
    "ax.set_yticks([1,50,100,150,200])\n",
    "# ax.legend(facecolor='white')\n",
    "plt.savefig(\"pearson_GSEA.pdf\", dpi=300)\n",
    "plt.show()"
   ],
   "metadata": {
    "collapsed": false,
    "pycharm": {
     "name": "#%%\n"
    }
   }
  },
  {
   "cell_type": "code",
   "execution_count": null,
   "outputs": [],
   "source": [
    "# plot\n",
    "x = preranked_df.index.tolist()\n",
    "\n",
    "def sort_dict_by_order(reference_dict, dict_to_sort):\n",
    "    sorted_items = sorted(dict_to_sort.items(), key=lambda x: list(reference_dict.keys()).index(x[0]))\n",
    "    sorted_dict = {k: v for k, v in sorted_items}\n",
    "    return sorted_dict\n",
    "\n",
    "gsea_dict_sorted = sort_dict_by_order(preranked_dict, gsea_dict)\n",
    "y = list(gsea_dict_sorted.values())\n",
    "\n",
    "x = np.array(x)\n",
    "y = np.array(y)\n",
    "plt.style.use('ggplot')\n",
    "slope, intercept, r, p, stderr = scipy.stats.linregress(x, y)\n",
    "line = f'Regression line: y={intercept:.2f}+{slope:.2f}x, r={r:.2f}'\n",
    "print(line)\n",
    "\n",
    "fig, ax = plt.subplots()\n",
    "ax.plot(x, y, linewidth=0, marker='s')\n",
    "ax.plot(x, intercept + slope * x, label=line)\n",
    "ax.set_xlabel('Rank in preranked')\n",
    "ax.set_ylabel('Rank in gsea')\n",
    "# Set the x and y axis ticks starting from 1\n",
    "ax.set_xticks([1,50,100,150,200])\n",
    "ax.set_yticks([1,50,100,150,200])\n",
    "ax.legend(facecolor='white')\n",
    "plt.savefig(\"pearson_GSEA2.pdf\", dpi=300)\n",
    "plt.show()"
   ],
   "metadata": {
    "collapsed": false,
    "pycharm": {
     "name": "#%%\n"
    }
   }
  },
  {
   "cell_type": "code",
   "execution_count": null,
   "outputs": [],
   "source": [
    "# overlap ranks und common number\n",
    "# print(gsea_dict.keys())\n",
    "# print(preranked_dict)\n",
    "\n",
    "common = []\n",
    "for i in range(1, len(preranked_dict)+1):\n",
    "    common.append(len(set(list(preranked_dict.keys())[:i]).intersection(set(list(gsea_dict.keys())[:i]))))\n",
    "\n",
    "# Create the line plot\n",
    "plt.plot(range(1, len(preranked_dict)+1), common, linestyle='-', linewidth=2.5)\n",
    "\n",
    "# Add labels and title\n",
    "plt.xlabel('Rank')\n",
    "plt.ylabel('Number of common elements')\n",
    "plt.title('Title')\n",
    "\n",
    "# Display the plot\n",
    "plt.show()"
   ],
   "metadata": {
    "collapsed": false,
    "pycharm": {
     "name": "#%%\n"
    }
   }
  },
  {
   "cell_type": "code",
   "execution_count": null,
   "outputs": [],
   "source": [
    "# overlap ranks und jaccard index\n",
    "jac = []\n",
    "for i in range(1, len(preranked_dict)+1):\n",
    "    p_set = set(list(preranked_dict.keys())[:i])\n",
    "    g_set = set(list(gsea_dict.keys())[:i])\n",
    "    jac.append(jaccard_similarity(p_set, g_set))\n",
    "# Create the line plot\n",
    "plt.plot(range(1, len(preranked_dict)+1), jac, linestyle='-', linewidth=2.5)\n",
    "\n",
    "# Add labels and title\n",
    "plt.xlabel('Rank')\n",
    "plt.ylabel('Jaccard index')\n",
    "plt.title('Title')\n",
    "\n",
    "# Display the plot\n",
    "plt.show()"
   ],
   "metadata": {
    "collapsed": false,
    "pycharm": {
     "name": "#%%\n"
    }
   }
  },
  {
   "cell_type": "code",
   "execution_count": null,
   "outputs": [],
   "source": [],
   "metadata": {
    "collapsed": false,
    "pycharm": {
     "name": "#%%\n"
    }
   }
  },
  {
   "cell_type": "markdown",
   "source": [
    "## GSEA rankings"
   ],
   "metadata": {
    "collapsed": false
   }
  },
  {
   "cell_type": "code",
   "execution_count": null,
   "outputs": [],
   "source": [
    "gsea_rank = pd.read_csv(\"enr_data/gsea-ranking.csv\")\n",
    "pre_rank = pd.read_csv(\"enr_data/preranked_ranking.csv\")"
   ],
   "metadata": {
    "collapsed": false,
    "pycharm": {
     "name": "#%%\n"
    }
   }
  }
 ],
 "metadata": {
  "kernelspec": {
   "display_name": "Python 3",
   "language": "python",
   "name": "python3"
  },
  "language_info": {
   "codemirror_mode": {
    "name": "ipython",
    "version": 2
   },
   "file_extension": ".py",
   "mimetype": "text/x-python",
   "name": "python",
   "nbconvert_exporter": "python",
   "pygments_lexer": "ipython2",
   "version": "2.7.6"
  }
 },
 "nbformat": 4,
 "nbformat_minor": 0
}