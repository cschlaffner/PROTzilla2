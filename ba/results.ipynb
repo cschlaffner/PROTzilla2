{
 "cells": [
  {
   "cell_type": "code",
   "execution_count": 1,
   "outputs": [],
   "source": [
    "import pandas as pd"
   ],
   "metadata": {
    "collapsed": false,
    "pycharm": {
     "name": "#%%\n"
    }
   }
  },
  {
   "cell_type": "code",
   "execution_count": 11,
   "outputs": [],
   "source": [
    "# load all dfs\n",
    "enrichr_df = pd.read_csv(\"enr_data/Enrichr_df.csv\", index_col=0) # sorted by Term alphabetically\n",
    "offline_df = pd.read_csv(\"enr_data/offline_df.csv\", index_col=0) # sorted by Term alphabetically\n",
    "string_df = pd.read_csv(\"enr_data/string_df.csv\", index_col=0) # already sorted by fdr & by raw p-value\n",
    "gsea_df = pd.read_csv(\"enr_data/gsea_df.csv\", index_col=0) # sorted by absoulte NES\n",
    "preranked_df = pd.read_csv(\"enr_data/preranked_df.csv\", index_col=0) # sorted by absoulte NES"
   ],
   "metadata": {
    "collapsed": false,
    "pycharm": {
     "name": "#%%\n"
    }
   }
  },
  {
   "cell_type": "code",
   "execution_count": 37,
   "outputs": [
    {
     "name": "stdout",
     "output_type": "stream",
     "text": [
      "                 Gene_set                                            Term  \\\n",
      "174  ReactomePathways.gmt    Response to elevated platelet cytosolic Ca2+   \n",
      "145  ReactomePathways.gmt                          Platelet degranulation   \n",
      "143  ReactomePathways.gmt  Platelet activation, signaling and aggregation   \n",
      "92   ReactomePathways.gmt      Intrinsic Pathway of Fibrin Clot Formation   \n",
      "148  ReactomePathways.gmt      Post-translational protein phosphorylation   \n",
      "\n",
      "    Overlap       P-value  Adjusted P-value  Odds Ratio  Combined Score  \\\n",
      "174    9/84  3.044820e-07          0.000034   11.475569      172.186938   \n",
      "145    9/82  2.466298e-07          0.000034   11.758513      178.910215   \n",
      "143   9/129  1.145495e-05          0.000855    7.419854       84.416339   \n",
      "92     4/15  1.838297e-05          0.000877   27.238770      297.013883   \n",
      "148    6/51  1.958012e-05          0.000877   12.213309      132.404435   \n",
      "\n",
      "                                                 Genes  \\\n",
      "174  APOA1;AHSG;KNG1;ITIH4;CLEC3B;A1BG;SERPING1;A2M...   \n",
      "145  APOA1;AHSG;KNG1;ITIH4;CLEC3B;A1BG;SERPING1;A2M...   \n",
      "143  APOA1;AHSG;KNG1;ITIH4;CLEC3B;A1BG;SERPING1;A2M...   \n",
      "92                          A2M;KNG1;SERPIND1;SERPING1   \n",
      "148                  APOA1;AHSG;KNG1;SERPIND1;CP;ITIH2   \n",
      "\n",
      "                                              Proteins  \n",
      "174  P10909-5;P05452;F8W696;P02765;B7Z7M2;P01042-3;...  \n",
      "145  P10909-5;P05452;F8W696;P02765;B7Z7M2;P01042-3;...  \n",
      "143  P10909-5;P05452;F8W696;P02765;B7Z7M2;P01042-3;...  \n",
      "92   B7Z7M2;P01042-3;P20742;D3DNU8;Q9BQ22;H0YFH1;E9...  \n",
      "148  A0A087WTE1;A2RTY6;F8W696;P02765;P01042-3;Q1L85...  \n",
      "               Gene_set                                            Term  \\\n",
      "0  ReactomePathways.gmt    Response to elevated platelet cytosolic Ca2+   \n",
      "1  ReactomePathways.gmt                          Platelet degranulation   \n",
      "2  ReactomePathways.gmt  Platelet activation, signaling and aggregation   \n",
      "3  ReactomePathways.gmt      Intrinsic Pathway of Fibrin Clot Formation   \n",
      "4  ReactomePathways.gmt      Post-translational protein phosphorylation   \n",
      "\n",
      "  Overlap       P-value  Adjusted P-value  Odds Ratio  Combined Score  \\\n",
      "0    9/84  3.044820e-07          0.000034   11.475569      172.186938   \n",
      "1    9/82  2.466298e-07          0.000034   11.758513      178.910215   \n",
      "2   9/129  1.145495e-05          0.000855    7.419854       84.416339   \n",
      "3    4/15  1.838297e-05          0.000877   27.238770      297.013883   \n",
      "4    6/51  1.958012e-05          0.000877   12.213309      132.404435   \n",
      "\n",
      "                                               Genes  \\\n",
      "0  APOA1;AHSG;KNG1;ITIH4;CLEC3B;A1BG;SERPING1;A2M...   \n",
      "1  APOA1;AHSG;KNG1;ITIH4;CLEC3B;A1BG;SERPING1;A2M...   \n",
      "2  APOA1;AHSG;KNG1;ITIH4;CLEC3B;A1BG;SERPING1;A2M...   \n",
      "3                         A2M;KNG1;SERPIND1;SERPING1   \n",
      "4                  APOA1;AHSG;KNG1;SERPIND1;CP;ITIH2   \n",
      "\n",
      "                                            Proteins  \n",
      "0  P10909-5;P05452;F8W696;P02765;B7Z7M2;P01042-3;...  \n",
      "1  P10909-5;P05452;F8W696;P02765;B7Z7M2;P01042-3;...  \n",
      "2  P10909-5;P05452;F8W696;P02765;B7Z7M2;P01042-3;...  \n",
      "3  B7Z7M2;P01042-3;P20742;D3DNU8;Q9BQ22;H0YFH1;E9...  \n",
      "4  A0A087WTE1;A2RTY6;F8W696;P02765;P01042-3;Q1L85...  \n"
     ]
    }
   ],
   "source": [
    "# sorting\n",
    "enrichr_df.sort_values(by=['Adjusted P-value'], inplace=True, ascending=True)\n",
    "offline_df.sort_values(by=['Adjusted P-value'], inplace=True, ascending=True)\n",
    "enrichr_df.reset_index(drop=True, inplace=True)\n",
    "offline_df.reset_index(drop=True, inplace=True)\n",
    "print(enrichr_df.head())"
   ],
   "metadata": {
    "collapsed": false,
    "pycharm": {
     "name": "#%%\n"
    }
   }
  },
  {
   "cell_type": "markdown",
   "source": [
    "check if enrichr and offline are the same"
   ],
   "metadata": {
    "collapsed": false
   }
  },
  {
   "cell_type": "code",
   "execution_count": 10,
   "metadata": {
    "collapsed": true
   },
   "outputs": [
    {
     "data": {
      "text/plain": "True"
     },
     "execution_count": 10,
     "metadata": {},
     "output_type": "execute_result"
    }
   ],
   "source": [
    "enrichr_df.compare(offline_df, align_axis=1, keep_shape=True)\n",
    "all(enrichr_df == offline_df)"
   ]
  },
  {
   "cell_type": "markdown",
   "source": [
    "compare GO enrichment methods"
   ],
   "metadata": {
    "collapsed": false
   }
  },
  {
   "cell_type": "code",
   "execution_count": 12,
   "outputs": [
    {
     "name": "stdout",
     "output_type": "stream",
     "text": [
      "enriched terms GSEApy 224 enriched terms STRING 5\n"
     ]
    }
   ],
   "source": [
    "print(\"number of\")\n",
    "print(\"enriched terms GSEApy\", enrichr_df.shape[0], \"enriched terms STRING\", string_df.shape[0])"
   ],
   "metadata": {
    "collapsed": false,
    "pycharm": {
     "name": "#%%\n"
    }
   }
  },
  {
   "cell_type": "code",
   "execution_count": 15,
   "outputs": [
    {
     "name": "stdout",
     "output_type": "stream",
     "text": [
      "found\n",
      "found\n",
      "found\n",
      "found\n",
      "found\n"
     ]
    }
   ],
   "source": [
    "# Can all of the string enriched terms be found in GSEApy results?\n",
    "for term in string_df[\"description\"].tolist():\n",
    "    if term not in enrichr_df[\"Term\"].tolist():\n",
    "        print(term)\n",
    "    else:\n",
    "        print(\"found\")"
   ],
   "metadata": {
    "collapsed": false,
    "pycharm": {
     "name": "#%%\n"
    }
   }
  },
  {
   "cell_type": "code",
   "execution_count": 35,
   "outputs": [
    {
     "name": "stdout",
     "output_type": "stream",
     "text": [
      "Gene_set True\n",
      "Term False\n",
      "Overlap False\n",
      "P-value False\n",
      "Adjusted P-value True\n",
      "Odds Ratio False\n",
      "Combined Score False\n",
      "Genes False\n",
      "Proteins False\n"
     ]
    }
   ],
   "source": [
    "for col in enrichr_df.columns: # on column to find out if already sorted\n",
    "    print(col, enrichr_df[col].is_monotonic_increasing)"
   ],
   "metadata": {
    "collapsed": false,
    "pycharm": {
     "name": "#%%\n"
    }
   }
  },
  {
   "cell_type": "code",
   "execution_count": null,
   "outputs": [],
   "source": [],
   "metadata": {
    "collapsed": false,
    "pycharm": {
     "name": "#%%\n"
    }
   }
  },
  {
   "cell_type": "code",
   "execution_count": 38,
   "outputs": [
    {
     "name": "stdout",
     "output_type": "stream",
     "text": [
      "                Gene_set                                               Term  \\\n",
      "1   ReactomePathways.gmt                             Platelet degranulation   \n",
      "3   ReactomePathways.gmt         Intrinsic Pathway of Fibrin Clot Formation   \n",
      "4   ReactomePathways.gmt         Post-translational protein phosphorylation   \n",
      "5   ReactomePathways.gmt  Regulation of Insulin-like Growth Factor (IGF)...   \n",
      "12  ReactomePathways.gmt                                         Hemostasis   \n",
      "\n",
      "   Overlap       P-value  Adjusted P-value  Odds Ratio  Combined Score  \\\n",
      "1     9/82  2.466298e-07          0.000034   11.758513      178.910215   \n",
      "3     4/15  1.838297e-05          0.000877   27.238770      297.013883   \n",
      "4     6/51  1.958012e-05          0.000877   12.213309      132.404435   \n",
      "5     6/56  3.379333e-05          0.001262   11.121316      114.496698   \n",
      "12  11/288  3.079131e-04          0.005306    4.068858       32.899538   \n",
      "\n",
      "                                                Genes  \\\n",
      "1   APOA1;AHSG;KNG1;ITIH4;CLEC3B;A1BG;SERPING1;A2M...   \n",
      "3                          A2M;KNG1;SERPIND1;SERPING1   \n",
      "4                   APOA1;AHSG;KNG1;SERPIND1;CP;ITIH2   \n",
      "5                   APOA1;AHSG;KNG1;SERPIND1;CP;ITIH2   \n",
      "12  APOA1;AHSG;KNG1;CLU;ITIH4;SERPIND1;CLEC3B;A1BG...   \n",
      "\n",
      "                                             Proteins  \n",
      "1   P10909-5;P05452;F8W696;P02765;B7Z7M2;P01042-3;...  \n",
      "3   B7Z7M2;P01042-3;P20742;D3DNU8;Q9BQ22;H0YFH1;E9...  \n",
      "4   A0A087WTE1;A2RTY6;F8W696;P02765;P01042-3;Q1L85...  \n",
      "5   A0A087WTE1;A2RTY6;F8W696;P02765;P01042-3;Q1L85...  \n",
      "12  P10909-5;P05452;F8W696;P02765;B7Z7M2;P01042-3;...  \n"
     ]
    }
   ],
   "source": [
    "overlap_df = enrichr_df.loc[enrichr_df[\"Term\"].isin(string_df[\"description\"].tolist())]\n",
    "print(overlap_df)"
   ],
   "metadata": {
    "collapsed": false,
    "pycharm": {
     "name": "#%%\n"
    }
   }
  },
  {
   "cell_type": "code",
   "execution_count": 54,
   "outputs": [
    {
     "name": "stdout",
     "output_type": "stream",
     "text": [
      "jaccard index 0.022321428571428572\n",
      "jaccard top ten 0.3333333333333333\n",
      "jaccard top five 0.5714285714285714\n"
     ]
    }
   ],
   "source": [
    "# jaccard index\n",
    "enrichr_terms = enrichr_df[\"Term\"]\n",
    "string_terms = string_df[\"description\"]\n",
    "\n",
    "def jaccard_similarity(A, B):\n",
    "    nominator = A.intersection(B)\n",
    "    denominator = A.union(B)\n",
    "    similarity = len(nominator)/len(denominator)\n",
    "    return similarity\n",
    "\n",
    "enrichr_terms_s = set(enrichr_df[\"Term\"])\n",
    "string_terms_s = set(string_df[\"description\"])\n",
    "print(\"jaccard index\", jaccard_similarity(enrichr_terms_s, string_terms_s))\n",
    "\n",
    "enrichr_top_ten = set(enrichr_df.loc[:10, \"Term\"])\n",
    "print(\"jaccard top ten\", jaccard_similarity(enrichr_top_ten, string_terms))\n",
    "\n",
    "enrichr_top_ten = set(enrichr_df.loc[:5, \"Term\"])\n",
    "print(\"jaccard top five\", jaccard_similarity(enrichr_top_ten, string_terms))"
   ],
   "metadata": {
    "collapsed": false,
    "pycharm": {
     "name": "#%%\n"
    }
   }
  },
  {
   "cell_type": "code",
   "execution_count": 64,
   "outputs": [
    {
     "name": "stdout",
     "output_type": "stream",
     "text": [
      "mean rank difference 2.8\n"
     ]
    }
   ],
   "source": [
    "# mean rank difference\n",
    "# def mean_rank_difference(list_a, list_b):\n",
    "#     rank_dict = {element: index+1 for index, element in enumerate(list_a)}\n",
    "#     total_diff = 0\n",
    "#\n",
    "#     for index, element in enumerate(list_b):\n",
    "#         if element in rank_dict:\n",
    "#             rank_a = rank_dict[element]\n",
    "#             rank_diff = abs(rank_a - (index+1))\n",
    "#             total_diff += rank_diff\n",
    "#\n",
    "#     mean_rank_diff = total_diff / len(list_b)\n",
    "#     return mean_rank_diff\n",
    "\n",
    "def mean_rank_difference(rank_dict_a, rank_dict_b):\n",
    "    total_diff = 0\n",
    "\n",
    "    for element, rank_b in rank_dict_b.items():\n",
    "        if element in rank_dict_a:\n",
    "            rank_a = rank_dict_a[element]\n",
    "            rank_diff = abs(rank_a - rank_b)\n",
    "            total_diff += rank_diff\n",
    "\n",
    "    mean_rank_diff = total_diff / len(rank_dict_b)\n",
    "    return mean_rank_diff\n",
    "\n",
    "string_dict = {element: index+1 for index, element in enumerate(string_terms)}\n",
    "overlap_dict = dict(zip(overlap_df[\"Term\"], overlap_df.index))\n",
    "# print(string_dict)\n",
    "# print(overlap_dict)\n",
    "print(\"mean rank difference\", mean_rank_difference(string_dict, overlap_dict))"
   ],
   "metadata": {
    "collapsed": false,
    "pycharm": {
     "name": "#%%\n"
    }
   }
  },
  {
   "cell_type": "code",
   "execution_count": null,
   "outputs": [],
   "source": [
    "# pearson correlation of ranks"
   ],
   "metadata": {
    "collapsed": false,
    "pycharm": {
     "name": "#%%\n"
    }
   }
  },
  {
   "cell_type": "markdown",
   "source": [],
   "metadata": {
    "collapsed": false
   }
  },
  {
   "cell_type": "markdown",
   "source": [],
   "metadata": {
    "collapsed": false
   }
  },
  {
   "cell_type": "code",
   "execution_count": 32,
   "outputs": [
    {
     "name": "stdout",
     "output_type": "stream",
     "text": [
      "Name True\n",
      "Term False\n",
      "ES False\n",
      "NES False\n",
      "NOM p-val False\n",
      "FDR q-val False\n",
      "FWER p-val False\n",
      "Tag % False\n",
      "Gene % False\n",
      "Lead_genes False\n",
      "Lead_proteins False\n"
     ]
    }
   ],
   "source": [
    "# sorted by absolute NES value"
   ],
   "metadata": {
    "collapsed": false,
    "pycharm": {
     "name": "#%%\n"
    }
   }
  },
  {
   "cell_type": "code",
   "execution_count": null,
   "outputs": [],
   "source": [],
   "metadata": {
    "collapsed": false,
    "pycharm": {
     "name": "#%%\n"
    }
   }
  }
 ],
 "metadata": {
  "kernelspec": {
   "display_name": "Python 3",
   "language": "python",
   "name": "python3"
  },
  "language_info": {
   "codemirror_mode": {
    "name": "ipython",
    "version": 2
   },
   "file_extension": ".py",
   "mimetype": "text/x-python",
   "name": "python",
   "nbconvert_exporter": "python",
   "pygments_lexer": "ipython2",
   "version": "2.7.6"
  }
 },
 "nbformat": 4,
 "nbformat_minor": 0
}