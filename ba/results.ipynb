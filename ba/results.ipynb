{
 "cells": [
  {
   "cell_type": "code",
   "execution_count": 1,
   "outputs": [],
   "source": [
    "import pandas as pd\n",
    "import numpy as np\n",
    "import scipy.stats\n",
    "import matplotlib.pyplot as plt"
   ],
   "metadata": {
    "collapsed": false,
    "pycharm": {
     "name": "#%%\n"
    }
   }
  },
  {
   "cell_type": "code",
   "execution_count": 2,
   "outputs": [],
   "source": [
    "# load all dfs\n",
    "enrichr_df = pd.read_csv(\"enr_data/Enrichr_df.csv\", index_col=0) # sorted by Term alphabetically\n",
    "offline_df = pd.read_csv(\"enr_data/offline_df.csv\", index_col=0) # sorted by Term alphabetically\n",
    "string_df = pd.read_csv(\"enr_data/string_df.csv\", index_col=0) # already sorted by fdr & by raw p-value\n",
    "gsea_df = pd.read_csv(\"enr_data/gsea_df.csv\", index_col=0) # sorted by absoulte NES\n",
    "preranked_df = pd.read_csv(\"enr_data/preranked_df.csv\", index_col=0) # sorted by absoulte NES"
   ],
   "metadata": {
    "collapsed": false,
    "pycharm": {
     "name": "#%%\n"
    }
   }
  },
  {
   "cell_type": "code",
   "execution_count": 3,
   "outputs": [],
   "source": [
    "# sorting\n",
    "enrichr_df.sort_values(by=['Adjusted P-value'], inplace=True, ascending=True)\n",
    "offline_df.sort_values(by=['Adjusted P-value'], inplace=True, ascending=True)\n",
    "enrichr_df.reset_index(drop=True, inplace=True)\n",
    "offline_df.reset_index(drop=True, inplace=True)"
   ],
   "metadata": {
    "collapsed": false,
    "pycharm": {
     "name": "#%%\n"
    }
   }
  },
  {
   "cell_type": "code",
   "execution_count": 4,
   "outputs": [],
   "source": [
    "# make index ranks\n",
    "enrichr_df.index = enrichr_df.index + 1\n",
    "offline_df.index = offline_df.index + 1\n",
    "string_df.index = string_df.index + 1\n",
    "gsea_df.index = gsea_df.index + 1\n",
    "preranked_df.index = preranked_df.index + 1"
   ],
   "metadata": {
    "collapsed": false,
    "pycharm": {
     "name": "#%%\n"
    }
   }
  },
  {
   "cell_type": "code",
   "execution_count": 5,
   "outputs": [
    {
     "name": "stdout",
     "output_type": "stream",
     "text": [
      "                                                 Term\n",
      "1        Response to elevated platelet cytosolic Ca2+\n",
      "2                              Platelet degranulation\n",
      "3      Platelet activation, signaling and aggregation\n",
      "4          Intrinsic Pathway of Fibrin Clot Formation\n",
      "5          Post-translational protein phosphorylation\n",
      "6   Regulation of Insulin-like Growth Factor (IGF)...\n",
      "7         Formation of Fibrin Clot (Clotting Cascade)\n",
      "8                       Retinoid cycle disease events\n",
      "9                                  Alanine metabolism\n",
      "10                    Diseases of the neuronal system\n"
     ]
    }
   ],
   "source": [
    "print(enrichr_df.iloc[:10, 1:5].drop(columns=[\"Overlap\", \"P-value\", \"Adjusted P-value\"]))\n",
    "# a lot of duplicate values\n",
    "# print(string_df[\"description\"])"
   ],
   "metadata": {
    "collapsed": false,
    "pycharm": {
     "name": "#%%\n"
    }
   }
  },
  {
   "cell_type": "code",
   "execution_count": 6,
   "outputs": [],
   "source": [
    "# functions\n",
    "def jaccard_similarity(A, B):\n",
    "    nominator = A.intersection(B)\n",
    "    denominator = A.union(B)\n",
    "    similarity = len(nominator)/len(denominator)\n",
    "    return similarity\n",
    "\n",
    "def mean_rank_difference(rank_dict_a, rank_dict_b):\n",
    "    total_diff = 0\n",
    "\n",
    "    for element, rank_b in rank_dict_b.items():\n",
    "        if element in rank_dict_a:\n",
    "            rank_a = rank_dict_a[element]\n",
    "            rank_diff = abs(rank_a - rank_b)\n",
    "            total_diff += rank_diff\n",
    "\n",
    "    mean_rank_diff = total_diff / len(rank_dict_b)\n",
    "    return mean_rank_diff"
   ],
   "metadata": {
    "collapsed": false,
    "pycharm": {
     "name": "#%%\n"
    }
   }
  },
  {
   "cell_type": "markdown",
   "source": [
    "## check if enrichr and offline are the same"
   ],
   "metadata": {
    "collapsed": false
   }
  },
  {
   "cell_type": "code",
   "execution_count": 7,
   "metadata": {
    "collapsed": true
   },
   "outputs": [
    {
     "data": {
      "text/plain": "True"
     },
     "execution_count": 7,
     "metadata": {},
     "output_type": "execute_result"
    }
   ],
   "source": [
    "enrichr_df.compare(offline_df, align_axis=1, keep_shape=True)\n",
    "all(enrichr_df == offline_df)"
   ]
  },
  {
   "cell_type": "markdown",
   "source": [
    "compare GO enrichment methods"
   ],
   "metadata": {
    "collapsed": false
   }
  },
  {
   "cell_type": "code",
   "execution_count": 8,
   "outputs": [
    {
     "name": "stdout",
     "output_type": "stream",
     "text": [
      "number of\n",
      "enriched terms GSEApy 224 enriched terms STRING 5\n"
     ]
    }
   ],
   "source": [
    "print(\"number of\")\n",
    "print(\"enriched terms GSEApy\", enrichr_df.shape[0], \"enriched terms STRING\", string_df.shape[0])"
   ],
   "metadata": {
    "collapsed": false,
    "pycharm": {
     "name": "#%%\n"
    }
   }
  },
  {
   "cell_type": "code",
   "execution_count": 9,
   "outputs": [
    {
     "name": "stdout",
     "output_type": "stream",
     "text": [
      "found\n",
      "found\n",
      "found\n",
      "found\n",
      "found\n"
     ]
    }
   ],
   "source": [
    "# Can all of the string enriched terms be found in GSEApy results?\n",
    "for term in string_df[\"description\"].tolist():\n",
    "    if term not in enrichr_df[\"Term\"].tolist():\n",
    "        print(term)\n",
    "    else:\n",
    "        print(\"found\")"
   ],
   "metadata": {
    "collapsed": false,
    "pycharm": {
     "name": "#%%\n"
    }
   }
  },
  {
   "cell_type": "code",
   "execution_count": 10,
   "outputs": [
    {
     "name": "stdout",
     "output_type": "stream",
     "text": [
      "Gene_set True\n",
      "Term False\n",
      "Overlap False\n",
      "P-value False\n",
      "Adjusted P-value True\n",
      "Odds Ratio False\n",
      "Combined Score False\n",
      "Genes False\n",
      "Proteins False\n"
     ]
    }
   ],
   "source": [
    "for col in enrichr_df.columns: # on column to find out if already sorted\n",
    "    print(col, enrichr_df[col].is_monotonic_increasing)"
   ],
   "metadata": {
    "collapsed": false,
    "pycharm": {
     "name": "#%%\n"
    }
   }
  },
  {
   "cell_type": "code",
   "execution_count": 10,
   "outputs": [],
   "source": [],
   "metadata": {
    "collapsed": false,
    "pycharm": {
     "name": "#%%\n"
    }
   }
  },
  {
   "cell_type": "code",
   "execution_count": 11,
   "outputs": [
    {
     "name": "stdout",
     "output_type": "stream",
     "text": [
      "                Gene_set                                               Term  \\\n",
      "2   ReactomePathways.gmt                             Platelet degranulation   \n",
      "4   ReactomePathways.gmt         Intrinsic Pathway of Fibrin Clot Formation   \n",
      "5   ReactomePathways.gmt         Post-translational protein phosphorylation   \n",
      "6   ReactomePathways.gmt  Regulation of Insulin-like Growth Factor (IGF)...   \n",
      "13  ReactomePathways.gmt                                         Hemostasis   \n",
      "\n",
      "   Overlap       P-value  Adjusted P-value  Odds Ratio  Combined Score  \\\n",
      "2     9/82  2.466298e-07          0.000034   11.758513      178.910215   \n",
      "4     4/15  1.838297e-05          0.000877   27.238770      297.013883   \n",
      "5     6/51  1.958012e-05          0.000877   12.213309      132.404435   \n",
      "6     6/56  3.379333e-05          0.001262   11.121316      114.496698   \n",
      "13  11/288  3.079131e-04          0.005306    4.068858       32.899538   \n",
      "\n",
      "                                                Genes  \\\n",
      "2   APOA1;AHSG;KNG1;ITIH4;CLEC3B;A1BG;SERPING1;A2M...   \n",
      "4                          A2M;KNG1;SERPIND1;SERPING1   \n",
      "5                   APOA1;AHSG;KNG1;SERPIND1;CP;ITIH2   \n",
      "6                   APOA1;AHSG;KNG1;SERPIND1;CP;ITIH2   \n",
      "13  APOA1;AHSG;KNG1;CLU;ITIH4;SERPIND1;CLEC3B;A1BG...   \n",
      "\n",
      "                                             Proteins  \n",
      "2   P10909-5;P05452;F8W696;P02765;B7Z7M2;P01042-3;...  \n",
      "4   B7Z7M2;P01042-3;P20742;D3DNU8;Q9BQ22;H0YFH1;E9...  \n",
      "5   A0A087WTE1;A2RTY6;F8W696;P02765;P01042-3;Q1L85...  \n",
      "6   A0A087WTE1;A2RTY6;F8W696;P02765;P01042-3;Q1L85...  \n",
      "13  P10909-5;P05452;F8W696;P02765;B7Z7M2;P01042-3;...  \n"
     ]
    }
   ],
   "source": [
    "overlap_df = enrichr_df.loc[enrichr_df[\"Term\"].isin(string_df[\"description\"].tolist())]\n",
    "print(overlap_df)"
   ],
   "metadata": {
    "collapsed": false,
    "pycharm": {
     "name": "#%%\n"
    }
   }
  },
  {
   "cell_type": "code",
   "execution_count": 17,
   "outputs": [
    {
     "data": {
      "text/plain": "<matplotlib_venn._common.VennDiagram at 0x22e47a40790>"
     },
     "execution_count": 17,
     "metadata": {},
     "output_type": "execute_result"
    },
    {
     "data": {
      "text/plain": "<Figure size 640x480 with 1 Axes>",
      "image/png": "[encoded data removed]"
     },
     "metadata": {},
     "output_type": "display_data"
    }
   ],
   "source": [
    "# venn diagram\n",
    "#Import libraries\n",
    "from matplotlib_venn import venn2, venn2_circles, venn2_unweighted\n",
    "from matplotlib import pyplot as plt\n",
    "venn2(subsets = (30, 10, 5), set_labels = ('Group A', 'Group B'))"
   ],
   "metadata": {
    "collapsed": false,
    "pycharm": {
     "name": "#%%\n"
    }
   }
  },
  {
   "cell_type": "code",
   "execution_count": 12,
   "outputs": [
    {
     "name": "stdout",
     "output_type": "stream",
     "text": [
      "jaccard index 0.022321428571428572\n",
      "jaccard top ten 0.36363636363636365\n",
      "jaccard top five 0.42857142857142855\n"
     ]
    }
   ],
   "source": [
    "# jaccard index\n",
    "enrichr_terms = enrichr_df[\"Term\"]\n",
    "string_terms = string_df[\"description\"]\n",
    "\n",
    "enrichr_terms_s = set(enrichr_df[\"Term\"])\n",
    "string_terms_s = set(string_df[\"description\"])\n",
    "print(\"jaccard index\", jaccard_similarity(enrichr_terms_s, string_terms_s))\n",
    "\n",
    "enrichr_top_ten = set(enrichr_df.loc[:10, \"Term\"])\n",
    "print(\"jaccard top ten\", jaccard_similarity(enrichr_top_ten, string_terms))\n",
    "\n",
    "enrichr_top_ten = set(enrichr_df.loc[:5, \"Term\"])\n",
    "print(\"jaccard top five\", jaccard_similarity(enrichr_top_ten, string_terms))"
   ],
   "metadata": {
    "collapsed": false,
    "pycharm": {
     "name": "#%%\n"
    }
   }
  },
  {
   "cell_type": "code",
   "execution_count": 13,
   "outputs": [
    {
     "name": "stdout",
     "output_type": "stream",
     "text": [
      "mean rank difference 3.4\n"
     ]
    }
   ],
   "source": [
    "string_dict = dict(zip(string_df[\"description\"], string_df.index))\n",
    "overlap_dict = dict(zip(overlap_df[\"Term\"], overlap_df.index))\n",
    "# print(string_dict)\n",
    "# print(overlap_dict)\n",
    "print(\"mean rank difference\", mean_rank_difference(string_dict, overlap_dict))"
   ],
   "metadata": {
    "collapsed": false,
    "pycharm": {
     "name": "#%%\n"
    }
   }
  },
  {
   "cell_type": "code",
   "execution_count": 14,
   "outputs": [
    {
     "name": "stdout",
     "output_type": "stream",
     "text": [
      "[1 2 3 4 5]\n",
      "[2, 4, 5, 6, 13]\n",
      "numpy [[1.         0.90711474]\n",
      " [0.90711474 1.        ]]\n",
      "scipy PearsonRResult(statistic=0.9071147352221454, pvalue=0.03350493454730273)\n"
     ]
    }
   ],
   "source": [
    "# pearson correlation of ranks\n",
    "print(x := np.array(list(string_dict.values())))\n",
    "print(y := overlap_df.index.tolist())\n",
    "print(\"numpy\", np.corrcoef(x,y))\n",
    "print(\"scipy\", scipy.stats.pearsonr(x, y))\n",
    "\n",
    "# print(\"spearman\", pd.Series(overlap_df.index).corr(pd.Series(string_df.index), method=\"spearman\"))\n",
    "# xy = np.array([np.array(list(string_dict.values())),np.array(overlap_df.index)], dtype=object)\n",
    "# print(np.array(list(string_dict.values())))\n",
    "# print(np.array(overlap_df.index))\n",
    "# print(scipy.stats.spearmanr(xy, axis=1))"
   ],
   "metadata": {
    "collapsed": false,
    "pycharm": {
     "name": "#%%\n"
    }
   }
  },
  {
   "cell_type": "code",
   "execution_count": 15,
   "outputs": [
    {
     "name": "stdout",
     "output_type": "stream",
     "text": [
      "Regression line: y=-1.20+2.40x, r=0.91\n"
     ]
    },
    {
     "data": {
      "text/plain": "<Figure size 640x480 with 1 Axes>",
      "image/png": "[encoded data removed]"
     },
     "metadata": {},
     "output_type": "display_data"
    }
   ],
   "source": [
    "# plot\n",
    "plt.style.use('ggplot')\n",
    "slope, intercept, r, p, stderr = scipy.stats.linregress(x, y)\n",
    "line = f'Regression line: y={intercept:.2f}+{slope:.2f}x, r={r:.2f}'\n",
    "print(line)\n",
    "\n",
    "fig, ax = plt.subplots()\n",
    "ax.plot(x, y, linewidth=0, marker='s', label='Data points')\n",
    "ax.plot(x, intercept + int(slope) * x, label=line)\n",
    "ax.set_xlabel('x')\n",
    "ax.set_ylabel('y')\n",
    "ax.legend(facecolor='white')\n",
    "ax.set_xticks(range(int(min(x)), int(max(x)) + 1))\n",
    "plt.savefig(\"pearson_GO.pdf\", dpi=300)\n",
    "plt.show()"
   ],
   "metadata": {
    "collapsed": false,
    "pycharm": {
     "name": "#%%\n"
    }
   }
  },
  {
   "cell_type": "markdown",
   "source": [],
   "metadata": {
    "collapsed": false
   }
  },
  {
   "cell_type": "markdown",
   "source": [],
   "metadata": {
    "collapsed": false
   }
  },
  {
   "cell_type": "markdown",
   "source": [
    "## GSEA Methods"
   ],
   "metadata": {
    "collapsed": false
   }
  },
  {
   "cell_type": "code",
   "execution_count": 16,
   "outputs": [
    {
     "name": "stdout",
     "output_type": "stream",
     "text": [
      "True\n"
     ]
    },
    {
     "ename": "ValueError",
     "evalue": "Can only compare identically-labeled DataFrame objects",
     "output_type": "error",
     "traceback": [
      "\u001B[1;31m---------------------------------------------------------------------------\u001B[0m",
      "\u001B[1;31mValueError\u001B[0m                                Traceback (most recent call last)",
      "Cell \u001B[1;32mIn[16], line 6\u001B[0m\n\u001B[0;32m      4\u001B[0m \u001B[38;5;28mprint\u001B[39m(gsea_df[\u001B[38;5;124m\"\u001B[39m\u001B[38;5;124mabs_NES\u001B[39m\u001B[38;5;124m\"\u001B[39m]\u001B[38;5;241m.\u001B[39mis_monotonic_decreasing)\n\u001B[0;32m      5\u001B[0m gsea_df\u001B[38;5;241m.\u001B[39mdrop(columns\u001B[38;5;241m=\u001B[39m\u001B[38;5;124m\"\u001B[39m\u001B[38;5;124mabs_NES\u001B[39m\u001B[38;5;124m\"\u001B[39m)\n\u001B[1;32m----> 6\u001B[0m \u001B[38;5;28mprint\u001B[39m((\u001B[43mcopied_df\u001B[49m\u001B[43m \u001B[49m\u001B[38;5;241;43m==\u001B[39;49m\u001B[43m \u001B[49m\u001B[43mgsea_df\u001B[49m)\u001B[38;5;241m.\u001B[39mall())\n\u001B[0;32m      7\u001B[0m \u001B[38;5;66;03m#---\u001B[39;00m\n\u001B[0;32m      8\u001B[0m copied_df \u001B[38;5;241m=\u001B[39m preranked_df\u001B[38;5;241m.\u001B[39mcopy(deep\u001B[38;5;241m=\u001B[39m\u001B[38;5;28;01mTrue\u001B[39;00m)\n",
      "File \u001B[1;32m~\\anaconda3\\envs\\prot3\\Lib\\site-packages\\pandas\\core\\ops\\common.py:72\u001B[0m, in \u001B[0;36m_unpack_zerodim_and_defer.<locals>.new_method\u001B[1;34m(self, other)\u001B[0m\n\u001B[0;32m     68\u001B[0m             \u001B[38;5;28;01mreturn\u001B[39;00m \u001B[38;5;28mNotImplemented\u001B[39m\n\u001B[0;32m     70\u001B[0m other \u001B[38;5;241m=\u001B[39m item_from_zerodim(other)\n\u001B[1;32m---> 72\u001B[0m \u001B[38;5;28;01mreturn\u001B[39;00m \u001B[43mmethod\u001B[49m\u001B[43m(\u001B[49m\u001B[38;5;28;43mself\u001B[39;49m\u001B[43m,\u001B[49m\u001B[43m \u001B[49m\u001B[43mother\u001B[49m\u001B[43m)\u001B[49m\n",
      "File \u001B[1;32m~\\anaconda3\\envs\\prot3\\Lib\\site-packages\\pandas\\core\\arraylike.py:42\u001B[0m, in \u001B[0;36mOpsMixin.__eq__\u001B[1;34m(self, other)\u001B[0m\n\u001B[0;32m     40\u001B[0m \u001B[38;5;129m@unpack_zerodim_and_defer\u001B[39m(\u001B[38;5;124m\"\u001B[39m\u001B[38;5;124m__eq__\u001B[39m\u001B[38;5;124m\"\u001B[39m)\n\u001B[0;32m     41\u001B[0m \u001B[38;5;28;01mdef\u001B[39;00m \u001B[38;5;21m__eq__\u001B[39m(\u001B[38;5;28mself\u001B[39m, other):\n\u001B[1;32m---> 42\u001B[0m     \u001B[38;5;28;01mreturn\u001B[39;00m \u001B[38;5;28;43mself\u001B[39;49m\u001B[38;5;241;43m.\u001B[39;49m\u001B[43m_cmp_method\u001B[49m\u001B[43m(\u001B[49m\u001B[43mother\u001B[49m\u001B[43m,\u001B[49m\u001B[43m \u001B[49m\u001B[43moperator\u001B[49m\u001B[38;5;241;43m.\u001B[39;49m\u001B[43meq\u001B[49m\u001B[43m)\u001B[49m\n",
      "File \u001B[1;32m~\\anaconda3\\envs\\prot3\\Lib\\site-packages\\pandas\\core\\frame.py:7579\u001B[0m, in \u001B[0;36mDataFrame._cmp_method\u001B[1;34m(self, other, op)\u001B[0m\n\u001B[0;32m   7576\u001B[0m \u001B[38;5;28;01mdef\u001B[39;00m \u001B[38;5;21m_cmp_method\u001B[39m(\u001B[38;5;28mself\u001B[39m, other, op):\n\u001B[0;32m   7577\u001B[0m     axis \u001B[38;5;241m=\u001B[39m \u001B[38;5;241m1\u001B[39m  \u001B[38;5;66;03m# only relevant for Series other case\u001B[39;00m\n\u001B[1;32m-> 7579\u001B[0m     \u001B[38;5;28mself\u001B[39m, other \u001B[38;5;241m=\u001B[39m \u001B[43mops\u001B[49m\u001B[38;5;241;43m.\u001B[39;49m\u001B[43malign_method_FRAME\u001B[49m\u001B[43m(\u001B[49m\u001B[38;5;28;43mself\u001B[39;49m\u001B[43m,\u001B[49m\u001B[43m \u001B[49m\u001B[43mother\u001B[49m\u001B[43m,\u001B[49m\u001B[43m \u001B[49m\u001B[43maxis\u001B[49m\u001B[43m,\u001B[49m\u001B[43m \u001B[49m\u001B[43mflex\u001B[49m\u001B[38;5;241;43m=\u001B[39;49m\u001B[38;5;28;43;01mFalse\u001B[39;49;00m\u001B[43m,\u001B[49m\u001B[43m \u001B[49m\u001B[43mlevel\u001B[49m\u001B[38;5;241;43m=\u001B[39;49m\u001B[38;5;28;43;01mNone\u001B[39;49;00m\u001B[43m)\u001B[49m\n\u001B[0;32m   7581\u001B[0m     \u001B[38;5;66;03m# See GH#4537 for discussion of scalar op behavior\u001B[39;00m\n\u001B[0;32m   7582\u001B[0m     new_data \u001B[38;5;241m=\u001B[39m \u001B[38;5;28mself\u001B[39m\u001B[38;5;241m.\u001B[39m_dispatch_frame_op(other, op, axis\u001B[38;5;241m=\u001B[39maxis)\n",
      "File \u001B[1;32m~\\anaconda3\\envs\\prot3\\Lib\\site-packages\\pandas\\core\\ops\\__init__.py:289\u001B[0m, in \u001B[0;36malign_method_FRAME\u001B[1;34m(left, right, axis, flex, level)\u001B[0m\n\u001B[0;32m    287\u001B[0m             left, right \u001B[38;5;241m=\u001B[39m left\u001B[38;5;241m.\u001B[39malign(right, join\u001B[38;5;241m=\u001B[39m\u001B[38;5;124m\"\u001B[39m\u001B[38;5;124mouter\u001B[39m\u001B[38;5;124m\"\u001B[39m, level\u001B[38;5;241m=\u001B[39mlevel, copy\u001B[38;5;241m=\u001B[39m\u001B[38;5;28;01mFalse\u001B[39;00m)\n\u001B[0;32m    288\u001B[0m         \u001B[38;5;28;01melse\u001B[39;00m:\n\u001B[1;32m--> 289\u001B[0m             \u001B[38;5;28;01mraise\u001B[39;00m \u001B[38;5;167;01mValueError\u001B[39;00m(\n\u001B[0;32m    290\u001B[0m                 \u001B[38;5;124m\"\u001B[39m\u001B[38;5;124mCan only compare identically-labeled DataFrame objects\u001B[39m\u001B[38;5;124m\"\u001B[39m\n\u001B[0;32m    291\u001B[0m             )\n\u001B[0;32m    292\u001B[0m \u001B[38;5;28;01melif\u001B[39;00m \u001B[38;5;28misinstance\u001B[39m(right, ABCSeries):\n\u001B[0;32m    293\u001B[0m     \u001B[38;5;66;03m# axis=1 is default for DataFrame-with-Series op\u001B[39;00m\n\u001B[0;32m    294\u001B[0m     axis \u001B[38;5;241m=\u001B[39m left\u001B[38;5;241m.\u001B[39m_get_axis_number(axis) \u001B[38;5;28;01mif\u001B[39;00m axis \u001B[38;5;129;01mis\u001B[39;00m \u001B[38;5;129;01mnot\u001B[39;00m \u001B[38;5;28;01mNone\u001B[39;00m \u001B[38;5;28;01melse\u001B[39;00m \u001B[38;5;241m1\u001B[39m\n",
      "\u001B[1;31mValueError\u001B[0m: Can only compare identically-labeled DataFrame objects"
     ]
    }
   ],
   "source": [
    "# sorted by absolute NES value\n",
    "copied_df = gsea_df.copy(deep=True)\n",
    "gsea_df[\"abs_NES\"]=gsea_df[\"NES\"].abs()\n",
    "print(gsea_df[\"abs_NES\"].is_monotonic_decreasing)\n",
    "gsea_df.drop(columns=\"abs_NES\")\n",
    "print((copied_df == gsea_df).all())\n",
    "#---\n",
    "copied_df = preranked_df.copy(deep=True)\n",
    "preranked_df[\"abs_NES\"]=preranked_df[\"NES\"].abs()\n",
    "print(preranked_df[\"abs_NES\"].is_monotonic_decreasing)\n",
    "preranked_df.drop(columns=\"abs_NES\")\n",
    "print((copied_df == preranked_df).all())"
   ],
   "metadata": {
    "collapsed": false,
    "pycharm": {
     "name": "#%%\n"
    }
   }
  },
  {
   "cell_type": "code",
   "execution_count": null,
   "outputs": [],
   "source": [
    "print(gsea_df.iloc[:10,1:2])\n",
    "# print(preranked_df.iloc[:10,1:2])"
   ],
   "metadata": {
    "collapsed": false,
    "pycharm": {
     "name": "#%%\n"
    }
   }
  },
  {
   "cell_type": "code",
   "execution_count": null,
   "outputs": [],
   "source": [],
   "metadata": {
    "collapsed": false,
    "pycharm": {
     "name": "#%%\n"
    }
   }
  },
  {
   "cell_type": "code",
   "execution_count": null,
   "outputs": [],
   "source": [],
   "metadata": {
    "collapsed": false,
    "pycharm": {
     "name": "#%%\n"
    }
   }
  }
 ],
 "metadata": {
  "kernelspec": {
   "display_name": "Python 3",
   "language": "python",
   "name": "python3"
  },
  "language_info": {
   "codemirror_mode": {
    "name": "ipython",
    "version": 2
   },
   "file_extension": ".py",
   "mimetype": "text/x-python",
   "name": "python",
   "nbconvert_exporter": "python",
   "pygments_lexer": "ipython2",
   "version": "2.7.6"
  }
 },
 "nbformat": 4,
 "nbformat_minor": 0
}