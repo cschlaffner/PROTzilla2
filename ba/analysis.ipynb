{
 "cells": [
  {
   "cell_type": "code",
   "execution_count": 1,
   "metadata": {
    "collapsed": true
   },
   "outputs": [],
   "source": [
    "import pandas as pd\n",
    "from protzilla.importing.ms_data_import import max_quant_import"
   ]
  },
  {
   "cell_type": "code",
   "execution_count": 2,
   "outputs": [
    {
     "name": "stdout",
     "output_type": "stream",
     "text": [
      "cardiac hypertrophy        13\n",
      "normal                      7\n",
      "ischemic cardiomyopathy     6\n",
      "dilated cardiomyopathy      6\n",
      "compensated hypertrophy     2\n",
      "Name: Characteristics[disease], dtype: int64\n"
     ]
    }
   ],
   "source": [
    "metadata = pd.read_csv(\"data/sdrf.tsv\", sep=\"\\t\")\n",
    "print(metadata[\"Characteristics[disease]\"].value_counts())"
   ],
   "metadata": {
    "collapsed": false,
    "pycharm": {
     "name": "#%%\n"
    }
   }
  },
  {
   "cell_type": "code",
   "execution_count": 3,
   "outputs": [
    {
     "data": {
      "text/plain": "3799"
     },
     "execution_count": 3,
     "metadata": {},
     "output_type": "execute_result"
    }
   ],
   "source": [
    "df = max_quant_import(_, file_path=\"data/proteinGroups.txt\", intensity_name=\"iBAQ\")[0]\n",
    "len(df[\"Protein ID\"].unique()) # 3799"
   ],
   "metadata": {
    "collapsed": false,
    "pycharm": {
     "name": "#%%\n"
    }
   }
  },
  {
   "cell_type": "code",
   "execution_count": 4,
   "outputs": [
    {
     "data": {
      "text/plain": "3799"
     },
     "execution_count": 4,
     "metadata": {},
     "output_type": "execute_result"
    }
   ],
   "source": [
    "hf_df = pd.read_csv(\"data/hf_imported_df.csv\")\n",
    "len(df[\"Protein ID\"].unique().tolist())"
   ],
   "metadata": {
    "collapsed": false,
    "pycharm": {
     "name": "#%%\n"
    }
   }
  },
  {
   "cell_type": "code",
   "execution_count": 5,
   "outputs": [
    {
     "data": {
      "text/plain": "49.316998468606435"
     },
     "execution_count": 5,
     "metadata": {},
     "output_type": "execute_result"
    }
   ],
   "source": [
    "with open(\"data/ReactomePathways.gmt\", 'r') as file:\n",
    "    data = []\n",
    "    for line in file:\n",
    "        line = line.strip().split('\\t')\n",
    "        gene_set_name = line[0]\n",
    "        genes = line[2:]\n",
    "        data.append({'Gene Set Name': gene_set_name, 'Genes': genes})\n",
    "\n",
    "gene_set_df = pd.DataFrame(data) # len 2612\n",
    "unique_genes = list(set(gene for gene_list in gene_set_df[\"Genes\"] for gene in gene_list if gene))\n",
    "len(unique_genes) # 11494 unqiue genes\n",
    "gene_set_df[\"number_of_genes\"] = gene_set_df[\"Genes\"].apply(lambda x: len(x))\n",
    "gene_set_df[\"number_of_genes\"].mean() # 49.3"
   ],
   "metadata": {
    "collapsed": false,
    "pycharm": {
     "name": "#%%\n"
    }
   }
  }
 ],
 "metadata": {
  "kernelspec": {
   "display_name": "Python 3",
   "language": "python",
   "name": "python3"
  },
  "language_info": {
   "codemirror_mode": {
    "name": "ipython",
    "version": 2
   },
   "file_extension": ".py",
   "mimetype": "text/x-python",
   "name": "python",
   "nbconvert_exporter": "python",
   "pygments_lexer": "ipython2",
   "version": "2.7.6"
  }
 },
 "nbformat": 4,
 "nbformat_minor": 0
}