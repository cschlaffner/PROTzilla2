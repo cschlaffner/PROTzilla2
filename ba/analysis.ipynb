{
 "cells": [
  {
   "cell_type": "code",
   "execution_count": 2,
   "metadata": {
    "collapsed": true
   },
   "outputs": [],
   "source": [
    "import pandas as pd\n",
    "from protzilla.importing.ms_data_import import max_quant_import"
   ]
  },
  {
   "cell_type": "code",
   "execution_count": 2,
   "outputs": [
    {
     "name": "stdout",
     "output_type": "stream",
     "text": [
      "cardiac hypertrophy        13\n",
      "normal                      7\n",
      "ischemic cardiomyopathy     6\n",
      "dilated cardiomyopathy      6\n",
      "compensated hypertrophy     2\n",
      "Name: Characteristics[disease], dtype: int64\n"
     ]
    }
   ],
   "source": [
    "metadata = pd.read_csv(\"data/sdrf.tsv\", sep=\"\\t\")\n",
    "print(metadata[\"Characteristics[disease]\"].value_counts())"
   ],
   "metadata": {
    "collapsed": false,
    "pycharm": {
     "name": "#%%\n"
    }
   }
  },
  {
   "cell_type": "code",
   "execution_count": 3,
   "outputs": [
    {
     "data": {
      "text/plain": "3799"
     },
     "execution_count": 3,
     "metadata": {},
     "output_type": "execute_result"
    }
   ],
   "source": [
    "df = max_quant_import(_, file_path=\"data/proteinGroups.txt\", intensity_name=\"iBAQ\")[0]\n",
    "len(df[\"Protein ID\"].unique()) # 3799"
   ],
   "metadata": {
    "collapsed": false,
    "pycharm": {
     "name": "#%%\n"
    }
   }
  },
  {
   "cell_type": "code",
   "execution_count": 4,
   "outputs": [
    {
     "data": {
      "text/plain": "3799"
     },
     "execution_count": 4,
     "metadata": {},
     "output_type": "execute_result"
    }
   ],
   "source": [
    "hf_df = pd.read_csv(\"data/hf_imported_df.csv\")\n",
    "len(df[\"Protein ID\"].unique().tolist())"
   ],
   "metadata": {
    "collapsed": false,
    "pycharm": {
     "name": "#%%\n"
    }
   }
  },
  {
   "cell_type": "code",
   "execution_count": 4,
   "outputs": [
    {
     "name": "stdout",
     "output_type": "stream",
     "text": [
      "shape (2612, 2)\n",
      "unique_genes 11494\n",
      "number of genes mean 49.316998468606435\n"
     ]
    }
   ],
   "source": [
    "with open(\"data/ReactomePathways.gmt\", 'r') as file:\n",
    "    data = []\n",
    "    for line in file:\n",
    "        line = line.strip().split('\\t')\n",
    "        gene_set_name = line[0]\n",
    "        genes = line[2:]\n",
    "        data.append({'Gene Set Name': gene_set_name, 'Genes': genes})\n",
    "\n",
    "gene_set_df = pd.DataFrame(data) # len 2612\n",
    "print(\"shape\", gene_set_df.shape)\n",
    "unique_genes = list(set(gene for gene_list in gene_set_df[\"Genes\"] for gene in gene_list if gene))\n",
    "print(\"unique_genes\", len(unique_genes)) # 11494 unqiue genes\n",
    "gene_set_df[\"number_of_genes\"] = gene_set_df[\"Genes\"].apply(lambda x: len(x))\n",
    "gene_set_df[\"number_of_genes\"].mean() # 49.3\n",
    "print(\"number of genes mean\", gene_set_df[\"number_of_genes\"].mean())"
   ],
   "metadata": {
    "collapsed": false,
    "pycharm": {
     "name": "#%%\n"
    }
   }
  },
  {
   "cell_type": "code",
   "execution_count": 5,
   "outputs": [
    {
     "name": "stdout",
     "output_type": "stream",
     "text": [
      "shape (320, 2)\n",
      "unique_genes 8078\n",
      "number of genes mean 101.528125\n"
     ]
    }
   ],
   "source": [
    "with open(\"data/Enrichr.KEGG_2021_Human.gmt\", 'r') as file:\n",
    "    data = []\n",
    "    for line in file:\n",
    "        line = line.strip().split('\\t')\n",
    "        gene_set_name = line[0]\n",
    "        genes = line[2:]\n",
    "        data.append({'Gene Set Name': gene_set_name, 'Genes': genes})\n",
    "\n",
    "gene_set_df = pd.DataFrame(data) # len 2612\n",
    "print(\"shape\", gene_set_df.shape)\n",
    "unique_genes = list(set(gene for gene_list in gene_set_df[\"Genes\"] for gene in gene_list if gene))\n",
    "print(\"unique_genes\", len(unique_genes)) # 11494 unqiue genes\n",
    "gene_set_df[\"number_of_genes\"] = gene_set_df[\"Genes\"].apply(lambda x: len(x))\n",
    "gene_set_df[\"number_of_genes\"].mean() # 49.3\n",
    "print(\"number of genes mean\", gene_set_df[\"number_of_genes\"].mean())"
   ],
   "metadata": {
    "collapsed": false,
    "pycharm": {
     "name": "#%%\n"
    }
   }
  },
  {
   "cell_type": "code",
   "execution_count": 3,
   "outputs": [
    {
     "name": "stdout",
     "output_type": "stream",
     "text": [
      "['MFAP4', 'CLEC3B', 'APOA1', 'GATM', 'TTR', 'ITIH2', 'RBP4', 'ABR', 'SERPING1', 'TF', 'CP', 'TSPAN14', 'DDAH1', 'A2M', 'PZP', 'ITIH4', 'A1BG', 'CLU', 'AHSG', 'HPX', 'COL18A1', 'CISD2', 'SERPIND1', 'LUM', 'PRELP', 'ERP44']\n",
      "26\n"
     ]
    }
   ],
   "source": [
    "mapping = pd.read_csv(\"data/mapping_not_cleaned.tsv\", sep=\"\\t\")\n",
    "mapped_genes = mapping[\"preferredName\"].unique().tolist()\n",
    "print(mapped_genes)\n",
    "print(len(mapped_genes))"
   ],
   "metadata": {
    "collapsed": false,
    "pycharm": {
     "name": "#%%\n"
    }
   }
  },
  {
   "cell_type": "code",
   "execution_count": 4,
   "outputs": [
    {
     "name": "stdout",
     "output_type": "stream",
     "text": [
      "['MFAP4', 'CLEC3B', 'APOA1', 'GATM', 'TTR', 'ITIH2', 'RBP4', 'ABR', 'SERPING1', 'TF', 'CP', 'TSPAN14', 'DDAH1', 'A2M', 'PZP', 'ITIH4', 'A1BG', 'KNG1', 'CLU', 'AHSG', 'HPX', 'COL18A1', 'CISD2', 'SERPIND1', 'LUM', 'PRELP', 'ERP44']\n",
      "27\n"
     ]
    }
   ],
   "source": [
    "mapping = pd.read_csv(\"data/mapping_cleaned.tsv\", sep=\"\\t\")\n",
    "mapped_genes = mapping[\"preferredName\"].unique().tolist()\n",
    "print(mapped_genes)\n",
    "print(len(mapped_genes))"
   ],
   "metadata": {
    "collapsed": false,
    "pycharm": {
     "name": "#%%\n"
    }
   }
  },
  {
   "cell_type": "code",
   "execution_count": 4,
   "outputs": [
    {
     "name": "stdout",
     "output_type": "stream",
     "text": [
      "up_regulated 31 down_regulated 24\n",
      "differentially expressed 55\n",
      "also DE 55\n"
     ]
    },
    {
     "name": "stderr",
     "output_type": "stream",
     "text": [
      "C:\\Users\\bzwad\\AppData\\Local\\Temp\\ipykernel_54616\\1541044621.py:3: SettingWithCopyWarning: \n",
      "A value is trying to be set on a copy of a slice from a DataFrame\n",
      "\n",
      "See the caveats in the documentation: https://pandas.pydata.org/pandas-docs/stable/user_guide/indexing.html#returning-a-view-versus-a-copy\n",
      "  proteins_df.drop_duplicates(subset=\"Protein ID\", inplace=True)\n"
     ]
    }
   ],
   "source": [
    "de_proteins_df = pd.read_csv(\"data/enrichr_de_proteins.csv\", index_col=0)\n",
    "proteins_df = de_proteins_df[[\"Protein ID\", \"log2_fold_change\"]]\n",
    "proteins_df.drop_duplicates(subset=\"Protein ID\", inplace=True)\n",
    "expression_change_col = proteins_df[\"log2_fold_change\"]\n",
    "up_protein_list = list(proteins_df.loc[expression_change_col > 0, \"Protein ID\"])\n",
    "down_protein_list = list(proteins_df.loc[expression_change_col < 0, \"Protein ID\"])\n",
    "\n",
    "print(\"up_regulated\", len(up_protein_list), \"down_regulated\", len(down_protein_list))\n",
    "print(\"differentially expressed\", len(up_protein_list)+len(down_protein_list))\n",
    "print(\"also DE\", len(proteins_df[\"Protein ID\"].tolist()))"
   ],
   "metadata": {
    "collapsed": false,
    "pycharm": {
     "name": "#%%\n"
    }
   }
  },
  {
   "cell_type": "code",
   "execution_count": null,
   "outputs": [],
   "source": [],
   "metadata": {
    "collapsed": false,
    "pycharm": {
     "name": "#%%\n"
    }
   }
  }
 ],
 "metadata": {
  "kernelspec": {
   "display_name": "Python 3",
   "language": "python",
   "name": "python3"
  },
  "language_info": {
   "codemirror_mode": {
    "name": "ipython",
    "version": 2
   },
   "file_extension": ".py",
   "mimetype": "text/x-python",
   "name": "python",
   "nbconvert_exporter": "python",
   "pygments_lexer": "ipython2",
   "version": "2.7.6"
  }
 },
 "nbformat": 4,
 "nbformat_minor": 0
}