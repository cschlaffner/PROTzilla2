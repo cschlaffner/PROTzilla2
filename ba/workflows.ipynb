{
 "cells": [
  {
   "cell_type": "code",
   "execution_count": 6,
   "outputs": [],
   "source": [
    "from protzilla.runner import Runner\n",
    "from protzilla.constants.paths import PROJECT_PATH"
   ],
   "metadata": {
    "collapsed": false,
    "pycharm": {
     "name": "#%%\n"
    }
   }
  },
  {
   "cell_type": "code",
   "execution_count": 5,
   "metadata": {
    "collapsed": true,
    "pycharm": {
     "name": "#%%\n"
    }
   },
   "outputs": [
    {
     "name": "stderr",
     "output_type": "stream",
     "text": [
      "INFO:root:Parsed arguments: {'self': <protzilla.runner.Runner object at 0x0000021CBF63B550>, 'workflow': 'ba_hf_string', 'ms_data_path': 'C:\\\\Users\\\\bzwad\\\\Documents\\\\Uni\\\\WS22_23\\\\BP\\\\PROTzilla2\\\\user_data\\\\data\\\\proteinGroups.txt', 'meta_data_path': 'C:\\\\Users\\\\bzwad\\\\Documents\\\\Uni\\\\WS22_23\\\\BP\\\\PROTzilla2\\\\user_data\\\\data\\\\sdrf.tsv', 'peptides_path': None, 'run_name': 'ba_string_background_numbers', 'df_mode': 'disk', 'all_plots': False, 'verbose': True}\n"
     ]
    },
    {
     "name": "stdout",
     "output_type": "stream",
     "text": [
      "\n",
      "\n",
      "----- Please answer with one of the given options\n",
      "\n",
      "\n",
      "----- Please answer with one of the given options\n",
      "exiting\n"
     ]
    },
    {
     "ename": "NameError",
     "evalue": "name 'exit' is not defined",
     "output_type": "error",
     "traceback": [
      "\u001B[1;31m---------------------------------------------------------------------------\u001B[0m",
      "\u001B[1;31mNameError\u001B[0m                                 Traceback (most recent call last)",
      "Cell \u001B[1;32mIn[5], line 1\u001B[0m\n\u001B[1;32m----> 1\u001B[0m runner \u001B[38;5;241m=\u001B[39m \u001B[43mRunner\u001B[49m\u001B[43m(\u001B[49m\n\u001B[0;32m      2\u001B[0m \u001B[43m    \u001B[49m\u001B[38;5;241;43m*\u001B[39;49m\u001B[38;5;241;43m*\u001B[39;49m\u001B[43m{\u001B[49m\n\u001B[0;32m      3\u001B[0m \u001B[43m        \u001B[49m\u001B[38;5;124;43m\"\u001B[39;49m\u001B[38;5;124;43mworkflow\u001B[39;49m\u001B[38;5;124;43m\"\u001B[39;49m\u001B[43m:\u001B[49m\u001B[43m \u001B[49m\u001B[38;5;124;43m\"\u001B[39;49m\u001B[38;5;124;43mba_hf_string\u001B[39;49m\u001B[38;5;124;43m\"\u001B[39;49m\u001B[43m,\u001B[49m\n\u001B[0;32m      4\u001B[0m \u001B[43m        \u001B[49m\u001B[38;5;124;43m\"\u001B[39;49m\u001B[38;5;124;43mms_data_path\u001B[39;49m\u001B[38;5;124;43m\"\u001B[39;49m\u001B[43m:\u001B[49m\u001B[43m \u001B[49m\u001B[38;5;124;43mf\u001B[39;49m\u001B[38;5;124;43m\"\u001B[39;49m\u001B[38;5;132;43;01m{\u001B[39;49;00m\u001B[43mPROJECT_PATH\u001B[49m\u001B[38;5;132;43;01m}\u001B[39;49;00m\u001B[38;5;130;43;01m\\\\\u001B[39;49;00m\u001B[38;5;124;43muser_data\u001B[39;49m\u001B[38;5;130;43;01m\\\\\u001B[39;49;00m\u001B[38;5;124;43mdata\u001B[39;49m\u001B[38;5;130;43;01m\\\\\u001B[39;49;00m\u001B[38;5;124;43mproteinGroups.txt\u001B[39;49m\u001B[38;5;124;43m\"\u001B[39;49m\u001B[43m,\u001B[49m\n\u001B[0;32m      5\u001B[0m \u001B[43m        \u001B[49m\u001B[38;5;124;43m\"\u001B[39;49m\u001B[38;5;124;43mmeta_data_path\u001B[39;49m\u001B[38;5;124;43m\"\u001B[39;49m\u001B[43m:\u001B[49m\u001B[43m \u001B[49m\u001B[38;5;124;43mf\u001B[39;49m\u001B[38;5;124;43m\"\u001B[39;49m\u001B[38;5;132;43;01m{\u001B[39;49;00m\u001B[43mPROJECT_PATH\u001B[49m\u001B[38;5;132;43;01m}\u001B[39;49;00m\u001B[38;5;130;43;01m\\\\\u001B[39;49;00m\u001B[38;5;124;43muser_data\u001B[39;49m\u001B[38;5;130;43;01m\\\\\u001B[39;49;00m\u001B[38;5;124;43mdata\u001B[39;49m\u001B[38;5;130;43;01m\\\\\u001B[39;49;00m\u001B[38;5;124;43msdrf.tsv\u001B[39;49m\u001B[38;5;124;43m\"\u001B[39;49m\u001B[43m,\u001B[49m\n\u001B[0;32m      6\u001B[0m \u001B[43m        \u001B[49m\u001B[38;5;124;43m\"\u001B[39;49m\u001B[38;5;124;43mpeptides_path\u001B[39;49m\u001B[38;5;124;43m\"\u001B[39;49m\u001B[43m:\u001B[49m\u001B[43m \u001B[49m\u001B[38;5;28;43;01mNone\u001B[39;49;00m\u001B[43m,\u001B[49m\n\u001B[0;32m      7\u001B[0m \u001B[43m        \u001B[49m\u001B[38;5;124;43m\"\u001B[39;49m\u001B[38;5;124;43mrun_name\u001B[39;49m\u001B[38;5;124;43m\"\u001B[39;49m\u001B[43m:\u001B[49m\u001B[43m \u001B[49m\u001B[38;5;124;43m\"\u001B[39;49m\u001B[38;5;124;43mba_string_background_numbers\u001B[39;49m\u001B[38;5;124;43m\"\u001B[39;49m\u001B[43m,\u001B[49m\n\u001B[0;32m      8\u001B[0m \u001B[43m        \u001B[49m\u001B[38;5;124;43m\"\u001B[39;49m\u001B[38;5;124;43mdf_mode\u001B[39;49m\u001B[38;5;124;43m\"\u001B[39;49m\u001B[43m:\u001B[49m\u001B[43m \u001B[49m\u001B[38;5;124;43m\"\u001B[39;49m\u001B[38;5;124;43mdisk\u001B[39;49m\u001B[38;5;124;43m\"\u001B[39;49m\u001B[43m,\u001B[49m\n\u001B[0;32m      9\u001B[0m \u001B[43m        \u001B[49m\u001B[38;5;124;43m\"\u001B[39;49m\u001B[38;5;124;43mall_plots\u001B[39;49m\u001B[38;5;124;43m\"\u001B[39;49m\u001B[43m:\u001B[49m\u001B[43m \u001B[49m\u001B[38;5;28;43;01mFalse\u001B[39;49;00m\u001B[43m,\u001B[49m\n\u001B[0;32m     10\u001B[0m \u001B[43m        \u001B[49m\u001B[38;5;124;43m\"\u001B[39;49m\u001B[38;5;124;43mverbose\u001B[39;49m\u001B[38;5;124;43m\"\u001B[39;49m\u001B[43m:\u001B[49m\u001B[43m \u001B[49m\u001B[38;5;28;43;01mTrue\u001B[39;49;00m\u001B[43m,\u001B[49m\n\u001B[0;32m     11\u001B[0m \u001B[43m    \u001B[49m\u001B[43m}\u001B[49m\n\u001B[0;32m     12\u001B[0m \u001B[43m)\u001B[49m\n\u001B[0;32m     13\u001B[0m runner\u001B[38;5;241m.\u001B[39mcompute_workflow()\n\u001B[0;32m     15\u001B[0m \u001B[38;5;66;03m# string output is empty because it doesn't know the ids\u001B[39;00m\n",
      "File \u001B[1;32m~\\Documents\\Uni\\WS22_23\\BP\\PROTzilla2\\protzilla\\runner.py:58\u001B[0m, in \u001B[0;36mRunner.__init__\u001B[1;34m(self, workflow, ms_data_path, meta_data_path, peptides_path, run_name, df_mode, all_plots, verbose)\u001B[0m\n\u001B[0;32m     51\u001B[0m \u001B[38;5;28mself\u001B[39m\u001B[38;5;241m.\u001B[39mrun_name \u001B[38;5;241m=\u001B[39m (\n\u001B[0;32m     52\u001B[0m     run_name\u001B[38;5;241m.\u001B[39mstrip()\n\u001B[0;32m     53\u001B[0m     \u001B[38;5;28;01mif\u001B[39;00m run_name \u001B[38;5;129;01mis\u001B[39;00m \u001B[38;5;129;01mnot\u001B[39;00m \u001B[38;5;28;01mNone\u001B[39;00m \u001B[38;5;129;01mand\u001B[39;00m run_name\u001B[38;5;241m.\u001B[39mstrip() \u001B[38;5;129;01mis\u001B[39;00m \u001B[38;5;129;01mnot\u001B[39;00m \u001B[38;5;28;01mNone\u001B[39;00m\n\u001B[0;32m     54\u001B[0m     \u001B[38;5;28;01melse\u001B[39;00m \u001B[38;5;124mf\u001B[39m\u001B[38;5;124m\"\u001B[39m\u001B[38;5;124mrunner_\u001B[39m\u001B[38;5;132;01m{\u001B[39;00mrandom_string()\u001B[38;5;132;01m}\u001B[39;00m\u001B[38;5;124m\"\u001B[39m\n\u001B[0;32m     55\u001B[0m )\n\u001B[0;32m     57\u001B[0m \u001B[38;5;28;01mif\u001B[39;00m os\u001B[38;5;241m.\u001B[39mpath\u001B[38;5;241m.\u001B[39mexists(Path(\u001B[38;5;124mf\u001B[39m\u001B[38;5;124m\"\u001B[39m\u001B[38;5;132;01m{\u001B[39;00mRUNS_PATH\u001B[38;5;132;01m}\u001B[39;00m\u001B[38;5;124m/\u001B[39m\u001B[38;5;132;01m{\u001B[39;00m\u001B[38;5;28mself\u001B[39m\u001B[38;5;241m.\u001B[39mrun_name\u001B[38;5;132;01m}\u001B[39;00m\u001B[38;5;124m\"\u001B[39m)):\n\u001B[1;32m---> 58\u001B[0m     \u001B[38;5;28;43mself\u001B[39;49m\u001B[38;5;241;43m.\u001B[39;49m\u001B[43m_overwrite_run_prompt\u001B[49m\u001B[43m(\u001B[49m\u001B[43m)\u001B[49m\n\u001B[0;32m     59\u001B[0m     \u001B[38;5;28mprint\u001B[39m(\u001B[38;5;124m\"\u001B[39m\u001B[38;5;130;01m\\n\u001B[39;00m\u001B[38;5;130;01m\\n\u001B[39;00m\u001B[38;5;124m\"\u001B[39m)\n\u001B[0;32m     61\u001B[0m \u001B[38;5;28mself\u001B[39m\u001B[38;5;241m.\u001B[39mrun \u001B[38;5;241m=\u001B[39m Run\u001B[38;5;241m.\u001B[39mcreate(\n\u001B[0;32m     62\u001B[0m     run_name\u001B[38;5;241m=\u001B[39m\u001B[38;5;28mself\u001B[39m\u001B[38;5;241m.\u001B[39mrun_name,\n\u001B[0;32m     63\u001B[0m     workflow_config_name\u001B[38;5;241m=\u001B[39m\u001B[38;5;28mself\u001B[39m\u001B[38;5;241m.\u001B[39mworkflow,\n\u001B[0;32m     64\u001B[0m     df_mode\u001B[38;5;241m=\u001B[39m\u001B[38;5;28mself\u001B[39m\u001B[38;5;241m.\u001B[39mdf_mode,\n\u001B[0;32m     65\u001B[0m )\n",
      "File \u001B[1;32m~\\Documents\\Uni\\WS22_23\\BP\\PROTzilla2\\protzilla\\runner.py:157\u001B[0m, in \u001B[0;36mRunner._overwrite_run_prompt\u001B[1;34m(self)\u001B[0m\n\u001B[0;32m    155\u001B[0m \u001B[38;5;28;01melse\u001B[39;00m:\n\u001B[0;32m    156\u001B[0m     \u001B[38;5;28mprint\u001B[39m(\u001B[38;5;124m\"\u001B[39m\u001B[38;5;130;01m\\n\u001B[39;00m\u001B[38;5;130;01m\\n\u001B[39;00m\u001B[38;5;124m----- Please answer with one of the given options\u001B[39m\u001B[38;5;124m\"\u001B[39m)\n\u001B[1;32m--> 157\u001B[0m     \u001B[38;5;28;43mself\u001B[39;49m\u001B[38;5;241;43m.\u001B[39;49m\u001B[43m_overwrite_run_prompt\u001B[49m\u001B[43m(\u001B[49m\u001B[43m)\u001B[49m\n",
      "File \u001B[1;32m~\\Documents\\Uni\\WS22_23\\BP\\PROTzilla2\\protzilla\\runner.py:157\u001B[0m, in \u001B[0;36mRunner._overwrite_run_prompt\u001B[1;34m(self)\u001B[0m\n\u001B[0;32m    155\u001B[0m \u001B[38;5;28;01melse\u001B[39;00m:\n\u001B[0;32m    156\u001B[0m     \u001B[38;5;28mprint\u001B[39m(\u001B[38;5;124m\"\u001B[39m\u001B[38;5;130;01m\\n\u001B[39;00m\u001B[38;5;130;01m\\n\u001B[39;00m\u001B[38;5;124m----- Please answer with one of the given options\u001B[39m\u001B[38;5;124m\"\u001B[39m)\n\u001B[1;32m--> 157\u001B[0m     \u001B[38;5;28;43mself\u001B[39;49m\u001B[38;5;241;43m.\u001B[39;49m\u001B[43m_overwrite_run_prompt\u001B[49m\u001B[43m(\u001B[49m\u001B[43m)\u001B[49m\n",
      "File \u001B[1;32m~\\Documents\\Uni\\WS22_23\\BP\\PROTzilla2\\protzilla\\runner.py:152\u001B[0m, in \u001B[0;36mRunner._overwrite_run_prompt\u001B[1;34m(self)\u001B[0m\n\u001B[0;32m    150\u001B[0m \u001B[38;5;28;01mif\u001B[39;00m answer \u001B[38;5;129;01min\u001B[39;00m [\u001B[38;5;124m\"\u001B[39m\u001B[38;5;124mn\u001B[39m\u001B[38;5;124m\"\u001B[39m, \u001B[38;5;124m\"\u001B[39m\u001B[38;5;124mno\u001B[39m\u001B[38;5;124m\"\u001B[39m]:\n\u001B[0;32m    151\u001B[0m     \u001B[38;5;28mprint\u001B[39m(\u001B[38;5;124m\"\u001B[39m\u001B[38;5;124mexiting\u001B[39m\u001B[38;5;124m\"\u001B[39m)\n\u001B[1;32m--> 152\u001B[0m     \u001B[43mexit\u001B[49m(\u001B[38;5;241m0\u001B[39m)\n\u001B[0;32m    153\u001B[0m \u001B[38;5;28;01melif\u001B[39;00m answer \u001B[38;5;129;01min\u001B[39;00m [\u001B[38;5;124m\"\u001B[39m\u001B[38;5;124my\u001B[39m\u001B[38;5;124m\"\u001B[39m, \u001B[38;5;124m\"\u001B[39m\u001B[38;5;124myes\u001B[39m\u001B[38;5;124m\"\u001B[39m]:\n\u001B[0;32m    154\u001B[0m     \u001B[38;5;28;01mreturn\u001B[39;00m\n",
      "\u001B[1;31mNameError\u001B[0m: name 'exit' is not defined"
     ]
    }
   ],
   "source": [
    "runner = Runner(\n",
    "    **{\n",
    "        \"workflow\": \"ba_hf_string\",\n",
    "        \"ms_data_path\": f\"{PROJECT_PATH}\\\\user_data\\\\data\\\\proteinGroups.txt\",\n",
    "        \"meta_data_path\": f\"{PROJECT_PATH}\\\\user_data\\\\data\\\\sdrf.tsv\",\n",
    "        \"peptides_path\": None,\n",
    "        \"run_name\": \"ba_string_background_numbers\",\n",
    "        \"df_mode\": \"disk\",\n",
    "        \"all_plots\": False,\n",
    "        \"verbose\": True,\n",
    "    }\n",
    ")\n",
    "runner.compute_workflow()\n",
    "\n",
    "# string output is empty because it doesn't know the ids"
   ]
  },
  {
   "cell_type": "code",
   "execution_count": 6,
   "outputs": [
    {
     "name": "stderr",
     "output_type": "stream",
     "text": [
      "INFO:root:Parsed arguments: {'self': <protzilla.runner.Runner object at 0x0000028B978A8150>, 'workflow': 'ba_hf_enrichr', 'ms_data_path': 'C:\\\\Users\\\\bzwad\\\\Documents\\\\Uni\\\\WS22_23\\\\BP\\\\PROTzilla2\\\\user_data\\\\data\\\\proteinGroups.txt', 'meta_data_path': 'C:\\\\Users\\\\bzwad\\\\Documents\\\\Uni\\\\WS22_23\\\\BP\\\\PROTzilla2\\\\user_data\\\\data\\\\sdrf.tsv', 'peptides_path': None, 'run_name': 'ba_hf_enrichr', 'df_mode': 'disk', 'all_plots': False, 'verbose': True}\n",
      "INFO:root:Run ba_hf_enrichr created at C:\\Users\\bzwad\\Documents\\Uni\\WS22_23\\BP\\PROTzilla2\\user_data\\runs\\ba_hf_enrichr\n",
      "INFO:root:Saving plots at C:\\Users\\bzwad\\Documents\\Uni\\WS22_23\\BP\\PROTzilla2\\user_data\\runs\\ba_hf_enrichr\\plots\n",
      "INFO:root:------ computing workflow\n",
      "\n",
      "INFO:root:imported MS Data\n",
      "INFO:root:imported Meta Data\n",
      "INFO:root:performing step: ('data_preprocessing', 'filter_proteins', 'samples_missing_filter')\n",
      "INFO:root:performing step: ('data_preprocessing', 'filter_samples', 'protein_intensity_sum_filter')\n",
      "INFO:root:performing step: ('data_preprocessing', 'imputation', 'knn')\n",
      "INFO:root:performing step: ('data_preprocessing', 'outlier_detection', 'local_outlier_factor')\n",
      "INFO:root:performing step: ('data_preprocessing', 'normalisation', 'median')\n",
      "INFO:root:performing step: ('data_analysis', 'differential_expression', 't_test')\n",
      "INFO:root:performing step: ('data_integration', 'database_integration', 'gene_mapping')\n",
      "INFO:protzilla:Mapping Uniprot IDs to genes.\n"
     ]
    },
    {
     "name": "stdout",
     "output_type": "stream",
     "text": [
      "\u001B[38;20m[2023/07/13 - 15:25:04] [    INFO] Mapping Uniprot IDs to genes.\u001B[0m\n"
     ]
    },
    {
     "name": "stderr",
     "output_type": "stream",
     "text": [
      "INFO:protzilla:Skipping biomart, done with mapping uniprot IDs to genes.\n"
     ]
    },
    {
     "name": "stdout",
     "output_type": "stream",
     "text": [
      "\u001B[38;20m[2023/07/13 - 15:25:06] [    INFO] Skipping biomart, done with mapping uniprot IDs to genes.\u001B[0m\n"
     ]
    },
    {
     "name": "stderr",
     "output_type": "stream",
     "text": [
      "INFO:root:performing step: ('data_integration', 'enrichment_analysis', 'GO_analysis_with_Enrichr')\n",
      "C:\\Users\\bzwad\\Documents\\Uni\\WS22_23\\BP\\PROTzilla2\\protzilla\\data_integration\\enrichment_analysis.py:524: SettingWithCopyWarning: \n",
      "A value is trying to be set on a copy of a slice from a DataFrame\n",
      "\n",
      "See the caveats in the documentation: https://pandas.pydata.org/pandas-docs/stable/user_guide/indexing.html#returning-a-view-versus-a-copy\n",
      "  proteins_df.drop_duplicates(subset=\"Protein ID\", inplace=True)\n",
      "INFO:protzilla:Starting analysis for upregulated proteins\n",
      "2023-07-13 15:25:08,761 [INFO] User defined gene sets is given: C:\\Users\\bzwad\\Documents\\Uni\\WS22_23\\BP\\PROTzilla2\\user_data\\data\\ReactomePathways.gmt\n",
      "2023-07-13 15:25:08,792 [INFO] Run: ReactomePathways.gmt \n",
      "2023-07-13 15:25:08,962 [INFO] Done.\n"
     ]
    },
    {
     "name": "stdout",
     "output_type": "stream",
     "text": [
      "\u001B[38;20m[2023/07/13 - 15:25:08] [    INFO] Starting analysis for upregulated proteins\u001B[0m\n"
     ]
    },
    {
     "name": "stderr",
     "output_type": "stream",
     "text": [
      "INFO:protzilla:Finished analysis for upregulated proteins\n",
      "INFO:protzilla:Starting analysis for downregulated proteins\n",
      "2023-07-13 15:25:08,971 [INFO] User defined gene sets is given: C:\\Users\\bzwad\\Documents\\Uni\\WS22_23\\BP\\PROTzilla2\\user_data\\data\\ReactomePathways.gmt\n",
      "2023-07-13 15:25:09,000 [INFO] Run: ReactomePathways.gmt \n",
      "2023-07-13 15:25:09,178 [INFO] Done.\n"
     ]
    },
    {
     "name": "stdout",
     "output_type": "stream",
     "text": [
      "\u001B[38;20m[2023/07/13 - 15:25:08] [    INFO] Finished analysis for upregulated proteins\u001B[0m\n",
      "\u001B[38;20m[2023/07/13 - 15:25:08] [    INFO] Starting analysis for downregulated proteins\u001B[0m\n"
     ]
    },
    {
     "name": "stderr",
     "output_type": "stream",
     "text": [
      "INFO:protzilla:Finished analysis for downregulated proteins\n",
      "INFO:protzilla:Merging results for up- and downregulated proteins\n"
     ]
    },
    {
     "name": "stdout",
     "output_type": "stream",
     "text": [
      "\u001B[38;20m[2023/07/13 - 15:25:09] [    INFO] Finished analysis for downregulated proteins\u001B[0m\n",
      "\u001B[38;20m[2023/07/13 - 15:25:09] [    INFO] Merging results for up- and downregulated proteins\u001B[0m\n"
     ]
    },
    {
     "name": "stderr",
     "output_type": "stream",
     "text": [
      "WARNING:root:Some proteins could not be mapped to gene symbols and were excluded from the analysis\n",
      "INFO:root:Parsed arguments: {'self': <protzilla.runner.Runner object at 0x0000028BA4943890>, 'workflow': 'ba_hf_string', 'ms_data_path': 'C:\\\\Users\\\\bzwad\\\\Documents\\\\Uni\\\\WS22_23\\\\BP\\\\PROTzilla2\\\\user_data\\\\data\\\\proteinGroups.txt', 'meta_data_path': 'C:\\\\Users\\\\bzwad\\\\Documents\\\\Uni\\\\WS22_23\\\\BP\\\\PROTzilla2\\\\user_data\\\\data\\\\sdrf.tsv', 'peptides_path': None, 'run_name': 'ba_hf_string', 'df_mode': 'disk', 'all_plots': False, 'verbose': True}\n",
      "INFO:root:Run ba_hf_string created at C:\\Users\\bzwad\\Documents\\Uni\\WS22_23\\BP\\PROTzilla2\\user_data\\runs\\ba_hf_string\n",
      "INFO:root:Saving plots at C:\\Users\\bzwad\\Documents\\Uni\\WS22_23\\BP\\PROTzilla2\\user_data\\runs\\ba_hf_string\\plots\n",
      "INFO:root:------ computing workflow\n",
      "\n",
      "INFO:root:imported MS Data\n",
      "INFO:root:imported Meta Data\n",
      "INFO:root:performing step: ('data_preprocessing', 'filter_proteins', 'samples_missing_filter')\n",
      "INFO:root:performing step: ('data_preprocessing', 'filter_samples', 'protein_intensity_sum_filter')\n",
      "INFO:root:performing step: ('data_preprocessing', 'imputation', 'knn')\n",
      "INFO:root:performing step: ('data_preprocessing', 'outlier_detection', 'local_outlier_factor')\n",
      "INFO:root:performing step: ('data_preprocessing', 'normalisation', 'median')\n",
      "INFO:root:performing step: ('data_analysis', 'differential_expression', 't_test')\n",
      "INFO:root:performing step: ('data_integration', 'database_integration', 'gene_mapping')\n",
      "INFO:protzilla:Mapping Uniprot IDs to genes.\n"
     ]
    },
    {
     "name": "stdout",
     "output_type": "stream",
     "text": [
      "\u001B[38;20m[2023/07/13 - 15:25:39] [    INFO] Mapping Uniprot IDs to genes.\u001B[0m\n"
     ]
    },
    {
     "name": "stderr",
     "output_type": "stream",
     "text": [
      "INFO:protzilla:Skipping biomart, done with mapping uniprot IDs to genes.\n"
     ]
    },
    {
     "name": "stdout",
     "output_type": "stream",
     "text": [
      "\u001B[38;20m[2023/07/13 - 15:25:40] [    INFO] Skipping biomart, done with mapping uniprot IDs to genes.\u001B[0m\n"
     ]
    },
    {
     "name": "stderr",
     "output_type": "stream",
     "text": [
      "INFO:root:performing step: ('data_integration', 'enrichment_analysis', 'GO_analysis_with_STRING')\n",
      "C:\\Users\\bzwad\\Documents\\Uni\\WS22_23\\BP\\PROTzilla2\\protzilla\\data_integration\\enrichment_analysis.py:157: SettingWithCopyWarning: \n",
      "A value is trying to be set on a copy of a slice from a DataFrame\n",
      "\n",
      "See the caveats in the documentation: https://pandas.pydata.org/pandas-docs/stable/user_guide/indexing.html#returning-a-view-versus-a-copy\n",
      "  proteins_df.drop_duplicates(subset=\"Protein ID\", inplace=True)\n",
      "INFO:protzilla:Mapping proteins to STRING IDs\n"
     ]
    },
    {
     "name": "stdout",
     "output_type": "stream",
     "text": [
      "\u001B[38;20m[2023/07/13 - 15:25:41] [    INFO] Mapping proteins to STRING IDs\u001B[0m\n"
     ]
    },
    {
     "name": "stderr",
     "output_type": "stream",
     "text": [
      "INFO:protzilla:Mapped 3823 proteins to STRING IDs\n",
      "INFO:protzilla:Starting analysis for upregulated proteins\n"
     ]
    },
    {
     "name": "stdout",
     "output_type": "stream",
     "text": [
      "\u001B[38;20m[2023/07/13 - 15:26:27] [    INFO] Mapped 3823 proteins to STRING IDs\u001B[0m\n",
      "\u001B[38;20m[2023/07/13 - 15:26:27] [    INFO] Starting analysis for upregulated proteins\u001B[0m\n",
      "Querying STRING. Session ID: restring-ko93ed6g, TaxID: 9606, 154 genes/proteins.\n",
      "Running the analysis against a statistical background of user-supplied terms.\n"
     ]
    },
    {
     "name": "stderr",
     "output_type": "stream",
     "text": [
      "INFO:protzilla:Finished analysis for upregulated proteins\n",
      "INFO:protzilla:Starting analysis for downregulated proteins\n"
     ]
    },
    {
     "name": "stdout",
     "output_type": "stream",
     "text": [
      "STRING replied in 1752.65 milliseconds.\n",
      "\u001B[38;20m[2023/07/13 - 15:26:29] [    INFO] Finished analysis for upregulated proteins\u001B[0m\n",
      "\u001B[38;20m[2023/07/13 - 15:26:29] [    INFO] Starting analysis for downregulated proteins\u001B[0m\n",
      "Querying STRING. Session ID: restring-ko93ed6g, TaxID: 9606, 161 genes/proteins.\n",
      "Running the analysis against a statistical background of user-supplied terms.\n"
     ]
    },
    {
     "name": "stderr",
     "output_type": "stream",
     "text": [
      "INFO:protzilla:Finished analysis for downregulated proteins\n",
      "INFO:protzilla:Summarizing enrichment results\n",
      "INFO:protzilla:Merging results for up- and downregulated proteins\n"
     ]
    },
    {
     "name": "stdout",
     "output_type": "stream",
     "text": [
      "STRING replied in 1673.11 milliseconds.\n",
      "\u001B[38;20m[2023/07/13 - 15:26:32] [    INFO] Finished analysis for downregulated proteins\u001B[0m\n",
      "\u001B[38;20m[2023/07/13 - 15:26:32] [    INFO] Summarizing enrichment results\u001B[0m\n",
      "\u001B[38;20m[2023/07/13 - 15:26:32] [    INFO] Merging results for up- and downregulated proteins\u001B[0m\n"
     ]
    },
    {
     "name": "stderr",
     "output_type": "stream",
     "text": [
      "INFO:root:Parsed arguments: {'self': <protzilla.runner.Runner object at 0x0000028BA4941BD0>, 'workflow': 'ba_hf_offline', 'ms_data_path': 'C:\\\\Users\\\\bzwad\\\\Documents\\\\Uni\\\\WS22_23\\\\BP\\\\PROTzilla2\\\\user_data\\\\data\\\\proteinGroups.txt', 'meta_data_path': 'C:\\\\Users\\\\bzwad\\\\Documents\\\\Uni\\\\WS22_23\\\\BP\\\\PROTzilla2\\\\user_data\\\\data\\\\sdrf.tsv', 'peptides_path': None, 'run_name': 'ba_hf_offline', 'df_mode': 'disk', 'all_plots': False, 'verbose': True}\n",
      "INFO:root:Run ba_hf_offline created at C:\\Users\\bzwad\\Documents\\Uni\\WS22_23\\BP\\PROTzilla2\\user_data\\runs\\ba_hf_offline\n",
      "INFO:root:Saving plots at C:\\Users\\bzwad\\Documents\\Uni\\WS22_23\\BP\\PROTzilla2\\user_data\\runs\\ba_hf_offline\\plots\n",
      "INFO:root:------ computing workflow\n",
      "\n",
      "INFO:root:imported MS Data\n",
      "INFO:root:imported Meta Data\n",
      "INFO:root:performing step: ('data_preprocessing', 'filter_proteins', 'samples_missing_filter')\n",
      "INFO:root:performing step: ('data_preprocessing', 'filter_samples', 'protein_intensity_sum_filter')\n",
      "INFO:root:performing step: ('data_preprocessing', 'imputation', 'knn')\n",
      "INFO:root:performing step: ('data_preprocessing', 'outlier_detection', 'local_outlier_factor')\n",
      "INFO:root:performing step: ('data_preprocessing', 'normalisation', 'median')\n",
      "INFO:root:performing step: ('data_analysis', 'differential_expression', 't_test')\n",
      "INFO:root:performing step: ('data_integration', 'database_integration', 'gene_mapping')\n",
      "INFO:protzilla:Mapping Uniprot IDs to genes.\n"
     ]
    },
    {
     "name": "stdout",
     "output_type": "stream",
     "text": [
      "\u001B[38;20m[2023/07/13 - 15:27:01] [    INFO] Mapping Uniprot IDs to genes.\u001B[0m\n"
     ]
    },
    {
     "name": "stderr",
     "output_type": "stream",
     "text": [
      "INFO:protzilla:Skipping biomart, done with mapping uniprot IDs to genes.\n"
     ]
    },
    {
     "name": "stdout",
     "output_type": "stream",
     "text": [
      "\u001B[38;20m[2023/07/13 - 15:27:02] [    INFO] Skipping biomart, done with mapping uniprot IDs to genes.\u001B[0m\n"
     ]
    },
    {
     "name": "stderr",
     "output_type": "stream",
     "text": [
      "INFO:root:performing step: ('data_integration', 'enrichment_analysis', 'GO_analysis_offline')\n",
      "C:\\Users\\bzwad\\Documents\\Uni\\WS22_23\\BP\\PROTzilla2\\protzilla\\data_integration\\enrichment_analysis.py:672: SettingWithCopyWarning: \n",
      "A value is trying to be set on a copy of a slice from a DataFrame\n",
      "\n",
      "See the caveats in the documentation: https://pandas.pydata.org/pandas-docs/stable/user_guide/indexing.html#returning-a-view-versus-a-copy\n",
      "  proteins_df.drop_duplicates(subset=\"Protein ID\", inplace=True)\n",
      "INFO:protzilla:Starting analysis for upregulated proteins\n",
      "2023-07-13 15:27:02,731 [INFO] User defined gene sets is given: C:\\Users\\bzwad\\Documents\\Uni\\WS22_23\\BP\\PROTzilla2\\user_data\\data\\ReactomePathways.gmt\n",
      "2023-07-13 15:27:02,757 [INFO] Run: ReactomePathways.gmt \n",
      "2023-07-13 15:27:02,893 [INFO] Done.\n",
      "INFO:protzilla:Finished analysis for upregulated proteins\n",
      "INFO:protzilla:Starting analysis for downregulated proteins\n",
      "2023-07-13 15:27:02,898 [INFO] User defined gene sets is given: C:\\Users\\bzwad\\Documents\\Uni\\WS22_23\\BP\\PROTzilla2\\user_data\\data\\ReactomePathways.gmt\n",
      "2023-07-13 15:27:02,924 [INFO] Run: ReactomePathways.gmt \n"
     ]
    },
    {
     "name": "stdout",
     "output_type": "stream",
     "text": [
      "\u001B[38;20m[2023/07/13 - 15:27:02] [    INFO] Starting analysis for upregulated proteins\u001B[0m\n",
      "\u001B[38;20m[2023/07/13 - 15:27:02] [    INFO] Finished analysis for upregulated proteins\u001B[0m\n",
      "\u001B[38;20m[2023/07/13 - 15:27:02] [    INFO] Starting analysis for downregulated proteins\u001B[0m\n"
     ]
    },
    {
     "name": "stderr",
     "output_type": "stream",
     "text": [
      "2023-07-13 15:27:03,060 [INFO] Done.\n",
      "INFO:protzilla:Finished analysis for downregulated proteins\n",
      "INFO:protzilla:Merging results for up- and downregulated proteins\n",
      "WARNING:root:Some proteins could not be mapped to gene symbols and were excluded from the analysis\n"
     ]
    },
    {
     "name": "stdout",
     "output_type": "stream",
     "text": [
      "\u001B[38;20m[2023/07/13 - 15:27:03] [    INFO] Finished analysis for downregulated proteins\u001B[0m\n",
      "\u001B[38;20m[2023/07/13 - 15:27:03] [    INFO] Merging results for up- and downregulated proteins\u001B[0m\n"
     ]
    },
    {
     "name": "stderr",
     "output_type": "stream",
     "text": [
      "INFO:root:Parsed arguments: {'self': <protzilla.runner.Runner object at 0x0000028BA1B5E310>, 'workflow': 'ba_hf_gsea', 'ms_data_path': 'C:\\\\Users\\\\bzwad\\\\Documents\\\\Uni\\\\WS22_23\\\\BP\\\\PROTzilla2\\\\user_data\\\\data\\\\proteinGroups.txt', 'meta_data_path': 'C:\\\\Users\\\\bzwad\\\\Documents\\\\Uni\\\\WS22_23\\\\BP\\\\PROTzilla2\\\\user_data\\\\data\\\\sdrf.tsv', 'peptides_path': None, 'run_name': 'ba_hf_gsea', 'df_mode': 'disk', 'all_plots': False, 'verbose': True}\n",
      "INFO:root:Run ba_hf_gsea created at C:\\Users\\bzwad\\Documents\\Uni\\WS22_23\\BP\\PROTzilla2\\user_data\\runs\\ba_hf_gsea\n",
      "INFO:root:Saving plots at C:\\Users\\bzwad\\Documents\\Uni\\WS22_23\\BP\\PROTzilla2\\user_data\\runs\\ba_hf_gsea\\plots\n",
      "INFO:root:------ computing workflow\n",
      "\n",
      "INFO:root:imported MS Data\n",
      "INFO:root:imported Meta Data\n",
      "INFO:root:performing step: ('data_preprocessing', 'filter_proteins', 'samples_missing_filter')\n",
      "INFO:root:performing step: ('data_preprocessing', 'filter_samples', 'protein_intensity_sum_filter')\n",
      "INFO:root:performing step: ('data_preprocessing', 'imputation', 'knn')\n",
      "INFO:root:performing step: ('data_preprocessing', 'outlier_detection', 'local_outlier_factor')\n",
      "INFO:root:performing step: ('data_preprocessing', 'normalisation', 'median')\n",
      "INFO:root:performing step: ('data_analysis', 'differential_expression', 't_test')\n",
      "INFO:root:performing step: ('data_integration', 'database_integration', 'gene_mapping')\n",
      "INFO:protzilla:Mapping Uniprot IDs to genes.\n"
     ]
    },
    {
     "name": "stdout",
     "output_type": "stream",
     "text": [
      "\u001B[38;20m[2023/07/13 - 15:27:30] [    INFO] Mapping Uniprot IDs to genes.\u001B[0m\n"
     ]
    },
    {
     "name": "stderr",
     "output_type": "stream",
     "text": [
      "INFO:protzilla:Skipping biomart, done with mapping uniprot IDs to genes.\n"
     ]
    },
    {
     "name": "stdout",
     "output_type": "stream",
     "text": [
      "\u001B[38;20m[2023/07/13 - 15:27:31] [    INFO] Skipping biomart, done with mapping uniprot IDs to genes.\u001B[0m\n"
     ]
    },
    {
     "name": "stderr",
     "output_type": "stream",
     "text": [
      "INFO:root:performing step: ('data_integration', 'enrichment_analysis', 'gsea')\n",
      "INFO:protzilla:Running GSEA\n",
      "2023-07-13 15:27:32,497 [INFO] Parsing data files for GSEA.............................\n",
      "2023-07-13 15:27:32,546 [INFO] 2388 gene_sets have been filtered out when max_size=500 and min_size=1\n",
      "2023-07-13 15:27:32,547 [INFO] 0224 gene_sets used for further statistical testing.....\n",
      "2023-07-13 15:27:32,548 [INFO] Start to run GSEA...Might take a while..................\n",
      "2023-07-13 15:27:32,690 [INFO] Congratulations. GSEApy ran successfully.................\n",
      "\n"
     ]
    },
    {
     "name": "stdout",
     "output_type": "stream",
     "text": [
      "\u001B[38;20m[2023/07/13 - 15:27:32] [    INFO] Running GSEA\u001B[0m\n"
     ]
    },
    {
     "name": "stderr",
     "output_type": "stream",
     "text": [
      "WARNING:root:Some proteins could not be mapped to gene symbols and were excluded from the analysis\n",
      "INFO:root:Parsed arguments: {'self': <protzilla.runner.Runner object at 0x0000028B977CFC10>, 'workflow': 'ba_hf_preranked', 'ms_data_path': 'C:\\\\Users\\\\bzwad\\\\Documents\\\\Uni\\\\WS22_23\\\\BP\\\\PROTzilla2\\\\user_data\\\\data\\\\proteinGroups.txt', 'meta_data_path': 'C:\\\\Users\\\\bzwad\\\\Documents\\\\Uni\\\\WS22_23\\\\BP\\\\PROTzilla2\\\\user_data\\\\data\\\\sdrf.tsv', 'peptides_path': None, 'run_name': 'ba_hf_preranked', 'df_mode': 'disk', 'all_plots': False, 'verbose': True}\n",
      "INFO:root:Run ba_hf_preranked created at C:\\Users\\bzwad\\Documents\\Uni\\WS22_23\\BP\\PROTzilla2\\user_data\\runs\\ba_hf_preranked\n",
      "INFO:root:Saving plots at C:\\Users\\bzwad\\Documents\\Uni\\WS22_23\\BP\\PROTzilla2\\user_data\\runs\\ba_hf_preranked\\plots\n",
      "INFO:root:------ computing workflow\n",
      "\n",
      "INFO:root:imported MS Data\n",
      "INFO:root:imported Meta Data\n",
      "INFO:root:performing step: ('data_preprocessing', 'filter_proteins', 'samples_missing_filter')\n",
      "INFO:root:performing step: ('data_preprocessing', 'filter_samples', 'protein_intensity_sum_filter')\n",
      "INFO:root:performing step: ('data_preprocessing', 'imputation', 'knn')\n",
      "INFO:root:performing step: ('data_preprocessing', 'outlier_detection', 'local_outlier_factor')\n",
      "INFO:root:performing step: ('data_preprocessing', 'normalisation', 'median')\n",
      "INFO:root:performing step: ('data_analysis', 'differential_expression', 't_test')\n",
      "INFO:root:performing step: ('data_integration', 'database_integration', 'gene_mapping')\n",
      "INFO:protzilla:Mapping Uniprot IDs to genes.\n"
     ]
    },
    {
     "name": "stdout",
     "output_type": "stream",
     "text": [
      "\u001B[38;20m[2023/07/13 - 15:27:58] [    INFO] Mapping Uniprot IDs to genes.\u001B[0m\n"
     ]
    },
    {
     "name": "stderr",
     "output_type": "stream",
     "text": [
      "INFO:protzilla:Skipping biomart, done with mapping uniprot IDs to genes.\n"
     ]
    },
    {
     "name": "stdout",
     "output_type": "stream",
     "text": [
      "\u001B[38;20m[2023/07/13 - 15:27:59] [    INFO] Skipping biomart, done with mapping uniprot IDs to genes.\u001B[0m\n"
     ]
    },
    {
     "name": "stderr",
     "output_type": "stream",
     "text": [
      "INFO:root:performing step: ('data_integration', 'enrichment_analysis', 'gsea_preranked')\n",
      "INFO:protzilla:Ranking input\n",
      "C:\\Users\\bzwad\\Documents\\Uni\\WS22_23\\BP\\PROTzilla2\\protzilla\\data_integration\\enrichment_analysis_gsea.py:44: SettingWithCopyWarning: \n",
      "A value is trying to be set on a copy of a slice from a DataFrame\n",
      "\n",
      "See the caveats in the documentation: https://pandas.pydata.org/pandas-docs/stable/user_guide/indexing.html#returning-a-view-versus-a-copy\n",
      "  protein_df.drop_duplicates(subset=\"Protein ID\", inplace=True)\n",
      "INFO:protzilla:Running GSEA\n",
      "2023-07-13 15:28:00,354 [WARNING] Duplicated values found in preranked stats: 14.04% of genes\n",
      "The order of those genes will be arbitrary, which may produce unexpected results.\n",
      "2023-07-13 15:28:00,354 [INFO] Parsing data files for GSEA.............................\n",
      "2023-07-13 15:28:00,403 [INFO] 2388 gene_sets have been filtered out when max_size=500 and min_size=1\n",
      "2023-07-13 15:28:00,403 [INFO] 0224 gene_sets used for further statistical testing.....\n",
      "2023-07-13 15:28:00,404 [INFO] Start to run GSEA...Might take a while..................\n"
     ]
    },
    {
     "name": "stdout",
     "output_type": "stream",
     "text": [
      "\u001B[38;20m[2023/07/13 - 15:28:00] [    INFO] Ranking input\u001B[0m\n",
      "\u001B[38;20m[2023/07/13 - 15:28:00] [    INFO] Running GSEA\u001B[0m\n"
     ]
    },
    {
     "name": "stderr",
     "output_type": "stream",
     "text": [
      "2023-07-13 15:28:00,540 [INFO] Congratulations. GSEApy runs successfully................\n",
      "\n",
      "WARNING:root:Some proteins could not be mapped to gene symbols and were excluded from the analysis\n"
     ]
    }
   ],
   "source": [
    "workflows = [\"ba_hf_enrichr\", \"ba_hf_string\", \"ba_hf_offline\", \"ba_hf_gsea\", \"ba_hf_preranked\"]\n",
    "\n",
    "for workflow in workflows:\n",
    "    runner = Runner(\n",
    "        **{\n",
    "            \"workflow\": workflow,\n",
    "            \"ms_data_path\": f\"{PROJECT_PATH}\\\\user_data\\\\data\\\\proteinGroups.txt\",\n",
    "            \"meta_data_path\": f\"{PROJECT_PATH}\\\\user_data\\\\data\\\\sdrf.tsv\",\n",
    "            \"peptides_path\": None,\n",
    "            \"run_name\": workflow,\n",
    "            \"df_mode\": \"disk\",\n",
    "            \"all_plots\": False,\n",
    "            \"verbose\": True,\n",
    "        }\n",
    "    )\n",
    "    runner.compute_workflow()"
   ],
   "metadata": {
    "collapsed": false,
    "pycharm": {
     "name": "#%%\n"
    }
   }
  },
  {
   "cell_type": "code",
   "execution_count": 4,
   "outputs": [
    {
     "name": "stderr",
     "output_type": "stream",
     "text": [
      "INFO:root:Parsed arguments: {'self': <protzilla.runner.Runner object at 0x0000022C1CF549D0>, 'workflow': 'ba_hf_enrichr', 'ms_data_path': 'C:\\\\Users\\\\bzwad\\\\Documents\\\\Uni\\\\WS22_23\\\\BP\\\\PROTzilla2\\\\user_data\\\\data\\\\proteinGroups.txt', 'meta_data_path': 'C:\\\\Users\\\\bzwad\\\\Documents\\\\Uni\\\\WS22_23\\\\BP\\\\PROTzilla2\\\\user_data\\\\data\\\\sdrf.tsv', 'peptides_path': None, 'run_name': 'ba_hf_enrichr', 'df_mode': 'disk', 'all_plots': False, 'verbose': True}\n",
      "INFO:root:Run ba_hf_enrichr created at C:\\Users\\bzwad\\Documents\\Uni\\WS22_23\\BP\\PROTzilla2\\user_data\\runs\\ba_hf_enrichr\n",
      "INFO:root:Saving plots at C:\\Users\\bzwad\\Documents\\Uni\\WS22_23\\BP\\PROTzilla2\\user_data\\runs\\ba_hf_enrichr\\plots\n",
      "INFO:root:------ computing workflow\n",
      "\n",
      "INFO:root:imported MS Data\n",
      "INFO:root:imported Meta Data\n",
      "INFO:root:performing step: ('data_preprocessing', 'filter_proteins', 'samples_missing_filter')\n",
      "INFO:root:performing step: ('data_preprocessing', 'filter_samples', 'protein_intensity_sum_filter')\n",
      "INFO:root:performing step: ('data_preprocessing', 'imputation', 'knn')\n",
      "INFO:root:performing step: ('data_preprocessing', 'outlier_detection', 'local_outlier_factor')\n",
      "INFO:root:performing step: ('data_preprocessing', 'normalisation', 'median')\n",
      "INFO:root:performing step: ('data_analysis', 'differential_expression', 't_test')\n",
      "INFO:root:performing step: ('data_integration', 'database_integration', 'gene_mapping')\n",
      "INFO:protzilla:Mapping Uniprot IDs to genes.\n"
     ]
    },
    {
     "name": "stdout",
     "output_type": "stream",
     "text": [
      "\u001B[38;20m[2023/07/17 - 21:02:05] [    INFO] Mapping Uniprot IDs to genes.\u001B[0m\n"
     ]
    },
    {
     "name": "stderr",
     "output_type": "stream",
     "text": [
      "INFO:protzilla:Skipping biomart, done with mapping uniprot IDs to genes.\n"
     ]
    },
    {
     "name": "stdout",
     "output_type": "stream",
     "text": [
      "\u001B[38;20m[2023/07/17 - 21:02:06] [    INFO] Skipping biomart, done with mapping uniprot IDs to genes.\u001B[0m\n"
     ]
    },
    {
     "name": "stderr",
     "output_type": "stream",
     "text": [
      "INFO:root:performing step: ('data_integration', 'enrichment_analysis', 'GO_analysis_with_Enrichr')\n",
      "C:\\Users\\bzwad\\Documents\\Uni\\WS22_23\\BP\\PROTzilla2\\protzilla\\data_integration\\enrichment_analysis.py:526: SettingWithCopyWarning: \n",
      "A value is trying to be set on a copy of a slice from a DataFrame\n",
      "\n",
      "See the caveats in the documentation: https://pandas.pydata.org/pandas-docs/stable/user_guide/indexing.html#returning-a-view-versus-a-copy\n",
      "  proteins_df = proteins_df[[\"Protein ID\", differential_expression_col]]\n",
      "INFO:protzilla:Starting analysis for upregulated proteins\n",
      "2023-07-17 21:02:07,871 [INFO] User defined gene sets is given: C:\\Users\\bzwad\\Documents\\Uni\\WS22_23\\BP\\PROTzilla2\\user_data\\data\\ReactomePathways.gmt\n",
      "2023-07-17 21:02:07,900 [INFO] Run: ReactomePathways.gmt \n",
      "2023-07-17 21:02:08,038 [INFO] Done.\n",
      "INFO:protzilla:Finished analysis for upregulated proteins\n",
      "INFO:protzilla:Starting analysis for downregulated proteins\n",
      "2023-07-17 21:02:08,044 [INFO] User defined gene sets is given: C:\\Users\\bzwad\\Documents\\Uni\\WS22_23\\BP\\PROTzilla2\\user_data\\data\\ReactomePathways.gmt\n",
      "2023-07-17 21:02:08,071 [INFO] Run: ReactomePathways.gmt \n"
     ]
    },
    {
     "name": "stdout",
     "output_type": "stream",
     "text": [
      "\u001B[38;20m[2023/07/17 - 21:02:07] [    INFO] Starting analysis for upregulated proteins\u001B[0m\n",
      "\u001B[38;20m[2023/07/17 - 21:02:08] [    INFO] Finished analysis for upregulated proteins\u001B[0m\n",
      "\u001B[38;20m[2023/07/17 - 21:02:08] [    INFO] Starting analysis for downregulated proteins\u001B[0m\n"
     ]
    },
    {
     "name": "stderr",
     "output_type": "stream",
     "text": [
      "2023-07-17 21:02:08,226 [INFO] Done.\n",
      "INFO:protzilla:Finished analysis for downregulated proteins\n",
      "INFO:protzilla:Merging results for up- and downregulated proteins\n",
      "WARNING:root:Some proteins could not be mapped to gene symbols and were excluded from the analysis\n"
     ]
    },
    {
     "name": "stdout",
     "output_type": "stream",
     "text": [
      "\u001B[38;20m[2023/07/17 - 21:02:08] [    INFO] Finished analysis for downregulated proteins\u001B[0m\n",
      "\u001B[38;20m[2023/07/17 - 21:02:08] [    INFO] Merging results for up- and downregulated proteins\u001B[0m\n"
     ]
    },
    {
     "name": "stderr",
     "output_type": "stream",
     "text": [
      "INFO:root:Parsed arguments: {'self': <protzilla.runner.Runner object at 0x0000022C592DE950>, 'workflow': 'ba_hf_offline', 'ms_data_path': 'C:\\\\Users\\\\bzwad\\\\Documents\\\\Uni\\\\WS22_23\\\\BP\\\\PROTzilla2\\\\user_data\\\\data\\\\proteinGroups.txt', 'meta_data_path': 'C:\\\\Users\\\\bzwad\\\\Documents\\\\Uni\\\\WS22_23\\\\BP\\\\PROTzilla2\\\\user_data\\\\data\\\\sdrf.tsv', 'peptides_path': None, 'run_name': 'ba_hf_offline', 'df_mode': 'disk', 'all_plots': False, 'verbose': True}\n",
      "INFO:root:Run ba_hf_offline created at C:\\Users\\bzwad\\Documents\\Uni\\WS22_23\\BP\\PROTzilla2\\user_data\\runs\\ba_hf_offline\n",
      "INFO:root:Saving plots at C:\\Users\\bzwad\\Documents\\Uni\\WS22_23\\BP\\PROTzilla2\\user_data\\runs\\ba_hf_offline\\plots\n",
      "INFO:root:------ computing workflow\n",
      "\n",
      "INFO:root:imported MS Data\n",
      "INFO:root:imported Meta Data\n",
      "INFO:root:performing step: ('data_preprocessing', 'filter_proteins', 'samples_missing_filter')\n",
      "INFO:root:performing step: ('data_preprocessing', 'filter_samples', 'protein_intensity_sum_filter')\n",
      "INFO:root:performing step: ('data_preprocessing', 'imputation', 'knn')\n",
      "INFO:root:performing step: ('data_preprocessing', 'outlier_detection', 'local_outlier_factor')\n",
      "INFO:root:performing step: ('data_preprocessing', 'normalisation', 'median')\n",
      "INFO:root:performing step: ('data_analysis', 'differential_expression', 't_test')\n",
      "INFO:root:performing step: ('data_integration', 'database_integration', 'gene_mapping')\n",
      "INFO:protzilla:Mapping Uniprot IDs to genes.\n"
     ]
    },
    {
     "name": "stdout",
     "output_type": "stream",
     "text": [
      "\u001B[38;20m[2023/07/17 - 21:02:34] [    INFO] Mapping Uniprot IDs to genes.\u001B[0m\n"
     ]
    },
    {
     "name": "stderr",
     "output_type": "stream",
     "text": [
      "INFO:protzilla:Skipping biomart, done with mapping uniprot IDs to genes.\n"
     ]
    },
    {
     "name": "stdout",
     "output_type": "stream",
     "text": [
      "\u001B[38;20m[2023/07/17 - 21:02:35] [    INFO] Skipping biomart, done with mapping uniprot IDs to genes.\u001B[0m\n"
     ]
    },
    {
     "name": "stderr",
     "output_type": "stream",
     "text": [
      "INFO:root:performing step: ('data_integration', 'enrichment_analysis', 'GO_analysis_offline')\n",
      "C:\\Users\\bzwad\\Documents\\Uni\\WS22_23\\BP\\PROTzilla2\\protzilla\\data_integration\\enrichment_analysis.py:674: SettingWithCopyWarning: \n",
      "A value is trying to be set on a copy of a slice from a DataFrame\n",
      "\n",
      "See the caveats in the documentation: https://pandas.pydata.org/pandas-docs/stable/user_guide/indexing.html#returning-a-view-versus-a-copy\n",
      "  proteins_df = proteins_df[[\"Protein ID\", differential_expression_col]]\n",
      "INFO:protzilla:Starting analysis for upregulated proteins\n",
      "2023-07-17 21:02:35,846 [INFO] User defined gene sets is given: C:\\Users\\bzwad\\Documents\\Uni\\WS22_23\\BP\\PROTzilla2\\user_data\\data\\ReactomePathways.gmt\n",
      "2023-07-17 21:02:35,878 [INFO] Run: ReactomePathways.gmt \n"
     ]
    },
    {
     "name": "stdout",
     "output_type": "stream",
     "text": [
      "\u001B[38;20m[2023/07/17 - 21:02:35] [    INFO] Starting analysis for upregulated proteins\u001B[0m\n"
     ]
    },
    {
     "name": "stderr",
     "output_type": "stream",
     "text": [
      "2023-07-17 21:02:36,044 [INFO] Done.\n",
      "INFO:protzilla:Finished analysis for upregulated proteins\n",
      "INFO:protzilla:Starting analysis for downregulated proteins\n",
      "2023-07-17 21:02:36,052 [INFO] User defined gene sets is given: C:\\Users\\bzwad\\Documents\\Uni\\WS22_23\\BP\\PROTzilla2\\user_data\\data\\ReactomePathways.gmt\n",
      "2023-07-17 21:02:36,083 [INFO] Run: ReactomePathways.gmt \n",
      "2023-07-17 21:02:36,210 [INFO] Done.\n",
      "INFO:protzilla:Finished analysis for downregulated proteins\n",
      "INFO:protzilla:Merging results for up- and downregulated proteins\n"
     ]
    },
    {
     "name": "stdout",
     "output_type": "stream",
     "text": [
      "\u001B[38;20m[2023/07/17 - 21:02:36] [    INFO] Finished analysis for upregulated proteins\u001B[0m\n",
      "\u001B[38;20m[2023/07/17 - 21:02:36] [    INFO] Starting analysis for downregulated proteins\u001B[0m\n",
      "\u001B[38;20m[2023/07/17 - 21:02:36] [    INFO] Finished analysis for downregulated proteins\u001B[0m\n",
      "\u001B[38;20m[2023/07/17 - 21:02:36] [    INFO] Merging results for up- and downregulated proteins\u001B[0m\n"
     ]
    },
    {
     "name": "stderr",
     "output_type": "stream",
     "text": [
      "WARNING:root:Some proteins could not be mapped to gene symbols and were excluded from the analysis\n"
     ]
    }
   ],
   "source": [
    "workflows = [\"ba_hf_enrichr\", \"ba_hf_offline\"]\n",
    "\n",
    "for workflow in workflows:\n",
    "    runner = Runner(\n",
    "        **{\n",
    "            \"workflow\": workflow,\n",
    "            \"ms_data_path\": f\"{PROJECT_PATH}\\\\user_data\\\\data\\\\proteinGroups.txt\",\n",
    "            \"meta_data_path\": f\"{PROJECT_PATH}\\\\user_data\\\\data\\\\sdrf.tsv\",\n",
    "            \"peptides_path\": None,\n",
    "            \"run_name\": f\"{workflow}\",\n",
    "            \"df_mode\": \"disk\",\n",
    "            \"all_plots\": False,\n",
    "            \"verbose\": True,\n",
    "        }\n",
    "    )\n",
    "    runner.compute_workflow()"
   ],
   "metadata": {
    "collapsed": false,
    "pycharm": {
     "name": "#%%\n"
    }
   }
  },
  {
   "cell_type": "code",
   "execution_count": 7,
   "outputs": [
    {
     "name": "stderr",
     "output_type": "stream",
     "text": [
      "INFO:root:Parsed arguments: {'self': <protzilla.runner.Runner object at 0x0000021CBE0FA6D0>, 'workflow': 'ba_hf_string', 'ms_data_path': 'C:\\\\Users\\\\bzwad\\\\Documents\\\\Uni\\\\WS22_23\\\\BP\\\\PROTzilla2\\\\user_data\\\\data\\\\proteinGroups.txt', 'meta_data_path': 'C:\\\\Users\\\\bzwad\\\\Documents\\\\Uni\\\\WS22_23\\\\BP\\\\PROTzilla2\\\\user_data\\\\data\\\\sdrf.tsv', 'peptides_path': None, 'run_name': 'ba_hf_string_plots', 'df_mode': 'disk', 'all_plots': False, 'verbose': True}\n",
      "INFO:root:Run ba_hf_string_plots created at C:\\Users\\bzwad\\Documents\\Uni\\WS22_23\\BP\\PROTzilla2\\user_data\\runs\\ba_hf_string_plots\n",
      "INFO:root:Saving plots at C:\\Users\\bzwad\\Documents\\Uni\\WS22_23\\BP\\PROTzilla2\\user_data\\runs\\ba_hf_string_plots\\plots\n",
      "INFO:root:------ computing workflow\n",
      "\n",
      "INFO:root:imported MS Data\n",
      "INFO:root:imported Meta Data\n",
      "INFO:root:performing step: ('data_preprocessing', 'filter_proteins', 'samples_missing_filter')\n",
      "INFO:root:performing step: ('data_preprocessing', 'filter_samples', 'protein_intensity_sum_filter')\n",
      "INFO:root:performing step: ('data_preprocessing', 'imputation', 'knn')\n",
      "INFO:root:performing step: ('data_preprocessing', 'outlier_detection', 'local_outlier_factor')\n",
      "INFO:root:performing step: ('data_preprocessing', 'normalisation', 'median')\n",
      "INFO:root:performing step: ('data_analysis', 'differential_expression', 't_test')\n",
      "INFO:root:performing step: ('data_integration', 'database_integration', 'gene_mapping')\n",
      "INFO:protzilla:Mapping Uniprot IDs to genes.\n"
     ]
    },
    {
     "name": "stdout",
     "output_type": "stream",
     "text": [
      "\u001B[38;20m[2023/07/18 - 10:29:20] [    INFO] Mapping Uniprot IDs to genes.\u001B[0m\n"
     ]
    },
    {
     "name": "stderr",
     "output_type": "stream",
     "text": [
      "INFO:protzilla:Skipping biomart, done with mapping uniprot IDs to genes.\n"
     ]
    },
    {
     "name": "stdout",
     "output_type": "stream",
     "text": [
      "\u001B[38;20m[2023/07/18 - 10:29:21] [    INFO] Skipping biomart, done with mapping uniprot IDs to genes.\u001B[0m\n"
     ]
    },
    {
     "name": "stderr",
     "output_type": "stream",
     "text": [
      "INFO:root:performing step: ('data_integration', 'enrichment_analysis', 'GO_analysis_with_STRING')\n",
      "C:\\Users\\bzwad\\Documents\\Uni\\WS22_23\\BP\\PROTzilla2\\protzilla\\data_integration\\enrichment_analysis.py:157: SettingWithCopyWarning: \n",
      "A value is trying to be set on a copy of a slice from a DataFrame\n",
      "\n",
      "See the caveats in the documentation: https://pandas.pydata.org/pandas-docs/stable/user_guide/indexing.html#returning-a-view-versus-a-copy\n",
      "  proteins_df.drop_duplicates(subset=\"Protein ID\", inplace=True)\n"
     ]
    },
    {
     "name": "stdout",
     "output_type": "stream",
     "text": [
      "split and cleaned 34187\n"
     ]
    },
    {
     "ename": "TypeError",
     "evalue": "map_to_string_ids() missing 1 required positional argument: 'split'",
     "output_type": "error",
     "traceback": [
      "\u001B[1;31m---------------------------------------------------------------------------\u001B[0m",
      "\u001B[1;31mTypeError\u001B[0m                                 Traceback (most recent call last)",
      "Cell \u001B[1;32mIn[7], line 16\u001B[0m\n\u001B[0;32m      3\u001B[0m \u001B[38;5;28;01mfor\u001B[39;00m workflow \u001B[38;5;129;01min\u001B[39;00m workflows:\n\u001B[0;32m      4\u001B[0m     runner \u001B[38;5;241m=\u001B[39m Runner(\n\u001B[0;32m      5\u001B[0m         \u001B[38;5;241m*\u001B[39m\u001B[38;5;241m*\u001B[39m{\n\u001B[0;32m      6\u001B[0m             \u001B[38;5;124m\"\u001B[39m\u001B[38;5;124mworkflow\u001B[39m\u001B[38;5;124m\"\u001B[39m: workflow,\n\u001B[1;32m   (...)\u001B[0m\n\u001B[0;32m     14\u001B[0m         }\n\u001B[0;32m     15\u001B[0m     )\n\u001B[1;32m---> 16\u001B[0m     \u001B[43mrunner\u001B[49m\u001B[38;5;241;43m.\u001B[39;49m\u001B[43mcompute_workflow\u001B[49m\u001B[43m(\u001B[49m\u001B[43m)\u001B[49m\n",
      "File \u001B[1;32m~\\Documents\\Uni\\WS22_23\\BP\\PROTzilla2\\protzilla\\runner.py:91\u001B[0m, in \u001B[0;36mRunner.compute_workflow\u001B[1;34m(self)\u001B[0m\n\u001B[0;32m     85\u001B[0m logging\u001B[38;5;241m.\u001B[39minfo(\n\u001B[0;32m     86\u001B[0m     \u001B[38;5;124mf\u001B[39m\u001B[38;5;124m\"\u001B[39m\u001B[38;5;124mperforming step: \u001B[39m\u001B[38;5;132;01m{\u001B[39;00m\u001B[38;5;241m*\u001B[39m\u001B[38;5;28mself\u001B[39m\u001B[38;5;241m.\u001B[39mrun\u001B[38;5;241m.\u001B[39mcurrent_workflow_location(),\u001B[38;5;132;01m}\u001B[39;00m\u001B[38;5;124m\"\u001B[39m\n\u001B[0;32m     87\u001B[0m )\n\u001B[0;32m     88\u001B[0m params \u001B[38;5;241m=\u001B[39m get_parameters(\n\u001B[0;32m     89\u001B[0m     \u001B[38;5;28mself\u001B[39m\u001B[38;5;241m.\u001B[39mrun, \u001B[38;5;241m*\u001B[39m\u001B[38;5;28mself\u001B[39m\u001B[38;5;241m.\u001B[39mrun\u001B[38;5;241m.\u001B[39mcurrent_workflow_location()\n\u001B[0;32m     90\u001B[0m )\n\u001B[1;32m---> 91\u001B[0m \u001B[38;5;28;43mself\u001B[39;49m\u001B[38;5;241;43m.\u001B[39;49m\u001B[43m_perform_current_step\u001B[49m\u001B[43m(\u001B[49m\u001B[43mget_defaults\u001B[49m\u001B[43m(\u001B[49m\u001B[43mparams\u001B[49m\u001B[43m)\u001B[49m\u001B[43m)\u001B[49m\n\u001B[0;32m     92\u001B[0m \u001B[38;5;28;01mif\u001B[39;00m \u001B[38;5;28mself\u001B[39m\u001B[38;5;241m.\u001B[39mall_plots:\n\u001B[0;32m     93\u001B[0m     \u001B[38;5;28mself\u001B[39m\u001B[38;5;241m.\u001B[39m_create_plots_for_step(section, step)\n",
      "File \u001B[1;32m~\\Documents\\Uni\\WS22_23\\BP\\PROTzilla2\\protzilla\\runner.py:127\u001B[0m, in \u001B[0;36mRunner._perform_current_step\u001B[1;34m(self, params)\u001B[0m\n\u001B[0;32m    126\u001B[0m \u001B[38;5;28;01mdef\u001B[39;00m \u001B[38;5;21m_perform_current_step\u001B[39m(\u001B[38;5;28mself\u001B[39m, params):\n\u001B[1;32m--> 127\u001B[0m     \u001B[38;5;28;43mself\u001B[39;49m\u001B[38;5;241;43m.\u001B[39;49m\u001B[43mrun\u001B[49m\u001B[38;5;241;43m.\u001B[39;49m\u001B[43mperform_current_calculation_step\u001B[49m\u001B[43m(\u001B[49m\u001B[43mparams\u001B[49m\u001B[43m)\u001B[49m\n",
      "File \u001B[1;32m~\\Documents\\Uni\\WS22_23\\BP\\PROTzilla2\\protzilla\\run.py:136\u001B[0m, in \u001B[0;36mRun.perform_current_calculation_step\u001B[1;34m(self, parameters)\u001B[0m\n\u001B[0;32m    135\u001B[0m \u001B[38;5;28;01mdef\u001B[39;00m \u001B[38;5;21mperform_current_calculation_step\u001B[39m(\u001B[38;5;28mself\u001B[39m, parameters):\n\u001B[1;32m--> 136\u001B[0m     \u001B[38;5;28;43mself\u001B[39;49m\u001B[38;5;241;43m.\u001B[39;49m\u001B[43mperform_calculation_from_location\u001B[49m\u001B[43m(\u001B[49m\u001B[38;5;241;43m*\u001B[39;49m\u001B[38;5;28;43mself\u001B[39;49m\u001B[38;5;241;43m.\u001B[39;49m\u001B[43mcurrent_run_location\u001B[49m\u001B[43m(\u001B[49m\u001B[43m)\u001B[49m\u001B[43m,\u001B[49m\u001B[43m \u001B[49m\u001B[43mparameters\u001B[49m\u001B[43m)\u001B[49m\n",
      "File \u001B[1;32m~\\Documents\\Uni\\WS22_23\\BP\\PROTzilla2\\protzilla\\run.py:144\u001B[0m, in \u001B[0;36mRun.perform_calculation_from_location\u001B[1;34m(self, section, step, method, parameters)\u001B[0m\n\u001B[0;32m    142\u001B[0m \u001B[38;5;28;01mdef\u001B[39;00m \u001B[38;5;21mperform_calculation_from_location\u001B[39m(\u001B[38;5;28mself\u001B[39m, section, step, method, parameters):\n\u001B[0;32m    143\u001B[0m     location \u001B[38;5;241m=\u001B[39m (section, step, method)\n\u001B[1;32m--> 144\u001B[0m     \u001B[38;5;28;43mself\u001B[39;49m\u001B[38;5;241;43m.\u001B[39;49m\u001B[43mperform_calculation\u001B[49m\u001B[43m(\u001B[49m\u001B[43mmethod_map\u001B[49m\u001B[43m[\u001B[49m\u001B[43mlocation\u001B[49m\u001B[43m]\u001B[49m\u001B[43m,\u001B[49m\u001B[43m \u001B[49m\u001B[43mparameters\u001B[49m\u001B[43m)\u001B[49m\n\u001B[0;32m    145\u001B[0m     \u001B[38;5;28mself\u001B[39m\u001B[38;5;241m.\u001B[39mupdate_workflow_config(parameters, location)\n",
      "File \u001B[1;32m~\\Documents\\Uni\\WS22_23\\BP\\PROTzilla2\\protzilla\\run.py:163\u001B[0m, in \u001B[0;36mRun.perform_calculation\u001B[1;34m(self, method_callable, parameters)\u001B[0m\n\u001B[0;32m    161\u001B[0m \u001B[38;5;28;01melse\u001B[39;00m:\n\u001B[0;32m    162\u001B[0m     \u001B[38;5;28mself\u001B[39m\u001B[38;5;241m.\u001B[39mresult_df \u001B[38;5;241m=\u001B[39m \u001B[38;5;28;01mNone\u001B[39;00m\n\u001B[1;32m--> 163\u001B[0m     \u001B[38;5;28mself\u001B[39m\u001B[38;5;241m.\u001B[39mcurrent_out \u001B[38;5;241m=\u001B[39m \u001B[43mmethod_callable\u001B[49m\u001B[43m(\u001B[49m\u001B[38;5;241;43m*\u001B[39;49m\u001B[38;5;241;43m*\u001B[39;49m\u001B[43mcall_parameters\u001B[49m\u001B[43m)\u001B[49m\n\u001B[0;32m    165\u001B[0m \u001B[38;5;28mself\u001B[39m\u001B[38;5;241m.\u001B[39mplots \u001B[38;5;241m=\u001B[39m []  \u001B[38;5;66;03m# reset as not up to date anymore\u001B[39;00m\n\u001B[0;32m    166\u001B[0m \u001B[38;5;28mself\u001B[39m\u001B[38;5;241m.\u001B[39mcurrent_parameters[\u001B[38;5;28mself\u001B[39m\u001B[38;5;241m.\u001B[39mmethod] \u001B[38;5;241m=\u001B[39m parameters\n",
      "File \u001B[1;32m~\\Documents\\Uni\\WS22_23\\BP\\PROTzilla2\\protzilla\\data_integration\\enrichment_analysis.py:208\u001B[0m, in \u001B[0;36mGO_analysis_with_STRING\u001B[1;34m(proteins_df, gene_sets_restring, organism, differential_expression_col, background_path, direction)\u001B[0m\n\u001B[0;32m    206\u001B[0m     \u001B[38;5;28mprint\u001B[39m(\u001B[38;5;124m\"\u001B[39m\u001B[38;5;124msplit and cleaned\u001B[39m\u001B[38;5;124m\"\u001B[39m, \u001B[38;5;28mlen\u001B[39m(statistical_background))\n\u001B[0;32m    207\u001B[0m     \u001B[38;5;66;03m# STRING IDs are required for background\u001B[39;00m\n\u001B[1;32m--> 208\u001B[0m     statistical_background \u001B[38;5;241m=\u001B[39m \u001B[43mmap_to_string_ids\u001B[49m\u001B[43m(\u001B[49m\u001B[43mstatistical_background\u001B[49m\u001B[43m,\u001B[49m\u001B[43m \u001B[49m\u001B[43morganism\u001B[49m\u001B[43m)\u001B[49m\n\u001B[0;32m    209\u001B[0m     \u001B[38;5;28mprint\u001B[39m(\u001B[38;5;124m\"\u001B[39m\u001B[38;5;124mnumber of mapped background ids\u001B[39m\u001B[38;5;124m\"\u001B[39m, \u001B[38;5;28mlen\u001B[39m(statistical_background))\n\u001B[0;32m    211\u001B[0m string_params \u001B[38;5;241m=\u001B[39m {\n\u001B[0;32m    212\u001B[0m     \u001B[38;5;124m\"\u001B[39m\u001B[38;5;124mspecies\u001B[39m\u001B[38;5;124m\"\u001B[39m: organism,\n\u001B[0;32m    213\u001B[0m     \u001B[38;5;124m\"\u001B[39m\u001B[38;5;124mstatistical_background\u001B[39m\u001B[38;5;124m\"\u001B[39m: statistical_background,\n\u001B[0;32m    214\u001B[0m }\n",
      "\u001B[1;31mTypeError\u001B[0m: map_to_string_ids() missing 1 required positional argument: 'split'"
     ]
    }
   ],
   "source": [
    "workflows = [\"ba_hf_string\", \"ba_hf_enrichr\", \"ba_hf_offline\", \"ba_hf_gsea\", \"ba_hf_preranked\"]\n",
    "\n",
    "for workflow in workflows:\n",
    "    runner = Runner(\n",
    "        **{\n",
    "            \"workflow\": workflow,\n",
    "            \"ms_data_path\": f\"{PROJECT_PATH}\\\\user_data\\\\data\\\\proteinGroups.txt\",\n",
    "            \"meta_data_path\": f\"{PROJECT_PATH}\\\\user_data\\\\data\\\\sdrf.tsv\",\n",
    "            \"peptides_path\": None,\n",
    "            \"run_name\": f\"{workflow}_plots\",\n",
    "            \"df_mode\": \"disk\",\n",
    "            \"all_plots\": False,\n",
    "            \"verbose\": True,\n",
    "        }\n",
    "    )\n",
    "    runner.compute_workflow()"
   ],
   "metadata": {
    "collapsed": false,
    "pycharm": {
     "name": "#%%\n"
    }
   }
  },
  {
   "cell_type": "code",
   "execution_count": null,
   "outputs": [],
   "source": [],
   "metadata": {
    "collapsed": false,
    "pycharm": {
     "name": "#%%\n"
    }
   }
  }
 ],
 "metadata": {
  "kernelspec": {
   "display_name": "Python 3",
   "language": "python",
   "name": "python3"
  },
  "language_info": {
   "codemirror_mode": {
    "name": "ipython",
    "version": 2
   },
   "file_extension": ".py",
   "mimetype": "text/x-python",
   "name": "python",
   "nbconvert_exporter": "python",
   "pygments_lexer": "ipython2",
   "version": "2.7.6"
  }
 },
 "nbformat": 4,
 "nbformat_minor": 0
}