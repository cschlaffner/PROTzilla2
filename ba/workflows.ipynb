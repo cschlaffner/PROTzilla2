{
 "cells": [
  {
   "cell_type": "code",
   "execution_count": 2,
   "outputs": [],
   "source": [
    "from protzilla.runner import Runner\n",
    "from protzilla.constants.paths import PROJECT_PATH"
   ],
   "metadata": {
    "collapsed": false,
    "pycharm": {
     "name": "#%%\n"
    }
   }
  },
  {
   "cell_type": "code",
   "execution_count": 4,
   "metadata": {
    "collapsed": true
   },
   "outputs": [
    {
     "name": "stderr",
     "output_type": "stream",
     "text": [
      "INFO:root:Parsed arguments: {'self': <protzilla.runner.Runner object at 0x000002642768AD90>, 'workflow': 'ba_hf_enrichr', 'ms_data_path': 'C:\\\\Users\\\\bzwad\\\\Documents\\\\Uni\\\\WS22_23\\\\BP\\\\PROTzilla2\\\\user_data\\\\data\\\\proteinGroups.txt', 'meta_data_path': 'C:\\\\Users\\\\bzwad\\\\Documents\\\\Uni\\\\WS22_23\\\\BP\\\\PROTzilla2\\\\user_data\\\\data\\\\sdrf.tsv', 'peptides_path': None, 'run_name': 'test2', 'df_mode': 'disk', 'all_plots': False, 'verbose': True}\n",
      "INFO:root:Run test2 created at C:\\Users\\bzwad\\Documents\\Uni\\WS22_23\\BP\\PROTzilla2\\user_data\\runs\\test2\n",
      "INFO:root:Saving plots at C:\\Users\\bzwad\\Documents\\Uni\\WS22_23\\BP\\PROTzilla2\\user_data\\runs\\test2\\plots\n",
      "INFO:root:------ computing workflow\n",
      "\n"
     ]
    },
    {
     "name": "stdout",
     "output_type": "stream",
     "text": [
      "\n",
      "\n",
      "\n"
     ]
    },
    {
     "name": "stderr",
     "output_type": "stream",
     "text": [
      "INFO:root:imported MS Data\n",
      "INFO:root:imported Meta Data\n",
      "INFO:root:performing step: ('data_preprocessing', 'filter_proteins', 'samples_missing_filter')\n",
      "INFO:root:performing step: ('data_preprocessing', 'filter_samples', 'protein_intensity_sum_filter')\n",
      "INFO:root:performing step: ('data_preprocessing', 'imputation', 'knn')\n",
      "INFO:root:performing step: ('data_preprocessing', 'outlier_detection', 'local_outlier_factor')\n",
      "INFO:root:performing step: ('data_preprocessing', 'normalisation', 'median')\n",
      "INFO:root:performing step: ('data_analysis', 'differential_expression', 't_test')\n",
      "INFO:root:performing step: ('data_integration', 'database_integration', 'gene_mapping')\n",
      "INFO:protzilla:Mapping Uniprot IDs to genes.\n"
     ]
    },
    {
     "name": "stdout",
     "output_type": "stream",
     "text": [
      "\u001B[38;20m[2023/07/11 - 20:04:27] [    INFO] Mapping Uniprot IDs to genes.\u001B[0m\n"
     ]
    },
    {
     "name": "stderr",
     "output_type": "stream",
     "text": [
      "INFO:protzilla:Skipping biomart, done with mapping uniprot IDs to genes.\n"
     ]
    },
    {
     "name": "stdout",
     "output_type": "stream",
     "text": [
      "\u001B[38;20m[2023/07/11 - 20:04:28] [    INFO] Skipping biomart, done with mapping uniprot IDs to genes.\u001B[0m\n"
     ]
    },
    {
     "name": "stderr",
     "output_type": "stream",
     "text": [
      "INFO:root:performing step: ('data_integration', 'enrichment_analysis', 'GO_analysis_with_Enrichr')\n",
      "C:\\Users\\bzwad\\Documents\\Uni\\WS22_23\\BP\\PROTzilla2\\protzilla\\data_integration\\enrichment_analysis.py:504: SettingWithCopyWarning: \n",
      "A value is trying to be set on a copy of a slice from a DataFrame\n",
      "\n",
      "See the caveats in the documentation: https://pandas.pydata.org/pandas-docs/stable/user_guide/indexing.html#returning-a-view-versus-a-copy\n",
      "  proteins_df.drop_duplicates(subset=\"Protein ID\", inplace=True)\n",
      "INFO:protzilla:Starting analysis for upregulated proteins\n",
      "2023-07-11 20:04:30,040 [INFO] User defined gene sets is given: C:\\Users\\bzwad\\Documents\\Uni\\WS22_23\\BP\\PROTzilla2\\user_data\\data\\ReactomePathways.gmt\n",
      "2023-07-11 20:04:30,065 [INFO] Run: ReactomePathways.gmt \n",
      "2023-07-11 20:04:30,174 [INFO] Done.\n",
      "INFO:protzilla:Finished analysis for upregulated proteins\n",
      "INFO:protzilla:Starting analysis for downregulated proteins\n",
      "2023-07-11 20:04:30,183 [INFO] User defined gene sets is given: C:\\Users\\bzwad\\Documents\\Uni\\WS22_23\\BP\\PROTzilla2\\user_data\\data\\ReactomePathways.gmt\n",
      "2023-07-11 20:04:30,206 [INFO] Run: ReactomePathways.gmt \n"
     ]
    },
    {
     "name": "stdout",
     "output_type": "stream",
     "text": [
      "['MT-ND5', 'MT-ATP6', 'MT-ND2', 'MT-ND1', 'MT-ND6', 'MT-CO1', 'MT-ND4', 'MT-CO3', 'MT-ND3', 'MT-ATP8']\n",
      "\u001B[38;20m[2023/07/11 - 20:04:30] [    INFO] Starting analysis for upregulated proteins\u001B[0m\n",
      "\u001B[38;20m[2023/07/11 - 20:04:30] [    INFO] Finished analysis for upregulated proteins\u001B[0m\n",
      "\u001B[38;20m[2023/07/11 - 20:04:30] [    INFO] Starting analysis for downregulated proteins\u001B[0m\n"
     ]
    },
    {
     "name": "stderr",
     "output_type": "stream",
     "text": [
      "2023-07-11 20:04:30,334 [INFO] Done.\n",
      "INFO:protzilla:Finished analysis for downregulated proteins\n",
      "INFO:protzilla:Merging results for up- and downregulated proteins\n",
      "WARNING:root:Some proteins could not be mapped to gene symbols and were excluded from the analysis\n"
     ]
    },
    {
     "name": "stdout",
     "output_type": "stream",
     "text": [
      "\u001B[38;20m[2023/07/11 - 20:04:30] [    INFO] Finished analysis for downregulated proteins\u001B[0m\n",
      "\u001B[38;20m[2023/07/11 - 20:04:30] [    INFO] Merging results for up- and downregulated proteins\u001B[0m\n"
     ]
    }
   ],
   "source": [
    "runner = Runner(\n",
    "    **{\n",
    "        \"workflow\": \"ba_hf_enrichr\",\n",
    "        \"ms_data_path\": f\"{PROJECT_PATH}\\\\user_data\\\\data\\\\proteinGroups.txt\",\n",
    "        \"meta_data_path\": f\"{PROJECT_PATH}\\\\user_data\\\\data\\\\sdrf.tsv\",\n",
    "        \"peptides_path\": None,\n",
    "        \"run_name\": \"test2\",\n",
    "        \"df_mode\": \"disk\",\n",
    "        \"all_plots\": False,\n",
    "        \"verbose\": True,\n",
    "    }\n",
    ")\n",
    "runner.compute_workflow()"
   ]
  },
  {
   "cell_type": "code",
   "execution_count": null,
   "outputs": [],
   "source": [
    "workflows = [\"ba_hf_enrichr\"]\n",
    "\n",
    "for workflow in workflows:\n",
    "    runner = Runner(\n",
    "        **{\n",
    "            \"workflow\": workflow,\n",
    "            \"ms_data_path\": f\"{PROJECT_PATH}\\\\user_data\\\\data\\\\proteinGroups.txt\",\n",
    "            \"meta_data_path\": f\"{PROJECT_PATH}\\\\user_data\\\\data\\\\sdrf.tsv\",\n",
    "            \"peptides_path\": None,\n",
    "            \"run_name\": workflow,\n",
    "            \"df_mode\": \"disk\",\n",
    "            \"all_plots\": False,\n",
    "            \"verbose\": True,\n",
    "        }\n",
    "    )\n",
    "    runner.compute_workflow()"
   ],
   "metadata": {
    "collapsed": false,
    "pycharm": {
     "name": "#%%\n"
    }
   }
  }
 ],
 "metadata": {
  "kernelspec": {
   "display_name": "Python 3",
   "language": "python",
   "name": "python3"
  },
  "language_info": {
   "codemirror_mode": {
    "name": "ipython",
    "version": 2
   },
   "file_extension": ".py",
   "mimetype": "text/x-python",
   "name": "python",
   "nbconvert_exporter": "python",
   "pygments_lexer": "ipython2",
   "version": "2.7.6"
  }
 },
 "nbformat": 4,
 "nbformat_minor": 0
}