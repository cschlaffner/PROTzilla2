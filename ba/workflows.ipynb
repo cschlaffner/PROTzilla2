{
 "cells": [
  {
   "cell_type": "code",
   "execution_count": 3,
   "outputs": [],
   "source": [
    "from protzilla.runner import Runner\n",
    "from protzilla.constants.paths import PROJECT_PATH"
   ],
   "metadata": {
    "collapsed": false,
    "pycharm": {
     "name": "#%%\n"
    }
   }
  },
  {
   "cell_type": "code",
   "execution_count": 1,
   "metadata": {
    "collapsed": true,
    "pycharm": {
     "name": "#%%\n"
    }
   },
   "outputs": [
    {
     "ename": "NameError",
     "evalue": "name 'Runner' is not defined",
     "output_type": "error",
     "traceback": [
      "\u001B[1;31m---------------------------------------------------------------------------\u001B[0m",
      "\u001B[1;31mNameError\u001B[0m                                 Traceback (most recent call last)",
      "Cell \u001B[1;32mIn[1], line 1\u001B[0m\n\u001B[1;32m----> 1\u001B[0m runner \u001B[38;5;241m=\u001B[39m \u001B[43mRunner\u001B[49m(\n\u001B[0;32m      2\u001B[0m     \u001B[38;5;241m*\u001B[39m\u001B[38;5;241m*\u001B[39m{\n\u001B[0;32m      3\u001B[0m         \u001B[38;5;124m\"\u001B[39m\u001B[38;5;124mworkflow\u001B[39m\u001B[38;5;124m\"\u001B[39m: \u001B[38;5;124m\"\u001B[39m\u001B[38;5;124mba_hf_gsea\u001B[39m\u001B[38;5;124m\"\u001B[39m,\n\u001B[0;32m      4\u001B[0m         \u001B[38;5;124m\"\u001B[39m\u001B[38;5;124mms_data_path\u001B[39m\u001B[38;5;124m\"\u001B[39m: \u001B[38;5;124mf\u001B[39m\u001B[38;5;124m\"\u001B[39m\u001B[38;5;132;01m{\u001B[39;00mPROJECT_PATH\u001B[38;5;132;01m}\u001B[39;00m\u001B[38;5;130;01m\\\\\u001B[39;00m\u001B[38;5;124muser_data\u001B[39m\u001B[38;5;130;01m\\\\\u001B[39;00m\u001B[38;5;124mdata\u001B[39m\u001B[38;5;130;01m\\\\\u001B[39;00m\u001B[38;5;124mproteinGroups.txt\u001B[39m\u001B[38;5;124m\"\u001B[39m,\n\u001B[0;32m      5\u001B[0m         \u001B[38;5;124m\"\u001B[39m\u001B[38;5;124mmeta_data_path\u001B[39m\u001B[38;5;124m\"\u001B[39m: \u001B[38;5;124mf\u001B[39m\u001B[38;5;124m\"\u001B[39m\u001B[38;5;132;01m{\u001B[39;00mPROJECT_PATH\u001B[38;5;132;01m}\u001B[39;00m\u001B[38;5;130;01m\\\\\u001B[39;00m\u001B[38;5;124muser_data\u001B[39m\u001B[38;5;130;01m\\\\\u001B[39;00m\u001B[38;5;124mdata\u001B[39m\u001B[38;5;130;01m\\\\\u001B[39;00m\u001B[38;5;124msdrf.tsv\u001B[39m\u001B[38;5;124m\"\u001B[39m,\n\u001B[0;32m      6\u001B[0m         \u001B[38;5;124m\"\u001B[39m\u001B[38;5;124mpeptides_path\u001B[39m\u001B[38;5;124m\"\u001B[39m: \u001B[38;5;28;01mNone\u001B[39;00m,\n\u001B[0;32m      7\u001B[0m         \u001B[38;5;124m\"\u001B[39m\u001B[38;5;124mrun_name\u001B[39m\u001B[38;5;124m\"\u001B[39m: \u001B[38;5;124m\"\u001B[39m\u001B[38;5;124mtest_string\u001B[39m\u001B[38;5;124m\"\u001B[39m,\n\u001B[0;32m      8\u001B[0m         \u001B[38;5;124m\"\u001B[39m\u001B[38;5;124mdf_mode\u001B[39m\u001B[38;5;124m\"\u001B[39m: \u001B[38;5;124m\"\u001B[39m\u001B[38;5;124mdisk\u001B[39m\u001B[38;5;124m\"\u001B[39m,\n\u001B[0;32m      9\u001B[0m         \u001B[38;5;124m\"\u001B[39m\u001B[38;5;124mall_plots\u001B[39m\u001B[38;5;124m\"\u001B[39m: \u001B[38;5;28;01mFalse\u001B[39;00m,\n\u001B[0;32m     10\u001B[0m         \u001B[38;5;124m\"\u001B[39m\u001B[38;5;124mverbose\u001B[39m\u001B[38;5;124m\"\u001B[39m: \u001B[38;5;28;01mTrue\u001B[39;00m,\n\u001B[0;32m     11\u001B[0m     }\n\u001B[0;32m     12\u001B[0m )\n\u001B[0;32m     13\u001B[0m runner\u001B[38;5;241m.\u001B[39mcompute_workflow()\n\u001B[0;32m     15\u001B[0m \u001B[38;5;66;03m# string output is empty because it doesn't know the ids\u001B[39;00m\n",
      "\u001B[1;31mNameError\u001B[0m: name 'Runner' is not defined"
     ]
    }
   ],
   "source": [
    "runner = Runner(\n",
    "    **{\n",
    "        \"workflow\": \"ba_hf_gsea\",\n",
    "        \"ms_data_path\": f\"{PROJECT_PATH}\\\\user_data\\\\data\\\\proteinGroups.txt\",\n",
    "        \"meta_data_path\": f\"{PROJECT_PATH}\\\\user_data\\\\data\\\\sdrf.tsv\",\n",
    "        \"peptides_path\": None,\n",
    "        \"run_name\": \"test_string\",\n",
    "        \"df_mode\": \"disk\",\n",
    "        \"all_plots\": False,\n",
    "        \"verbose\": True,\n",
    "    }\n",
    ")\n",
    "runner.compute_workflow()\n",
    "\n",
    "# string output is empty because it doesn't know the ids"
   ]
  },
  {
   "cell_type": "code",
   "execution_count": 4,
   "outputs": [
    {
     "name": "stderr",
     "output_type": "stream",
     "text": [
      "INFO:root:Parsed arguments: {'self': <protzilla.runner.Runner object at 0x0000028B978A8150>, 'workflow': 'ba_hf_enrichr', 'ms_data_path': 'C:\\\\Users\\\\bzwad\\\\Documents\\\\Uni\\\\WS22_23\\\\BP\\\\PROTzilla2\\\\user_data\\\\data\\\\proteinGroups.txt', 'meta_data_path': 'C:\\\\Users\\\\bzwad\\\\Documents\\\\Uni\\\\WS22_23\\\\BP\\\\PROTzilla2\\\\user_data\\\\data\\\\sdrf.tsv', 'peptides_path': None, 'run_name': 'ba_hf_enrichr', 'df_mode': 'disk', 'all_plots': False, 'verbose': True}\n",
      "INFO:root:Run ba_hf_enrichr created at C:\\Users\\bzwad\\Documents\\Uni\\WS22_23\\BP\\PROTzilla2\\user_data\\runs\\ba_hf_enrichr\n",
      "INFO:root:Saving plots at C:\\Users\\bzwad\\Documents\\Uni\\WS22_23\\BP\\PROTzilla2\\user_data\\runs\\ba_hf_enrichr\\plots\n",
      "INFO:root:------ computing workflow\n",
      "\n",
      "INFO:root:imported MS Data\n",
      "INFO:root:imported Meta Data\n",
      "INFO:root:performing step: ('data_preprocessing', 'filter_proteins', 'samples_missing_filter')\n",
      "INFO:root:performing step: ('data_preprocessing', 'filter_samples', 'protein_intensity_sum_filter')\n",
      "INFO:root:performing step: ('data_preprocessing', 'imputation', 'knn')\n",
      "INFO:root:performing step: ('data_preprocessing', 'outlier_detection', 'local_outlier_factor')\n",
      "INFO:root:performing step: ('data_preprocessing', 'normalisation', 'median')\n",
      "INFO:root:performing step: ('data_analysis', 'differential_expression', 't_test')\n",
      "INFO:root:performing step: ('data_integration', 'database_integration', 'gene_mapping')\n",
      "INFO:protzilla:Mapping Uniprot IDs to genes.\n"
     ]
    },
    {
     "name": "stdout",
     "output_type": "stream",
     "text": [
      "\u001B[38;20m[2023/07/13 - 14:13:21] [    INFO] Mapping Uniprot IDs to genes.\u001B[0m\n"
     ]
    },
    {
     "name": "stderr",
     "output_type": "stream",
     "text": [
      "INFO:protzilla:Skipping biomart, done with mapping uniprot IDs to genes.\n"
     ]
    },
    {
     "name": "stdout",
     "output_type": "stream",
     "text": [
      "\u001B[38;20m[2023/07/13 - 14:13:22] [    INFO] Skipping biomart, done with mapping uniprot IDs to genes.\u001B[0m\n"
     ]
    },
    {
     "name": "stderr",
     "output_type": "stream",
     "text": [
      "INFO:root:performing step: ('data_integration', 'enrichment_analysis', 'GO_analysis_with_Enrichr')\n",
      "C:\\Users\\bzwad\\Documents\\Uni\\WS22_23\\BP\\PROTzilla2\\protzilla\\data_integration\\enrichment_analysis.py:524: SettingWithCopyWarning: \n",
      "A value is trying to be set on a copy of a slice from a DataFrame\n",
      "\n",
      "See the caveats in the documentation: https://pandas.pydata.org/pandas-docs/stable/user_guide/indexing.html#returning-a-view-versus-a-copy\n",
      "  proteins_df.drop_duplicates(subset=\"Protein ID\", inplace=True)\n",
      "INFO:protzilla:Starting analysis for upregulated proteins\n",
      "2023-07-13 14:13:24,539 [INFO] User defined gene sets is given: C:\\Users\\bzwad\\Documents\\Uni\\WS22_23\\BP\\PROTzilla2\\user_data\\data\\ReactomePathways.gmt\n",
      "2023-07-13 14:13:24,569 [INFO] Run: ReactomePathways.gmt \n",
      "2023-07-13 14:13:24,705 [INFO] Done.\n",
      "INFO:protzilla:Finished analysis for upregulated proteins\n",
      "INFO:protzilla:Starting analysis for downregulated proteins\n",
      "2023-07-13 14:13:24,713 [INFO] User defined gene sets is given: C:\\Users\\bzwad\\Documents\\Uni\\WS22_23\\BP\\PROTzilla2\\user_data\\data\\ReactomePathways.gmt\n",
      "2023-07-13 14:13:24,736 [INFO] Run: ReactomePathways.gmt \n"
     ]
    },
    {
     "name": "stdout",
     "output_type": "stream",
     "text": [
      "\u001B[38;20m[2023/07/13 - 14:13:24] [    INFO] Starting analysis for upregulated proteins\u001B[0m\n",
      "\u001B[38;20m[2023/07/13 - 14:13:24] [    INFO] Finished analysis for upregulated proteins\u001B[0m\n",
      "\u001B[38;20m[2023/07/13 - 14:13:24] [    INFO] Starting analysis for downregulated proteins\u001B[0m\n"
     ]
    },
    {
     "name": "stderr",
     "output_type": "stream",
     "text": [
      "2023-07-13 14:13:24,878 [INFO] Done.\n",
      "INFO:protzilla:Finished analysis for downregulated proteins\n",
      "INFO:protzilla:Merging results for up- and downregulated proteins\n",
      "WARNING:root:Some proteins could not be mapped to gene symbols and were excluded from the analysis\n"
     ]
    },
    {
     "name": "stdout",
     "output_type": "stream",
     "text": [
      "\u001B[38;20m[2023/07/13 - 14:13:24] [    INFO] Finished analysis for downregulated proteins\u001B[0m\n",
      "\u001B[38;20m[2023/07/13 - 14:13:24] [    INFO] Merging results for up- and downregulated proteins\u001B[0m\n"
     ]
    },
    {
     "name": "stderr",
     "output_type": "stream",
     "text": [
      "INFO:root:Parsed arguments: {'self': <protzilla.runner.Runner object at 0x0000028B977CFA50>, 'workflow': 'ba_hf_string', 'ms_data_path': 'C:\\\\Users\\\\bzwad\\\\Documents\\\\Uni\\\\WS22_23\\\\BP\\\\PROTzilla2\\\\user_data\\\\data\\\\proteinGroups.txt', 'meta_data_path': 'C:\\\\Users\\\\bzwad\\\\Documents\\\\Uni\\\\WS22_23\\\\BP\\\\PROTzilla2\\\\user_data\\\\data\\\\sdrf.tsv', 'peptides_path': None, 'run_name': 'ba_hf_string', 'df_mode': 'disk', 'all_plots': False, 'verbose': True}\n",
      "INFO:root:Run ba_hf_string created at C:\\Users\\bzwad\\Documents\\Uni\\WS22_23\\BP\\PROTzilla2\\user_data\\runs\\ba_hf_string\n",
      "INFO:root:Saving plots at C:\\Users\\bzwad\\Documents\\Uni\\WS22_23\\BP\\PROTzilla2\\user_data\\runs\\ba_hf_string\\plots\n",
      "INFO:root:------ computing workflow\n",
      "\n",
      "INFO:root:imported MS Data\n",
      "INFO:root:imported Meta Data\n",
      "INFO:root:performing step: ('data_preprocessing', 'filter_proteins', 'samples_missing_filter')\n",
      "INFO:root:performing step: ('data_preprocessing', 'filter_samples', 'protein_intensity_sum_filter')\n",
      "INFO:root:performing step: ('data_preprocessing', 'imputation', 'knn')\n",
      "INFO:root:performing step: ('data_preprocessing', 'outlier_detection', 'local_outlier_factor')\n",
      "INFO:root:performing step: ('data_preprocessing', 'normalisation', 'median')\n",
      "INFO:root:performing step: ('data_analysis', 'differential_expression', 't_test')\n",
      "INFO:root:performing step: ('data_integration', 'database_integration', 'gene_mapping')\n",
      "INFO:protzilla:Mapping Uniprot IDs to genes.\n"
     ]
    },
    {
     "name": "stdout",
     "output_type": "stream",
     "text": [
      "\u001B[38;20m[2023/07/13 - 14:13:53] [    INFO] Mapping Uniprot IDs to genes.\u001B[0m\n"
     ]
    },
    {
     "name": "stderr",
     "output_type": "stream",
     "text": [
      "INFO:protzilla:Skipping biomart, done with mapping uniprot IDs to genes.\n"
     ]
    },
    {
     "name": "stdout",
     "output_type": "stream",
     "text": [
      "\u001B[38;20m[2023/07/13 - 14:13:54] [    INFO] Skipping biomart, done with mapping uniprot IDs to genes.\u001B[0m\n"
     ]
    },
    {
     "name": "stderr",
     "output_type": "stream",
     "text": [
      "INFO:root:performing step: ('data_integration', 'enrichment_analysis', 'GO_analysis_with_STRING')\n",
      "C:\\Users\\bzwad\\Documents\\Uni\\WS22_23\\BP\\PROTzilla2\\protzilla\\data_integration\\enrichment_analysis.py:157: SettingWithCopyWarning: \n",
      "A value is trying to be set on a copy of a slice from a DataFrame\n",
      "\n",
      "See the caveats in the documentation: https://pandas.pydata.org/pandas-docs/stable/user_guide/indexing.html#returning-a-view-versus-a-copy\n",
      "  proteins_df.drop_duplicates(subset=\"Protein ID\", inplace=True)\n",
      "INFO:protzilla:Mapping proteins to STRING IDs\n"
     ]
    },
    {
     "name": "stdout",
     "output_type": "stream",
     "text": [
      "\u001B[38;20m[2023/07/13 - 14:13:54] [    INFO] Mapping proteins to STRING IDs\u001B[0m\n"
     ]
    },
    {
     "name": "stderr",
     "output_type": "stream",
     "text": [
      "INFO:protzilla:Mapped 3823 proteins to STRING IDs\n",
      "INFO:protzilla:Starting analysis for upregulated proteins\n"
     ]
    },
    {
     "name": "stdout",
     "output_type": "stream",
     "text": [
      "\u001B[38;20m[2023/07/13 - 14:14:40] [    INFO] Mapped 3823 proteins to STRING IDs\u001B[0m\n",
      "\u001B[38;20m[2023/07/13 - 14:14:40] [    INFO] Starting analysis for upregulated proteins\u001B[0m\n",
      "Querying STRING. Session ID: restring-ko93ed6g, TaxID: 9606, 154 genes/proteins.\n",
      "Running the analysis against a statistical background of user-supplied terms.\n"
     ]
    },
    {
     "name": "stderr",
     "output_type": "stream",
     "text": [
      "INFO:protzilla:Finished analysis for upregulated proteins\n",
      "INFO:protzilla:Starting analysis for downregulated proteins\n"
     ]
    },
    {
     "name": "stdout",
     "output_type": "stream",
     "text": [
      "STRING replied in 1908.45 milliseconds.\n",
      "\u001B[38;20m[2023/07/13 - 14:14:42] [    INFO] Finished analysis for upregulated proteins\u001B[0m\n",
      "\u001B[38;20m[2023/07/13 - 14:14:42] [    INFO] Starting analysis for downregulated proteins\u001B[0m\n",
      "Querying STRING. Session ID: restring-ko93ed6g, TaxID: 9606, 161 genes/proteins.\n",
      "Running the analysis against a statistical background of user-supplied terms.\n"
     ]
    },
    {
     "name": "stderr",
     "output_type": "stream",
     "text": [
      "INFO:protzilla:Finished analysis for downregulated proteins\n",
      "INFO:protzilla:Summarizing enrichment results\n",
      "INFO:protzilla:Merging results for up- and downregulated proteins\n"
     ]
    },
    {
     "name": "stdout",
     "output_type": "stream",
     "text": [
      "STRING replied in 1708.81 milliseconds.\n",
      "\u001B[38;20m[2023/07/13 - 14:14:45] [    INFO] Finished analysis for downregulated proteins\u001B[0m\n",
      "\u001B[38;20m[2023/07/13 - 14:14:45] [    INFO] Summarizing enrichment results\u001B[0m\n",
      "\u001B[38;20m[2023/07/13 - 14:14:45] [    INFO] Merging results for up- and downregulated proteins\u001B[0m\n"
     ]
    },
    {
     "name": "stderr",
     "output_type": "stream",
     "text": [
      "INFO:root:Parsed arguments: {'self': <protzilla.runner.Runner object at 0x0000028B977FD1D0>, 'workflow': 'ba_hf_offline', 'ms_data_path': 'C:\\\\Users\\\\bzwad\\\\Documents\\\\Uni\\\\WS22_23\\\\BP\\\\PROTzilla2\\\\user_data\\\\data\\\\proteinGroups.txt', 'meta_data_path': 'C:\\\\Users\\\\bzwad\\\\Documents\\\\Uni\\\\WS22_23\\\\BP\\\\PROTzilla2\\\\user_data\\\\data\\\\sdrf.tsv', 'peptides_path': None, 'run_name': 'ba_hf_offline', 'df_mode': 'disk', 'all_plots': False, 'verbose': True}\n",
      "INFO:root:Run ba_hf_offline created at C:\\Users\\bzwad\\Documents\\Uni\\WS22_23\\BP\\PROTzilla2\\user_data\\runs\\ba_hf_offline\n",
      "INFO:root:Saving plots at C:\\Users\\bzwad\\Documents\\Uni\\WS22_23\\BP\\PROTzilla2\\user_data\\runs\\ba_hf_offline\\plots\n",
      "INFO:root:------ computing workflow\n",
      "\n",
      "INFO:root:imported MS Data\n",
      "INFO:root:imported Meta Data\n",
      "INFO:root:performing step: ('data_preprocessing', 'filter_proteins', 'samples_missing_filter')\n",
      "INFO:root:performing step: ('data_preprocessing', 'filter_samples', 'protein_intensity_sum_filter')\n",
      "INFO:root:performing step: ('data_preprocessing', 'imputation', 'knn')\n",
      "INFO:root:performing step: ('data_preprocessing', 'outlier_detection', 'local_outlier_factor')\n",
      "INFO:root:performing step: ('data_preprocessing', 'normalisation', 'median')\n",
      "INFO:root:performing step: ('data_analysis', 'differential_expression', 't_test')\n",
      "INFO:root:performing step: ('data_integration', 'database_integration', 'gene_mapping')\n",
      "INFO:protzilla:Mapping Uniprot IDs to genes.\n"
     ]
    },
    {
     "name": "stdout",
     "output_type": "stream",
     "text": [
      "\u001B[38;20m[2023/07/13 - 14:15:12] [    INFO] Mapping Uniprot IDs to genes.\u001B[0m\n"
     ]
    },
    {
     "name": "stderr",
     "output_type": "stream",
     "text": [
      "INFO:protzilla:Skipping biomart, done with mapping uniprot IDs to genes.\n"
     ]
    },
    {
     "name": "stdout",
     "output_type": "stream",
     "text": [
      "\u001B[38;20m[2023/07/13 - 14:15:13] [    INFO] Skipping biomart, done with mapping uniprot IDs to genes.\u001B[0m\n"
     ]
    },
    {
     "name": "stderr",
     "output_type": "stream",
     "text": [
      "INFO:root:performing step: ('data_integration', 'enrichment_analysis', 'GO_analysis_offline')\n",
      "C:\\Users\\bzwad\\Documents\\Uni\\WS22_23\\BP\\PROTzilla2\\protzilla\\data_integration\\enrichment_analysis.py:672: SettingWithCopyWarning: \n",
      "A value is trying to be set on a copy of a slice from a DataFrame\n",
      "\n",
      "See the caveats in the documentation: https://pandas.pydata.org/pandas-docs/stable/user_guide/indexing.html#returning-a-view-versus-a-copy\n",
      "  proteins_df.drop_duplicates(subset=\"Protein ID\", inplace=True)\n",
      "INFO:protzilla:Starting analysis for upregulated proteins\n",
      "2023-07-13 14:15:13,398 [INFO] User defined gene sets is given: C:\\Users\\bzwad\\Documents\\Uni\\WS22_23\\BP\\PROTzilla2\\user_data\\data\\ReactomePathways.gmt\n",
      "2023-07-13 14:15:13,421 [INFO] Run: ReactomePathways.gmt \n",
      "2023-07-13 14:15:13,532 [INFO] Done.\n",
      "INFO:protzilla:Finished analysis for upregulated proteins\n",
      "INFO:protzilla:Starting analysis for downregulated proteins\n",
      "2023-07-13 14:15:13,539 [INFO] User defined gene sets is given: C:\\Users\\bzwad\\Documents\\Uni\\WS22_23\\BP\\PROTzilla2\\user_data\\data\\ReactomePathways.gmt\n",
      "2023-07-13 14:15:13,561 [INFO] Run: ReactomePathways.gmt \n",
      "2023-07-13 14:15:13,673 [INFO] Done.\n"
     ]
    },
    {
     "name": "stdout",
     "output_type": "stream",
     "text": [
      "\u001B[38;20m[2023/07/13 - 14:15:13] [    INFO] Starting analysis for upregulated proteins\u001B[0m\n",
      "\u001B[38;20m[2023/07/13 - 14:15:13] [    INFO] Finished analysis for upregulated proteins\u001B[0m\n",
      "\u001B[38;20m[2023/07/13 - 14:15:13] [    INFO] Starting analysis for downregulated proteins\u001B[0m\n"
     ]
    },
    {
     "name": "stderr",
     "output_type": "stream",
     "text": [
      "INFO:protzilla:Finished analysis for downregulated proteins\n",
      "INFO:protzilla:Merging results for up- and downregulated proteins\n",
      "WARNING:root:Some proteins could not be mapped to gene symbols and were excluded from the analysis\n"
     ]
    },
    {
     "name": "stdout",
     "output_type": "stream",
     "text": [
      "\u001B[38;20m[2023/07/13 - 14:15:13] [    INFO] Finished analysis for downregulated proteins\u001B[0m\n",
      "\u001B[38;20m[2023/07/13 - 14:15:13] [    INFO] Merging results for up- and downregulated proteins\u001B[0m\n"
     ]
    },
    {
     "name": "stderr",
     "output_type": "stream",
     "text": [
      "INFO:root:Parsed arguments: {'self': <protzilla.runner.Runner object at 0x0000028B97809990>, 'workflow': 'ba_hf_gsea', 'ms_data_path': 'C:\\\\Users\\\\bzwad\\\\Documents\\\\Uni\\\\WS22_23\\\\BP\\\\PROTzilla2\\\\user_data\\\\data\\\\proteinGroups.txt', 'meta_data_path': 'C:\\\\Users\\\\bzwad\\\\Documents\\\\Uni\\\\WS22_23\\\\BP\\\\PROTzilla2\\\\user_data\\\\data\\\\sdrf.tsv', 'peptides_path': None, 'run_name': 'ba_hf_gsea', 'df_mode': 'disk', 'all_plots': False, 'verbose': True}\n",
      "INFO:root:Run ba_hf_gsea created at C:\\Users\\bzwad\\Documents\\Uni\\WS22_23\\BP\\PROTzilla2\\user_data\\runs\\ba_hf_gsea\n",
      "INFO:root:Saving plots at C:\\Users\\bzwad\\Documents\\Uni\\WS22_23\\BP\\PROTzilla2\\user_data\\runs\\ba_hf_gsea\\plots\n",
      "INFO:root:------ computing workflow\n",
      "\n",
      "INFO:root:imported MS Data\n",
      "INFO:root:imported Meta Data\n",
      "INFO:root:performing step: ('data_preprocessing', 'filter_proteins', 'samples_missing_filter')\n",
      "INFO:root:performing step: ('data_preprocessing', 'filter_samples', 'protein_intensity_sum_filter')\n",
      "INFO:root:performing step: ('data_preprocessing', 'imputation', 'knn')\n",
      "INFO:root:performing step: ('data_preprocessing', 'outlier_detection', 'local_outlier_factor')\n",
      "INFO:root:performing step: ('data_preprocessing', 'normalisation', 'median')\n",
      "INFO:root:performing step: ('data_analysis', 'differential_expression', 't_test')\n",
      "INFO:root:performing step: ('data_integration', 'database_integration', 'gene_mapping')\n",
      "INFO:protzilla:Mapping Uniprot IDs to genes.\n"
     ]
    },
    {
     "name": "stdout",
     "output_type": "stream",
     "text": [
      "\u001B[38;20m[2023/07/13 - 14:15:41] [    INFO] Mapping Uniprot IDs to genes.\u001B[0m\n"
     ]
    },
    {
     "name": "stderr",
     "output_type": "stream",
     "text": [
      "INFO:protzilla:Skipping biomart, done with mapping uniprot IDs to genes.\n"
     ]
    },
    {
     "name": "stdout",
     "output_type": "stream",
     "text": [
      "\u001B[38;20m[2023/07/13 - 14:15:42] [    INFO] Skipping biomart, done with mapping uniprot IDs to genes.\u001B[0m\n"
     ]
    },
    {
     "name": "stderr",
     "output_type": "stream",
     "text": [
      "INFO:root:performing step: ('data_integration', 'enrichment_analysis', 'gsea')\n",
      "INFO:protzilla:Running GSEA\n",
      "2023-07-13 14:15:43,874 [INFO] Parsing data files for GSEA.............................\n",
      "2023-07-13 14:15:43,943 [INFO] 2388 gene_sets have been filtered out when max_size=500 and min_size=1\n",
      "2023-07-13 14:15:43,945 [INFO] 0224 gene_sets used for further statistical testing.....\n",
      "2023-07-13 14:15:43,946 [INFO] Start to run GSEA...Might take a while..................\n"
     ]
    },
    {
     "name": "stdout",
     "output_type": "stream",
     "text": [
      "\u001B[38;20m[2023/07/13 - 14:15:43] [    INFO] Running GSEA\u001B[0m\n"
     ]
    },
    {
     "name": "stderr",
     "output_type": "stream",
     "text": [
      "2023-07-13 14:15:44,098 [INFO] Congratulations. GSEApy ran successfully.................\n",
      "\n",
      "WARNING:root:Some proteins could not be mapped to gene symbols and were excluded from the analysis\n",
      "INFO:root:Parsed arguments: {'self': <protzilla.runner.Runner object at 0x0000028BA1B7D110>, 'workflow': 'ba_hf_preranked', 'ms_data_path': 'C:\\\\Users\\\\bzwad\\\\Documents\\\\Uni\\\\WS22_23\\\\BP\\\\PROTzilla2\\\\user_data\\\\data\\\\proteinGroups.txt', 'meta_data_path': 'C:\\\\Users\\\\bzwad\\\\Documents\\\\Uni\\\\WS22_23\\\\BP\\\\PROTzilla2\\\\user_data\\\\data\\\\sdrf.tsv', 'peptides_path': None, 'run_name': 'ba_hf_preranked', 'df_mode': 'disk', 'all_plots': False, 'verbose': True}\n",
      "INFO:root:Run ba_hf_preranked created at C:\\Users\\bzwad\\Documents\\Uni\\WS22_23\\BP\\PROTzilla2\\user_data\\runs\\ba_hf_preranked\n",
      "INFO:root:Saving plots at C:\\Users\\bzwad\\Documents\\Uni\\WS22_23\\BP\\PROTzilla2\\user_data\\runs\\ba_hf_preranked\\plots\n",
      "INFO:root:------ computing workflow\n",
      "\n",
      "INFO:root:imported MS Data\n",
      "INFO:root:imported Meta Data\n",
      "INFO:root:performing step: ('data_preprocessing', 'filter_proteins', 'samples_missing_filter')\n",
      "INFO:root:performing step: ('data_preprocessing', 'filter_samples', 'protein_intensity_sum_filter')\n",
      "INFO:root:performing step: ('data_preprocessing', 'imputation', 'knn')\n",
      "INFO:root:performing step: ('data_preprocessing', 'outlier_detection', 'local_outlier_factor')\n",
      "INFO:root:performing step: ('data_preprocessing', 'normalisation', 'median')\n",
      "INFO:root:performing step: ('data_analysis', 'differential_expression', 't_test')\n",
      "INFO:root:performing step: ('data_integration', 'database_integration', 'gene_mapping')\n",
      "INFO:protzilla:Mapping Uniprot IDs to genes.\n"
     ]
    },
    {
     "name": "stdout",
     "output_type": "stream",
     "text": [
      "\u001B[38;20m[2023/07/13 - 14:16:13] [    INFO] Mapping Uniprot IDs to genes.\u001B[0m\n"
     ]
    },
    {
     "name": "stderr",
     "output_type": "stream",
     "text": [
      "INFO:protzilla:Skipping biomart, done with mapping uniprot IDs to genes.\n"
     ]
    },
    {
     "name": "stdout",
     "output_type": "stream",
     "text": [
      "\u001B[38;20m[2023/07/13 - 14:16:14] [    INFO] Skipping biomart, done with mapping uniprot IDs to genes.\u001B[0m\n"
     ]
    },
    {
     "name": "stderr",
     "output_type": "stream",
     "text": [
      "INFO:root:performing step: ('data_integration', 'enrichment_analysis', 'gsea_preranked')\n",
      "INFO:protzilla:Ranking input\n",
      "C:\\Users\\bzwad\\Documents\\Uni\\WS22_23\\BP\\PROTzilla2\\protzilla\\data_integration\\enrichment_analysis_gsea.py:44: SettingWithCopyWarning: \n",
      "A value is trying to be set on a copy of a slice from a DataFrame\n",
      "\n",
      "See the caveats in the documentation: https://pandas.pydata.org/pandas-docs/stable/user_guide/indexing.html#returning-a-view-versus-a-copy\n",
      "  protein_df.drop_duplicates(subset=\"Protein ID\", inplace=True)\n",
      "INFO:protzilla:Running GSEA\n",
      "2023-07-13 14:16:16,000 [WARNING] Duplicated values found in preranked stats: 14.04% of genes\n",
      "The order of those genes will be arbitrary, which may produce unexpected results.\n",
      "2023-07-13 14:16:16,001 [INFO] Parsing data files for GSEA.............................\n",
      "2023-07-13 14:16:16,052 [INFO] 2388 gene_sets have been filtered out when max_size=500 and min_size=1\n",
      "2023-07-13 14:16:16,053 [INFO] 0224 gene_sets used for further statistical testing.....\n",
      "2023-07-13 14:16:16,053 [INFO] Start to run GSEA...Might take a while..................\n"
     ]
    },
    {
     "name": "stdout",
     "output_type": "stream",
     "text": [
      "\u001B[38;20m[2023/07/13 - 14:16:15] [    INFO] Ranking input\u001B[0m\n",
      "\u001B[38;20m[2023/07/13 - 14:16:15] [    INFO] Running GSEA\u001B[0m\n"
     ]
    },
    {
     "name": "stderr",
     "output_type": "stream",
     "text": [
      "2023-07-13 14:16:16,209 [INFO] Congratulations. GSEApy runs successfully................\n",
      "\n",
      "WARNING:root:Some proteins could not be mapped to gene symbols and were excluded from the analysis\n"
     ]
    }
   ],
   "source": [
    "workflows = [\"ba_hf_enrichr\", \"ba_hf_string\", \"ba_hf_offline\", \"ba_hf_gsea\", \"ba_hf_preranked\"]\n",
    "\n",
    "for workflow in workflows:\n",
    "    runner = Runner(\n",
    "        **{\n",
    "            \"workflow\": workflow,\n",
    "            \"ms_data_path\": f\"{PROJECT_PATH}\\\\user_data\\\\data\\\\proteinGroups.txt\",\n",
    "            \"meta_data_path\": f\"{PROJECT_PATH}\\\\user_data\\\\data\\\\sdrf.tsv\",\n",
    "            \"peptides_path\": None,\n",
    "            \"run_name\": workflow,\n",
    "            \"df_mode\": \"disk\",\n",
    "            \"all_plots\": False,\n",
    "            \"verbose\": True,\n",
    "        }\n",
    "    )\n",
    "    runner.compute_workflow()"
   ],
   "metadata": {
    "collapsed": false,
    "pycharm": {
     "name": "#%%\n"
    }
   }
  },
  {
   "cell_type": "code",
   "execution_count": null,
   "outputs": [],
   "source": [],
   "metadata": {
    "collapsed": false,
    "pycharm": {
     "name": "#%%\n"
    }
   }
  }
 ],
 "metadata": {
  "kernelspec": {
   "display_name": "Python 3",
   "language": "python",
   "name": "python3"
  },
  "language_info": {
   "codemirror_mode": {
    "name": "ipython",
    "version": 2
   },
   "file_extension": ".py",
   "mimetype": "text/x-python",
   "name": "python",
   "nbconvert_exporter": "python",
   "pygments_lexer": "ipython2",
   "version": "2.7.6"
  }
 },
 "nbformat": 4,
 "nbformat_minor": 0
}