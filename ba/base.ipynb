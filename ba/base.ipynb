{
 "cells": [
  {
   "cell_type": "code",
   "execution_count": 37,
   "metadata": {
    "collapsed": true
   },
   "outputs": [],
   "source": [
    "import pandas as pd\n",
    "from protzilla.importing.ms_data_import import max_quant_import\n",
    "from protzilla.data_integration.enrichment_analysis_helper import read_protein_or_gene_sets_file\n",
    "from protzilla.runner import Runner\n",
    "from protzilla.constants.paths import PROJECT_PATH"
   ]
  },
  {
   "cell_type": "code",
   "execution_count": 15,
   "outputs": [
    {
     "name": "stdout",
     "output_type": "stream",
     "text": [
      "cardiac hypertrophy        13\n",
      "normal                      7\n",
      "ischemic cardiomyopathy     6\n",
      "dilated cardiomyopathy      6\n",
      "compensated hypertrophy     2\n",
      "Name: Characteristics[disease], dtype: int64\n"
     ]
    }
   ],
   "source": [
    "metadata = pd.read_csv(\"data/sdrf.tsv\", sep=\"\\t\")\n",
    "print(metadata[\"Characteristics[disease]\"].value_counts())\n",
    "\n",
    "# cardiac hypertrophy        13\n",
    "# normal                      7\n",
    "# ischemic cardiomyopathy     6\n",
    "# dilated cardiomyopathy      6\n",
    "# compensated hypertrophy     2"
   ],
   "metadata": {
    "collapsed": false,
    "pycharm": {
     "name": "#%%\n"
    }
   }
  },
  {
   "cell_type": "code",
   "execution_count": 15,
   "outputs": [
    {
     "data": {
      "text/plain": "3799"
     },
     "execution_count": 15,
     "metadata": {},
     "output_type": "execute_result"
    }
   ],
   "source": [
    "df = max_quant_import(_, file_path=\"data/proteinGroups.txt\", intensity_name=\"iBAQ\")[0]\n",
    "len(df[\"Protein ID\"].unique()) # 3799"
   ],
   "metadata": {
    "collapsed": false,
    "pycharm": {
     "name": "#%%\n"
    }
   }
  },
  {
   "cell_type": "code",
   "execution_count": 17,
   "outputs": [
    {
     "data": {
      "text/plain": "3799"
     },
     "execution_count": 17,
     "metadata": {},
     "output_type": "execute_result"
    }
   ],
   "source": [
    "hf_df = pd.read_csv(\"data/hf_imported_df.csv\")\n",
    "len(df[\"Protein ID\"].unique().tolist())"
   ],
   "metadata": {
    "collapsed": false,
    "pycharm": {
     "name": "#%%\n"
    }
   }
  },
  {
   "cell_type": "code",
   "execution_count": 45,
   "outputs": [],
   "source": [
    "proteins = hf_df[\"Protein ID\"].unique().tolist()\n",
    "with open('background.txt', 'w') as file:\n",
    "    # Write each string on a separate line\n",
    "    for string in proteins:\n",
    "        file.write(string + '\\n')"
   ],
   "metadata": {
    "collapsed": false,
    "pycharm": {
     "name": "#%%\n"
    }
   }
  },
  {
   "cell_type": "code",
   "execution_count": 13,
   "outputs": [
    {
     "data": {
      "text/plain": "49.316998468606435"
     },
     "execution_count": 13,
     "metadata": {},
     "output_type": "execute_result"
    }
   ],
   "source": [
    "with open(\"data/ReactomePathways.gmt\", 'r') as file:\n",
    "    data = []\n",
    "    for line in file:\n",
    "        line = line.strip().split('\\t')\n",
    "        gene_set_name = line[0]\n",
    "        genes = line[2:]\n",
    "        data.append({'Gene Set Name': gene_set_name, 'Genes': genes})\n",
    "\n",
    "gene_set_df = pd.DataFrame(data) # len 2612\n",
    "unique_genes = list(set(gene for gene_list in gene_set_df[\"Genes\"] for gene in gene_list if gene))\n",
    "len(unique_genes) # 11494 unqiue genes\n",
    "gene_set_df[\"number_of_genes\"] = gene_set_df[\"Genes\"].apply(lambda x: len(x))\n",
    "gene_set_df[\"number_of_genes\"].mean() # 49.3"
   ],
   "metadata": {
    "collapsed": false,
    "pycharm": {
     "name": "#%%\n"
    }
   }
  },
  {
   "cell_type": "code",
   "execution_count": 38,
   "outputs": [
    {
     "name": "stderr",
     "output_type": "stream",
     "text": [
      "INFO:root:Parsed arguments: {'self': <protzilla.runner.Runner object at 0x0000027184D28110>, 'workflow': 'ba_hf_enrichr', 'ms_data_path': 'C:\\\\Users\\\\bzwad\\\\Documents\\\\Uni\\\\WS22_23\\\\BP\\\\PROTzilla2\\\\user_data\\\\data\\\\proteinGroups.txt', 'meta_data_path': 'C:\\\\Users\\\\bzwad\\\\Documents\\\\Uni\\\\WS22_23\\\\BP\\\\PROTzilla2\\\\user_data\\\\data\\\\sdrf.tsv', 'peptides_path': None, 'run_name': 'test2', 'df_mode': 'disk', 'all_plots': False, 'verbose': True}\n",
      "INFO:root:Run test2 created at C:\\Users\\bzwad\\Documents\\Uni\\WS22_23\\BP\\PROTzilla2\\user_data\\runs\\test2\n",
      "INFO:root:Saving plots at C:\\Users\\bzwad\\Documents\\Uni\\WS22_23\\BP\\PROTzilla2\\user_data\\runs\\test2\\plots\n",
      "INFO:root:------ computing workflow\n",
      "\n"
     ]
    },
    {
     "name": "stdout",
     "output_type": "stream",
     "text": [
      "\n",
      "\n",
      "\n"
     ]
    },
    {
     "name": "stderr",
     "output_type": "stream",
     "text": [
      "INFO:root:imported MS Data\n",
      "INFO:root:imported Meta Data\n",
      "INFO:root:performing step: ('data_preprocessing', 'filter_proteins', 'samples_missing_filter')\n",
      "INFO:root:performing step: ('data_preprocessing', 'filter_samples', 'protein_intensity_sum_filter')\n",
      "INFO:root:performing step: ('data_preprocessing', 'imputation', 'knn')\n",
      "INFO:root:performing step: ('data_preprocessing', 'outlier_detection', 'local_outlier_factor')\n",
      "INFO:root:performing step: ('data_preprocessing', 'normalisation', 'median')\n",
      "INFO:root:performing step: ('data_analysis', 'differential_expression', 't_test')\n",
      "INFO:root:performing step: ('data_integration', 'enrichment_analysis', 'GO_analysis_with_Enrichr')\n",
      "WARNING:protzilla:You provided a background file with multiple columns. Only the first will be used.\n",
      "C:\\Users\\bzwad\\Documents\\Uni\\WS22_23\\BP\\PROTzilla2\\protzilla\\data_integration\\enrichment_analysis.py:494: SettingWithCopyWarning: \n",
      "A value is trying to be set on a copy of a slice from a DataFrame\n",
      "\n",
      "See the caveats in the documentation: https://pandas.pydata.org/pandas-docs/stable/user_guide/indexing.html#returning-a-view-versus-a-copy\n",
      "  proteins_df.drop_duplicates(subset=\"Protein ID\", inplace=True)\n",
      "INFO:protzilla:Mapping Uniprot IDs to gene symbols\n",
      "INFO:protzilla:Mapping to map uniprot IDs to genes.\n",
      "INFO:protzilla:Found 1 uniprot databases.\n"
     ]
    },
    {
     "name": "stdout",
     "output_type": "stream",
     "text": [
      "\u001B[33;20m[2023/07/11 - 17:59:31] [ WARNING] You provided a background file with multiple columns. Only the first will be used.\u001B[0m\n",
      "\u001B[38;20m[2023/07/11 - 17:59:31] [    INFO] Mapping Uniprot IDs to gene symbols\u001B[0m\n",
      "\u001B[38;20m[2023/07/11 - 17:59:31] [    INFO] Mapping to map uniprot IDs to genes.\u001B[0m\n",
      "\u001B[38;20m[2023/07/11 - 17:59:31] [    INFO] Found 1 uniprot databases.\u001B[0m\n"
     ]
    },
    {
     "name": "stderr",
     "output_type": "stream",
     "text": [
      "INFO:protzilla:Starting biomart mapping.\n"
     ]
    },
    {
     "name": "stdout",
     "output_type": "stream",
     "text": [
      "\u001B[38;20m[2023/07/11 - 17:59:32] [    INFO] Starting biomart mapping.\u001B[0m\n"
     ]
    },
    {
     "name": "stderr",
     "output_type": "stream",
     "text": [
      "INFO:protzilla:Done with mapping uniprot IDs to genes.\n",
      "INFO:protzilla:Starting analysis for upregulated proteins\n",
      "2023-07-11 17:59:34,797 [INFO] User defined gene sets is given: C:\\Users\\bzwad\\Documents\\Uni\\WS22_23\\BP\\PROTzilla2\\user_data\\data\\ReactomePathways.gmt\n",
      "2023-07-11 17:59:34,827 [INFO] Run: ReactomePathways.gmt \n",
      "2023-07-11 17:59:34,846 [INFO] No hits return, for gene set: Custom2686744531840\n"
     ]
    },
    {
     "name": "stdout",
     "output_type": "stream",
     "text": [
      "\u001B[38;20m[2023/07/11 - 17:59:34] [    INFO] Done with mapping uniprot IDs to genes.\u001B[0m\n",
      "\u001B[38;20m[2023/07/11 - 17:59:34] [    INFO] Starting analysis for upregulated proteins\u001B[0m\n"
     ]
    },
    {
     "ename": "TypeError",
     "evalue": "list indices must be integers or slices, not str",
     "output_type": "error",
     "traceback": [
      "\u001B[1;31m---------------------------------------------------------------------------\u001B[0m",
      "\u001B[1;31mTypeError\u001B[0m                                 Traceback (most recent call last)",
      "Cell \u001B[1;32mIn[38], line 13\u001B[0m\n\u001B[0;32m      1\u001B[0m runner \u001B[38;5;241m=\u001B[39m Runner(\n\u001B[0;32m      2\u001B[0m     \u001B[38;5;241m*\u001B[39m\u001B[38;5;241m*\u001B[39m{\n\u001B[0;32m      3\u001B[0m         \u001B[38;5;124m\"\u001B[39m\u001B[38;5;124mworkflow\u001B[39m\u001B[38;5;124m\"\u001B[39m: \u001B[38;5;124m\"\u001B[39m\u001B[38;5;124mba_hf_enrichr\u001B[39m\u001B[38;5;124m\"\u001B[39m,\n\u001B[1;32m   (...)\u001B[0m\n\u001B[0;32m     11\u001B[0m     }\n\u001B[0;32m     12\u001B[0m )\n\u001B[1;32m---> 13\u001B[0m \u001B[43mrunner\u001B[49m\u001B[38;5;241;43m.\u001B[39;49m\u001B[43mcompute_workflow\u001B[49m\u001B[43m(\u001B[49m\u001B[43m)\u001B[49m\n",
      "File \u001B[1;32m~\\Documents\\Uni\\WS22_23\\BP\\PROTzilla2\\protzilla\\runner.py:91\u001B[0m, in \u001B[0;36mRunner.compute_workflow\u001B[1;34m(self)\u001B[0m\n\u001B[0;32m     85\u001B[0m logging\u001B[38;5;241m.\u001B[39minfo(\n\u001B[0;32m     86\u001B[0m     \u001B[38;5;124mf\u001B[39m\u001B[38;5;124m\"\u001B[39m\u001B[38;5;124mperforming step: \u001B[39m\u001B[38;5;132;01m{\u001B[39;00m\u001B[38;5;241m*\u001B[39m\u001B[38;5;28mself\u001B[39m\u001B[38;5;241m.\u001B[39mrun\u001B[38;5;241m.\u001B[39mcurrent_workflow_location(),\u001B[38;5;132;01m}\u001B[39;00m\u001B[38;5;124m\"\u001B[39m\n\u001B[0;32m     87\u001B[0m )\n\u001B[0;32m     88\u001B[0m params \u001B[38;5;241m=\u001B[39m get_parameters(\n\u001B[0;32m     89\u001B[0m     \u001B[38;5;28mself\u001B[39m\u001B[38;5;241m.\u001B[39mrun, \u001B[38;5;241m*\u001B[39m\u001B[38;5;28mself\u001B[39m\u001B[38;5;241m.\u001B[39mrun\u001B[38;5;241m.\u001B[39mcurrent_workflow_location()\n\u001B[0;32m     90\u001B[0m )\n\u001B[1;32m---> 91\u001B[0m \u001B[38;5;28;43mself\u001B[39;49m\u001B[38;5;241;43m.\u001B[39;49m\u001B[43m_perform_current_step\u001B[49m\u001B[43m(\u001B[49m\u001B[43mget_defaults\u001B[49m\u001B[43m(\u001B[49m\u001B[43mparams\u001B[49m\u001B[43m)\u001B[49m\u001B[43m)\u001B[49m\n\u001B[0;32m     92\u001B[0m \u001B[38;5;28;01mif\u001B[39;00m \u001B[38;5;28mself\u001B[39m\u001B[38;5;241m.\u001B[39mall_plots:\n\u001B[0;32m     93\u001B[0m     \u001B[38;5;28mself\u001B[39m\u001B[38;5;241m.\u001B[39m_create_plots_for_step(section, step)\n",
      "File \u001B[1;32m~\\Documents\\Uni\\WS22_23\\BP\\PROTzilla2\\protzilla\\runner.py:127\u001B[0m, in \u001B[0;36mRunner._perform_current_step\u001B[1;34m(self, params)\u001B[0m\n\u001B[0;32m    126\u001B[0m \u001B[38;5;28;01mdef\u001B[39;00m \u001B[38;5;21m_perform_current_step\u001B[39m(\u001B[38;5;28mself\u001B[39m, params):\n\u001B[1;32m--> 127\u001B[0m     \u001B[38;5;28;43mself\u001B[39;49m\u001B[38;5;241;43m.\u001B[39;49m\u001B[43mrun\u001B[49m\u001B[38;5;241;43m.\u001B[39;49m\u001B[43mperform_current_calculation_step\u001B[49m\u001B[43m(\u001B[49m\u001B[43mparams\u001B[49m\u001B[43m)\u001B[49m\n",
      "File \u001B[1;32m~\\Documents\\Uni\\WS22_23\\BP\\PROTzilla2\\protzilla\\run.py:136\u001B[0m, in \u001B[0;36mRun.perform_current_calculation_step\u001B[1;34m(self, parameters)\u001B[0m\n\u001B[0;32m    135\u001B[0m \u001B[38;5;28;01mdef\u001B[39;00m \u001B[38;5;21mperform_current_calculation_step\u001B[39m(\u001B[38;5;28mself\u001B[39m, parameters):\n\u001B[1;32m--> 136\u001B[0m     \u001B[38;5;28;43mself\u001B[39;49m\u001B[38;5;241;43m.\u001B[39;49m\u001B[43mperform_calculation_from_location\u001B[49m\u001B[43m(\u001B[49m\u001B[38;5;241;43m*\u001B[39;49m\u001B[38;5;28;43mself\u001B[39;49m\u001B[38;5;241;43m.\u001B[39;49m\u001B[43mcurrent_run_location\u001B[49m\u001B[43m(\u001B[49m\u001B[43m)\u001B[49m\u001B[43m,\u001B[49m\u001B[43m \u001B[49m\u001B[43mparameters\u001B[49m\u001B[43m)\u001B[49m\n",
      "File \u001B[1;32m~\\Documents\\Uni\\WS22_23\\BP\\PROTzilla2\\protzilla\\run.py:144\u001B[0m, in \u001B[0;36mRun.perform_calculation_from_location\u001B[1;34m(self, section, step, method, parameters)\u001B[0m\n\u001B[0;32m    142\u001B[0m \u001B[38;5;28;01mdef\u001B[39;00m \u001B[38;5;21mperform_calculation_from_location\u001B[39m(\u001B[38;5;28mself\u001B[39m, section, step, method, parameters):\n\u001B[0;32m    143\u001B[0m     location \u001B[38;5;241m=\u001B[39m (section, step, method)\n\u001B[1;32m--> 144\u001B[0m     \u001B[38;5;28;43mself\u001B[39;49m\u001B[38;5;241;43m.\u001B[39;49m\u001B[43mperform_calculation\u001B[49m\u001B[43m(\u001B[49m\u001B[43mmethod_map\u001B[49m\u001B[43m[\u001B[49m\u001B[43mlocation\u001B[49m\u001B[43m]\u001B[49m\u001B[43m,\u001B[49m\u001B[43m \u001B[49m\u001B[43mparameters\u001B[49m\u001B[43m)\u001B[49m\n\u001B[0;32m    145\u001B[0m     \u001B[38;5;28mself\u001B[39m\u001B[38;5;241m.\u001B[39mupdate_workflow_config(parameters, location)\n",
      "File \u001B[1;32m~\\Documents\\Uni\\WS22_23\\BP\\PROTzilla2\\protzilla\\run.py:171\u001B[0m, in \u001B[0;36mRun.perform_calculation\u001B[1;34m(self, method_callable, parameters)\u001B[0m\n\u001B[0;32m    169\u001B[0m \u001B[38;5;28;01mif\u001B[39;00m \u001B[38;5;124m\"\u001B[39m\u001B[38;5;124mmessages\u001B[39m\u001B[38;5;124m\"\u001B[39m \u001B[38;5;129;01min\u001B[39;00m \u001B[38;5;28mself\u001B[39m\u001B[38;5;241m.\u001B[39mcurrent_out:\n\u001B[0;32m    170\u001B[0m     \u001B[38;5;28;01mfor\u001B[39;00m message \u001B[38;5;129;01min\u001B[39;00m \u001B[38;5;28mself\u001B[39m\u001B[38;5;241m.\u001B[39mcurrent_out[\u001B[38;5;124m\"\u001B[39m\u001B[38;5;124mmessages\u001B[39m\u001B[38;5;124m\"\u001B[39m]:\n\u001B[1;32m--> 171\u001B[0m         log_function \u001B[38;5;241m=\u001B[39m MESSAGE_TO_LOGGING_FUNCTION\u001B[38;5;241m.\u001B[39mget(\u001B[43mmessage\u001B[49m\u001B[43m[\u001B[49m\u001B[38;5;124;43m\"\u001B[39;49m\u001B[38;5;124;43mlevel\u001B[39;49m\u001B[38;5;124;43m\"\u001B[39;49m\u001B[43m]\u001B[49m)\n\u001B[0;32m    172\u001B[0m         \u001B[38;5;28;01mif\u001B[39;00m log_function:\n\u001B[0;32m    173\u001B[0m             trace \u001B[38;5;241m=\u001B[39m \u001B[38;5;124mf\u001B[39m\u001B[38;5;124m\"\u001B[39m\u001B[38;5;130;01m\\n\u001B[39;00m\u001B[38;5;124mTrace: \u001B[39m\u001B[38;5;132;01m{\u001B[39;00mmessage[\u001B[38;5;124m'\u001B[39m\u001B[38;5;124mtrace\u001B[39m\u001B[38;5;124m'\u001B[39m]\u001B[38;5;132;01m}\u001B[39;00m\u001B[38;5;124m\"\u001B[39m \u001B[38;5;28;01mif\u001B[39;00m \u001B[38;5;124m\"\u001B[39m\u001B[38;5;124mtrace\u001B[39m\u001B[38;5;124m\"\u001B[39m \u001B[38;5;129;01min\u001B[39;00m message \u001B[38;5;28;01melse\u001B[39;00m \u001B[38;5;124m\"\u001B[39m\u001B[38;5;124m\"\u001B[39m\n",
      "\u001B[1;31mTypeError\u001B[0m: list indices must be integers or slices, not str"
     ]
    }
   ],
   "source": [
    "runner = Runner(\n",
    "    **{\n",
    "        \"workflow\": \"ba_hf_enrichr\",\n",
    "        \"ms_data_path\": f\"{PROJECT_PATH}\\\\user_data\\\\data\\\\proteinGroups.txt\",\n",
    "        \"meta_data_path\": f\"{PROJECT_PATH}\\\\user_data\\\\data\\\\sdrf.tsv\",\n",
    "        \"peptides_path\": None,\n",
    "        \"run_name\": \"test2\",\n",
    "        \"df_mode\": \"disk\",\n",
    "        \"all_plots\": False,\n",
    "        \"verbose\": True,\n",
    "    }\n",
    ")\n",
    "runner.compute_workflow()"
   ],
   "metadata": {
    "collapsed": false,
    "pycharm": {
     "name": "#%%\n"
    }
   }
  },
  {
   "cell_type": "code",
   "execution_count": null,
   "outputs": [],
   "source": [],
   "metadata": {
    "collapsed": false,
    "pycharm": {
     "name": "#%%\n"
    }
   }
  }
 ],
 "metadata": {
  "kernelspec": {
   "display_name": "Python 3",
   "language": "python",
   "name": "python3"
  },
  "language_info": {
   "codemirror_mode": {
    "name": "ipython",
    "version": 2
   },
   "file_extension": ".py",
   "mimetype": "text/x-python",
   "name": "python",
   "nbconvert_exporter": "python",
   "pygments_lexer": "ipython2",
   "version": "2.7.6"
  }
 },
 "nbformat": 4,
 "nbformat_minor": 0
}