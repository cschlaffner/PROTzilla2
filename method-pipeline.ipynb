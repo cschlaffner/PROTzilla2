{
 "cells": [
  {
   "cell_type": "code",
   "execution_count": 1,
   "metadata": {},
   "outputs": [],
   "source": [
    "from protzilla.runner import Runner,Run\n",
    "from protzilla.constants.paths import PROJECT_PATH\n",
    "from protzilla.utilities.transform_dfs import long_to_wide\n",
    "import pandas as pd\n",
    "import json"
   ]
  },
  {
   "cell_type": "code",
   "execution_count": 2,
   "metadata": {},
   "outputs": [],
   "source": [
    "norm_methods = [\n",
    "    {\"method\":\"z_score\",\"parameters\":{}, \"fc_threshold\":0.3157},\n",
    "    {\"method\":\"median\",\"parameters\":{\"percentile\":0.5},\"fc_threshold\":0.0309},\n",
    "    {\"method\":\"totalsum\",\"parameters\":{},\"fc_threshold\":0.0000638564}\n",
    "]"
   ]
  },
  {
   "cell_type": "code",
   "execution_count": 3,
   "metadata": {},
   "outputs": [],
   "source": [
    "imp_methods = [\n",
    "    {\"method\":\"min_value_per_sample\",\"parameters\":{\"shrinking_value\":1}},\n",
    "    {\"method\":\"simple_imputation_per_protein\",\"parameters\":{\"strategy\":\"median\"}},\n",
    "    {\"method\":\"simple_imputation_per_protein\",\"parameters\":{\"strategy\":\"most_frequent\"}},\n",
    "    {\"method\":\"knn\",\"parameters\":{\"number_of_neighbours\":5}}\n",
    "    ]"
   ]
  },
  {
   "cell_type": "code",
   "execution_count": 3,
   "metadata": {},
   "outputs": [],
   "source": [
    "method_combinations = [({\"method\":\"z_score\",\"parameters\":{}, \"fc_threshold\":0.4237},{\"method\":\"knn\",\"parameters\":{\"number_of_neighbours\":5}}),\n",
    "                       ({\"method\":\"z_score\",\"parameters\":{}, \"fc_threshold\":0.4237},{\"method\":\"simple_imputation_per_protein\",\"parameters\":{\"strategy\":\"median\"}}),\n",
    "                       ({\"method\":\"totalsum\",\"parameters\":{},\"fc_threshold\":0.00004422884}, {\"method\":\"knn\",\"parameters\":{\"number_of_neighbours\":5}}),\n",
    "                       ({\"method\":\"median\",\"parameters\":{\"percentile\":0.5},\"fc_threshold\":0.0474},{\"method\":\"knn\",\"parameters\":{\"number_of_neighbours\":5}})]"
   ]
  },
  {
   "cell_type": "code",
   "execution_count": 4,
   "metadata": {},
   "outputs": [],
   "source": [
    "def adjust_wf(norm_method, imp_method):\n",
    "    with open(f\"{PROJECT_PATH}\\\\user_data\\\\workflows\\\\ba_39_norm_imp_wf.json\") as wf_file:\n",
    "        wf = json.load(wf_file)\n",
    "    wf[\"sections\"][\"data_preprocessing\"][\"steps\"][3][\"method\"] = norm_method[\"method\"]\n",
    "    wf[\"sections\"][\"data_preprocessing\"][\"steps\"][3][\"parameters\"] = norm_method[\"parameters\"]\n",
    "    wf[\"sections\"][\"data_preprocessing\"][\"steps\"][4][\"method\"] = imp_method[\"method\"]\n",
    "    wf[\"sections\"][\"data_preprocessing\"][\"steps\"][4][\"parameters\"] = imp_method[\"parameters\"]\n",
    "    wf[\"sections\"][\"data_analysis\"][\"steps\"][0][\"parameters\"][\"fc_threshold\"] = norm_method[\"fc_threshold\"]\n",
    "    new_wf = json.dumps(wf,indent=2)\n",
    "    with open(f\"{PROJECT_PATH}\\\\user_data\\\\workflows\\\\ba_39_norm_imp_wf.json\", \"w\") as wf_file:\n",
    "        wf_file.write(new_wf)"
   ]
  },
  {
   "cell_type": "code",
   "execution_count": 5,
   "metadata": {},
   "outputs": [
    {
     "name": "stderr",
     "output_type": "stream",
     "text": [
      "INFO:root:Run ba_39_z_score_knn_new_fc created at C:\\Users\\mon28\\Documents\\Uni\\BP\\PROTzilla2\\user_data\\runs\\ba_39_z_score_knn_new_fc\n",
      "INFO:root:Saving plots at C:\\Users\\mon28\\Documents\\Uni\\BP\\PROTzilla2\\user_data\\runs\\ba_39_z_score_knn_new_fc\\plots\n",
      "INFO:root:------ computing workflow\n",
      "\n"
     ]
    },
    {
     "name": "stderr",
     "output_type": "stream",
     "text": [
      "INFO:root:imported MS Data\n",
      "INFO:root:imported Meta Data\n",
      "INFO:root:performing step: ('data_preprocessing', 'filter_samples', 'proteins_missing_filter')\n",
      "INFO:root:performing step: ('data_preprocessing', 'filter_proteins', 'samples_missing_filter')\n",
      "INFO:root:performing step: ('data_preprocessing', 'transformation', 'log_transformation')\n",
      "INFO:root:performing step: ('data_preprocessing', 'normalisation', 'z_score')\n",
      "INFO:root:performing step: ('data_preprocessing', 'imputation', 'knn')\n",
      "INFO:root:performing step: ('data_analysis', 'differential_expression', 't_test')\n",
      "INFO:root:creating plot: ('data_analysis', 'plot', 'volcano')\n",
      "INFO:root:Run ba_39_z_score_simple_imputation_per_proteinmedian_new_fc created at C:\\Users\\mon28\\Documents\\Uni\\BP\\PROTzilla2\\user_data\\runs\\ba_39_z_score_simple_imputation_per_proteinmedian_new_fc\n",
      "INFO:root:Saving plots at C:\\Users\\mon28\\Documents\\Uni\\BP\\PROTzilla2\\user_data\\runs\\ba_39_z_score_simple_imputation_per_proteinmedian_new_fc\\plots\n",
      "INFO:root:------ computing workflow\n",
      "\n",
      "INFO:root:imported MS Data\n",
      "INFO:root:imported Meta Data\n",
      "INFO:root:performing step: ('data_preprocessing', 'filter_samples', 'proteins_missing_filter')\n",
      "INFO:root:performing step: ('data_preprocessing', 'filter_proteins', 'samples_missing_filter')\n",
      "INFO:root:performing step: ('data_preprocessing', 'transformation', 'log_transformation')\n",
      "INFO:root:performing step: ('data_preprocessing', 'normalisation', 'z_score')\n",
      "INFO:root:performing step: ('data_preprocessing', 'imputation', 'simple_imputation_per_protein')\n",
      "INFO:root:performing step: ('data_analysis', 'differential_expression', 't_test')\n",
      "INFO:root:creating plot: ('data_analysis', 'plot', 'volcano')\n",
      "INFO:root:Run ba_39_totalsum_knn_new_fc created at C:\\Users\\mon28\\Documents\\Uni\\BP\\PROTzilla2\\user_data\\runs\\ba_39_totalsum_knn_new_fc\n",
      "INFO:root:Saving plots at C:\\Users\\mon28\\Documents\\Uni\\BP\\PROTzilla2\\user_data\\runs\\ba_39_totalsum_knn_new_fc\\plots\n",
      "INFO:root:------ computing workflow\n",
      "\n",
      "INFO:root:imported MS Data\n",
      "INFO:root:imported Meta Data\n",
      "INFO:root:performing step: ('data_preprocessing', 'filter_samples', 'proteins_missing_filter')\n",
      "INFO:root:performing step: ('data_preprocessing', 'filter_proteins', 'samples_missing_filter')\n",
      "INFO:root:performing step: ('data_preprocessing', 'transformation', 'log_transformation')\n",
      "INFO:root:performing step: ('data_preprocessing', 'normalisation', 'totalsum')\n",
      "INFO:root:performing step: ('data_preprocessing', 'imputation', 'knn')\n",
      "INFO:root:performing step: ('data_analysis', 'differential_expression', 't_test')\n",
      "INFO:root:creating plot: ('data_analysis', 'plot', 'volcano')\n",
      "INFO:root:Run ba_39_median_knn_new_fc created at C:\\Users\\mon28\\Documents\\Uni\\BP\\PROTzilla2\\user_data\\runs\\ba_39_median_knn_new_fc\n",
      "INFO:root:Saving plots at C:\\Users\\mon28\\Documents\\Uni\\BP\\PROTzilla2\\user_data\\runs\\ba_39_median_knn_new_fc\\plots\n",
      "INFO:root:------ computing workflow\n",
      "\n",
      "INFO:root:imported MS Data\n",
      "INFO:root:imported Meta Data\n",
      "INFO:root:performing step: ('data_preprocessing', 'filter_samples', 'proteins_missing_filter')\n",
      "INFO:root:performing step: ('data_preprocessing', 'filter_proteins', 'samples_missing_filter')\n",
      "INFO:root:performing step: ('data_preprocessing', 'transformation', 'log_transformation')\n",
      "INFO:root:performing step: ('data_preprocessing', 'normalisation', 'median')\n",
      "INFO:root:performing step: ('data_preprocessing', 'imputation', 'knn')\n",
      "INFO:root:performing step: ('data_analysis', 'differential_expression', 't_test')\n",
      "INFO:root:creating plot: ('data_analysis', 'plot', 'volcano')\n"
     ]
    }
   ],
   "source": [
    "for combination in method_combinations:\n",
    "    norm_method = combination[0]\n",
    "    imp_method = combination[1]\n",
    "    adjust_wf(norm_method,imp_method)\n",
    "    norm_name = norm_method[\"method\"]\n",
    "    imp_name = imp_method[\"method\"]\n",
    "    try:\n",
    "        add_info = imp_method[\"parameters\"][\"strategy\"]\n",
    "    except:\n",
    "        add_info = \"\"\n",
    "\n",
    "    runner = Runner(\n",
    "        **{\n",
    "        \"workflow\": \"ba_39_norm_imp_wf\",\n",
    "        \"ms_data_path\": f\"{PROJECT_PATH}\\\\user_data\\\\data\\\\proteinGroups.txt\",\n",
    "        \"meta_data_path\": f\"{PROJECT_PATH}\\\\user_data\\\\data\\\\meta.csv\",\n",
    "        \"peptides_path\": None,\n",
    "        \"run_name\": f\"ba_39_{norm_name}_{imp_name}{add_info}_new_fc\",\n",
    "        \"df_mode\": \"disk\",\n",
    "        \"all_plots\": True,\n",
    "        \"verbose\": False,\n",
    "        }\n",
    "    )\n",
    "    runner.compute_workflow()"
   ]
  }
 ],
 "metadata": {
  "kernelspec": {
   "display_name": "protzilla2",
   "language": "python",
   "name": "python3"
  },
  "language_info": {
   "codemirror_mode": {
    "name": "ipython",
    "version": 3
   },
   "file_extension": ".py",
   "mimetype": "text/x-python",
   "name": "python",
   "nbconvert_exporter": "python",
   "pygments_lexer": "ipython3",
   "version": "3.11.4"
  },
  "orig_nbformat": 4
 },
 "nbformat": 4,
 "nbformat_minor": 2
}
