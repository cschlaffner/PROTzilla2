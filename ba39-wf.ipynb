{
 "cells": [
  {
   "cell_type": "code",
   "execution_count": 1,
   "metadata": {},
   "outputs": [
    {
     "name": "stderr",
     "output_type": "stream",
     "text": [
      "c:\\Users\\Lilly\\miniconda3\\envs\\protzilla2\\Lib\\site-packages\\umap\\distances.py:1063: NumbaDeprecationWarning: \u001b[1mThe 'nopython' keyword argument was not supplied to the 'numba.jit' decorator. The implicit default value for this argument is currently False, but it will be changed to True in Numba 0.59.0. See https://numba.readthedocs.io/en/stable/reference/deprecation.html#deprecation-of-object-mode-fall-back-behaviour-when-using-jit for details.\u001b[0m\n",
      "  @numba.jit()\n",
      "c:\\Users\\Lilly\\miniconda3\\envs\\protzilla2\\Lib\\site-packages\\umap\\distances.py:1071: NumbaDeprecationWarning: \u001b[1mThe 'nopython' keyword argument was not supplied to the 'numba.jit' decorator. The implicit default value for this argument is currently False, but it will be changed to True in Numba 0.59.0. See https://numba.readthedocs.io/en/stable/reference/deprecation.html#deprecation-of-object-mode-fall-back-behaviour-when-using-jit for details.\u001b[0m\n",
      "  @numba.jit()\n",
      "c:\\Users\\Lilly\\miniconda3\\envs\\protzilla2\\Lib\\site-packages\\umap\\distances.py:1086: NumbaDeprecationWarning: \u001b[1mThe 'nopython' keyword argument was not supplied to the 'numba.jit' decorator. The implicit default value for this argument is currently False, but it will be changed to True in Numba 0.59.0. See https://numba.readthedocs.io/en/stable/reference/deprecation.html#deprecation-of-object-mode-fall-back-behaviour-when-using-jit for details.\u001b[0m\n",
      "  @numba.jit()\n",
      "c:\\Users\\Lilly\\miniconda3\\envs\\protzilla2\\Lib\\site-packages\\tqdm\\auto.py:21: TqdmWarning: IProgress not found. Please update jupyter and ipywidgets. See https://ipywidgets.readthedocs.io/en/stable/user_install.html\n",
      "  from .autonotebook import tqdm as notebook_tqdm\n",
      "c:\\Users\\Lilly\\miniconda3\\envs\\protzilla2\\Lib\\site-packages\\umap\\umap_.py:660: NumbaDeprecationWarning: \u001b[1mThe 'nopython' keyword argument was not supplied to the 'numba.jit' decorator. The implicit default value for this argument is currently False, but it will be changed to True in Numba 0.59.0. See https://numba.readthedocs.io/en/stable/reference/deprecation.html#deprecation-of-object-mode-fall-back-behaviour-when-using-jit for details.\u001b[0m\n",
      "  @numba.jit()\n"
     ]
    }
   ],
   "source": [
    "from protzilla.runner import Runner\n",
    "from protzilla.constants.paths import PROJECT_PATH\n",
    "from protzilla.utilities.random import random_string"
   ]
  },
  {
   "cell_type": "code",
   "execution_count": 2,
   "metadata": {},
   "outputs": [
    {
     "name": "stderr",
     "output_type": "stream",
     "text": [
      "INFO:root:Run ba_39 created at C:\\Users\\Lilly\\Documents\\Uni\\WiSe2223\\BP\\PROTzilla2\\user_data\\runs\\ba_39\n",
      "INFO:root:Saving plots at C:\\Users\\Lilly\\Documents\\Uni\\WiSe2223\\BP\\PROTzilla2\\user_data\\runs\\ba_39\\plots\n",
      "INFO:root:------ computing workflow\n",
      "\n"
     ]
    },
    {
     "name": "stdout",
     "output_type": "stream",
     "text": [
      "\n",
      "\n",
      "\n"
     ]
    },
    {
     "name": "stderr",
     "output_type": "stream",
     "text": [
      "INFO:root:imported MS Data\n",
      "INFO:root:imported Meta Data\n",
      "INFO:root:performing step: ('data_preprocessing', 'filter_samples', 'proteins_missing_filter')\n",
      "INFO:root:performing step: ('data_preprocessing', 'filter_proteins', 'samples_missing_filter')\n",
      "INFO:root:performing step: ('data_preprocessing', 'transformation', 'log_transformation')\n",
      "INFO:root:performing step: ('data_preprocessing', 'normalisation', 'median')\n"
     ]
    },
    {
     "ename": "IndexError",
     "evalue": "index 3 is out of bounds for axis 0 with size 0",
     "output_type": "error",
     "traceback": [
      "\u001b[1;31m---------------------------------------------------------------------------\u001b[0m",
      "\u001b[1;31mIndexError\u001b[0m                                Traceback (most recent call last)",
      "Cell \u001b[1;32mIn[2], line 13\u001b[0m\n\u001b[0;32m      1\u001b[0m runner \u001b[39m=\u001b[39m Runner(\n\u001b[0;32m      2\u001b[0m     \u001b[39m*\u001b[39m\u001b[39m*\u001b[39m{\n\u001b[0;32m      3\u001b[0m         \u001b[39m\"\u001b[39m\u001b[39mworkflow\u001b[39m\u001b[39m\"\u001b[39m: \u001b[39m\"\u001b[39m\u001b[39mba_39_wf\u001b[39m\u001b[39m\"\u001b[39m,\n\u001b[1;32m   (...)\u001b[0m\n\u001b[0;32m     11\u001b[0m     }\n\u001b[0;32m     12\u001b[0m )\n\u001b[1;32m---> 13\u001b[0m runner\u001b[39m.\u001b[39;49mcompute_workflow()\n",
      "File \u001b[1;32mc:\\Users\\Lilly\\Documents\\Uni\\WiSe2223\\BP\\PROTzilla2\\protzilla\\runner.py:93\u001b[0m, in \u001b[0;36mRunner.compute_workflow\u001b[1;34m(self)\u001b[0m\n\u001b[0;32m     91\u001b[0m     \u001b[39mself\u001b[39m\u001b[39m.\u001b[39m_perform_current_step(get_defaults(params))\n\u001b[0;32m     92\u001b[0m     \u001b[39mif\u001b[39;00m \u001b[39mself\u001b[39m\u001b[39m.\u001b[39mall_plots:\n\u001b[1;32m---> 93\u001b[0m         \u001b[39mself\u001b[39;49m\u001b[39m.\u001b[39;49m_create_plots_for_step(section, step)\n\u001b[0;32m     94\u001b[0m \u001b[39mself\u001b[39m\u001b[39m.\u001b[39mrun\u001b[39m.\u001b[39mnext_step()\n",
      "File \u001b[1;32mc:\\Users\\Lilly\\Documents\\Uni\\WiSe2223\\BP\\PROTzilla2\\protzilla\\runner.py:137\u001b[0m, in \u001b[0;36mRunner._create_plots_for_step\u001b[1;34m(self, section, step)\u001b[0m\n\u001b[0;32m    133\u001b[0m \u001b[39melif\u001b[39;00m step[\u001b[39m\"\u001b[39m\u001b[39mname\u001b[39m\u001b[39m\"\u001b[39m] \u001b[39m==\u001b[39m \u001b[39m\"\u001b[39m\u001b[39mplot\u001b[39m\u001b[39m\"\u001b[39m:\n\u001b[0;32m    134\u001b[0m     params \u001b[39m=\u001b[39m get_defaults(\n\u001b[0;32m    135\u001b[0m         get_parameters(\u001b[39mself\u001b[39m\u001b[39m.\u001b[39mrun, \u001b[39m*\u001b[39m\u001b[39mself\u001b[39m\u001b[39m.\u001b[39mrun\u001b[39m.\u001b[39mcurrent_workflow_location())\n\u001b[0;32m    136\u001b[0m     )\n\u001b[1;32m--> 137\u001b[0m \u001b[39mself\u001b[39;49m\u001b[39m.\u001b[39;49mrun\u001b[39m.\u001b[39;49mcreate_plot_from_current_location(\n\u001b[0;32m    138\u001b[0m     parameters\u001b[39m=\u001b[39;49mparams,\n\u001b[0;32m    139\u001b[0m )\n\u001b[0;32m    140\u001b[0m \u001b[39mfor\u001b[39;00m i, plot \u001b[39min\u001b[39;00m \u001b[39menumerate\u001b[39m(\u001b[39mself\u001b[39m\u001b[39m.\u001b[39mrun\u001b[39m.\u001b[39mplots):\n\u001b[0;32m    141\u001b[0m     plot_path \u001b[39m=\u001b[39m \u001b[39mf\u001b[39m\u001b[39m\"\u001b[39m\u001b[39m{\u001b[39;00m\u001b[39mself\u001b[39m\u001b[39m.\u001b[39mplots_path\u001b[39m}\u001b[39;00m\u001b[39m/\u001b[39m\u001b[39m{\u001b[39;00m\u001b[39mself\u001b[39m\u001b[39m.\u001b[39mrun\u001b[39m.\u001b[39mstep_index\u001b[39m}\u001b[39;00m\u001b[39m-\u001b[39m\u001b[39m{\u001b[39;00msection\u001b[39m}\u001b[39;00m\u001b[39m-\u001b[39m\u001b[39m{\u001b[39;00mstep[\u001b[39m'\u001b[39m\u001b[39mname\u001b[39m\u001b[39m'\u001b[39m]\u001b[39m}\u001b[39;00m\u001b[39m-\u001b[39m\u001b[39m{\u001b[39;00mstep[\u001b[39m'\u001b[39m\u001b[39mmethod\u001b[39m\u001b[39m'\u001b[39m]\u001b[39m}\u001b[39;00m\u001b[39m-\u001b[39m\u001b[39m{\u001b[39;00mi\u001b[39m}\u001b[39;00m\u001b[39m.html\u001b[39m\u001b[39m\"\u001b[39m\n",
      "File \u001b[1;32mc:\\Users\\Lilly\\Documents\\Uni\\WiSe2223\\BP\\PROTzilla2\\protzilla\\run.py:184\u001b[0m, in \u001b[0;36mRun.create_plot_from_current_location\u001b[1;34m(self, parameters)\u001b[0m\n\u001b[0;32m    180\u001b[0m     \u001b[39mself\u001b[39m\u001b[39m.\u001b[39mworkflow_config[\u001b[39m\"\u001b[39m\u001b[39msections\u001b[39m\u001b[39m\"\u001b[39m][section][\u001b[39m\"\u001b[39m\u001b[39msteps\u001b[39m\u001b[39m\"\u001b[39m][\n\u001b[0;32m    181\u001b[0m         \u001b[39mself\u001b[39m\u001b[39m.\u001b[39mstep_index_in_current_section()\n\u001b[0;32m    182\u001b[0m     ][\u001b[39m\"\u001b[39m\u001b[39mgraphs\u001b[39m\u001b[39m\"\u001b[39m] \u001b[39m=\u001b[39m [parameters]\n\u001b[0;32m    183\u001b[0m     \u001b[39mself\u001b[39m\u001b[39m.\u001b[39mwrite_local_workflow()\n\u001b[1;32m--> 184\u001b[0m     \u001b[39mself\u001b[39;49m\u001b[39m.\u001b[39;49mcreate_plot(plot_map[location], parameters)\n\u001b[0;32m    186\u001b[0m \u001b[39mif\u001b[39;00m section \u001b[39min\u001b[39;00m [\u001b[39m\"\u001b[39m\u001b[39mimporting\u001b[39m\u001b[39m\"\u001b[39m, \u001b[39m\"\u001b[39m\u001b[39mdata_preprocessing\u001b[39m\u001b[39m\"\u001b[39m]:\n\u001b[0;32m    187\u001b[0m     \u001b[39mself\u001b[39m\u001b[39m.\u001b[39mplotted_for_parameters \u001b[39m=\u001b[39m \u001b[39mself\u001b[39m\u001b[39m.\u001b[39mcurrent_parameters\u001b[39m.\u001b[39mget(method)\n",
      "File \u001b[1;32mc:\\Users\\Lilly\\Documents\\Uni\\WiSe2223\\BP\\PROTzilla2\\protzilla\\run.py:194\u001b[0m, in \u001b[0;36mRun.create_plot\u001b[1;34m(self, method_callable, parameters)\u001b[0m\n\u001b[0;32m    193\u001b[0m \u001b[39mdef\u001b[39;00m \u001b[39mcreate_plot\u001b[39m(\u001b[39mself\u001b[39m, method_callable, parameters):\n\u001b[1;32m--> 194\u001b[0m     \u001b[39mself\u001b[39m\u001b[39m.\u001b[39mplots \u001b[39m=\u001b[39m method_callable(\n\u001b[0;32m    195\u001b[0m         \u001b[39mself\u001b[39;49m\u001b[39m.\u001b[39;49mdf, \u001b[39mself\u001b[39;49m\u001b[39m.\u001b[39;49mresult_df, \u001b[39mself\u001b[39;49m\u001b[39m.\u001b[39;49mcurrent_out, \u001b[39m*\u001b[39;49m\u001b[39m*\u001b[39;49mparameters\n\u001b[0;32m    196\u001b[0m     )\n",
      "File \u001b[1;32mc:\\Users\\Lilly\\Documents\\Uni\\WiSe2223\\BP\\PROTzilla2\\protzilla\\data_preprocessing\\normalisation.py:232\u001b[0m, in \u001b[0;36mby_median_plot\u001b[1;34m(df, result_df, current_out, graph_type, group_by)\u001b[0m\n\u001b[0;32m    231\u001b[0m \u001b[39mdef\u001b[39;00m \u001b[39mby_median_plot\u001b[39m(df, result_df, current_out, graph_type, group_by):\n\u001b[1;32m--> 232\u001b[0m     \u001b[39mreturn\u001b[39;00m _build_box_hist_plot(df, result_df, current_out, graph_type, group_by)\n",
      "File \u001b[1;32mc:\\Users\\Lilly\\Documents\\Uni\\WiSe2223\\BP\\PROTzilla2\\protzilla\\data_preprocessing\\normalisation.py:245\u001b[0m, in \u001b[0;36m_build_box_hist_plot\u001b[1;34m(df, result_df, current_out, graph_type, group_by)\u001b[0m\n\u001b[0;32m    243\u001b[0m \u001b[39mdef\u001b[39;00m \u001b[39m_build_box_hist_plot\u001b[39m(df, result_df, current_out, graph_type, group_by):\n\u001b[0;32m    244\u001b[0m     \u001b[39mif\u001b[39;00m graph_type \u001b[39m==\u001b[39m \u001b[39m\"\u001b[39m\u001b[39mBoxplot\u001b[39m\u001b[39m\"\u001b[39m:\n\u001b[1;32m--> 245\u001b[0m         fig \u001b[39m=\u001b[39m create_box_plots(\n\u001b[0;32m    246\u001b[0m             dataframe_a\u001b[39m=\u001b[39;49mdf,\n\u001b[0;32m    247\u001b[0m             dataframe_b\u001b[39m=\u001b[39;49mresult_df,\n\u001b[0;32m    248\u001b[0m             name_a\u001b[39m=\u001b[39;49m\u001b[39m\"\u001b[39;49m\u001b[39mBefore Normalisation\u001b[39;49m\u001b[39m\"\u001b[39;49m,\n\u001b[0;32m    249\u001b[0m             name_b\u001b[39m=\u001b[39;49m\u001b[39m\"\u001b[39;49m\u001b[39mAfter Normalisation\u001b[39;49m\u001b[39m\"\u001b[39;49m,\n\u001b[0;32m    250\u001b[0m             heading\u001b[39m=\u001b[39;49m\u001b[39m\"\u001b[39;49m\u001b[39mDistribution of Protein Intensities\u001b[39;49m\u001b[39m\"\u001b[39;49m,\n\u001b[0;32m    251\u001b[0m             x_title\u001b[39m=\u001b[39;49m\u001b[39m\"\u001b[39;49m\u001b[39m\"\u001b[39;49m,\n\u001b[0;32m    252\u001b[0m             y_title\u001b[39m=\u001b[39;49m\u001b[39m\"\u001b[39;49m\u001b[39m\"\u001b[39;49m,\n\u001b[0;32m    253\u001b[0m             group_by\u001b[39m=\u001b[39;49mgroup_by,\n\u001b[0;32m    254\u001b[0m         )\n\u001b[0;32m    255\u001b[0m     \u001b[39mif\u001b[39;00m graph_type \u001b[39m==\u001b[39m \u001b[39m\"\u001b[39m\u001b[39mHistogram\u001b[39m\u001b[39m\"\u001b[39m:\n\u001b[0;32m    256\u001b[0m         fig \u001b[39m=\u001b[39m create_histograms(\n\u001b[0;32m    257\u001b[0m             dataframe_a\u001b[39m=\u001b[39mdf,\n\u001b[0;32m    258\u001b[0m             dataframe_b\u001b[39m=\u001b[39mresult_df,\n\u001b[1;32m   (...)\u001b[0m\n\u001b[0;32m    263\u001b[0m             y_title\u001b[39m=\u001b[39m\u001b[39m\"\u001b[39m\u001b[39m\"\u001b[39m,\n\u001b[0;32m    264\u001b[0m         )\n",
      "File \u001b[1;32mc:\\Users\\Lilly\\Documents\\Uni\\WiSe2223\\BP\\PROTzilla2\\protzilla\\data_preprocessing\\plots.py:157\u001b[0m, in \u001b[0;36mcreate_box_plots\u001b[1;34m(dataframe_a, dataframe_b, name_a, name_b, heading, y_title, x_title, group_by)\u001b[0m\n\u001b[0;32m    152\u001b[0m     \u001b[39mraise\u001b[39;00m \u001b[39mValueError\u001b[39;00m(\n\u001b[0;32m    153\u001b[0m         \u001b[39mf\u001b[39m\u001b[39m\"\"\"\u001b[39m\u001b[39mGroup_by parameter  must be \u001b[39m\u001b[39m\"\u001b[39m\u001b[39mNone\u001b[39m\u001b[39m\"\u001b[39m\u001b[39m or\u001b[39m\n\u001b[0;32m    154\u001b[0m \u001b[39m            \u001b[39m\u001b[39m\"\u001b[39m\u001b[39mSample\u001b[39m\u001b[39m\"\u001b[39m\u001b[39m or \u001b[39m\u001b[39m\"\u001b[39m\u001b[39mProtein ID\u001b[39m\u001b[39m\"\u001b[39m\u001b[39m but is \u001b[39m\u001b[39m{\u001b[39;00mgroup_by\u001b[39m}\u001b[39;00m\u001b[39m\"\"\"\u001b[39m\n\u001b[0;32m    155\u001b[0m     )\n\u001b[0;32m    156\u001b[0m intensity_name_a \u001b[39m=\u001b[39m dataframe_a\u001b[39m.\u001b[39mcolumns[\u001b[39m3\u001b[39m]\n\u001b[1;32m--> 157\u001b[0m intensity_name_b \u001b[39m=\u001b[39m dataframe_b\u001b[39m.\u001b[39;49mcolumns[\u001b[39m3\u001b[39;49m]\n\u001b[0;32m    158\u001b[0m \u001b[39mif\u001b[39;00m group_by \u001b[39min\u001b[39;00m {\u001b[39m\"\u001b[39m\u001b[39mSample\u001b[39m\u001b[39m\"\u001b[39m, \u001b[39m\"\u001b[39m\u001b[39mProtein ID\u001b[39m\u001b[39m\"\u001b[39m}:\n\u001b[0;32m    159\u001b[0m     fig \u001b[39m=\u001b[39m make_subplots(rows\u001b[39m=\u001b[39m\u001b[39m1\u001b[39m, cols\u001b[39m=\u001b[39m\u001b[39m2\u001b[39m)\n",
      "File \u001b[1;32mc:\\Users\\Lilly\\miniconda3\\envs\\protzilla2\\Lib\\site-packages\\pandas\\core\\indexes\\base.py:5320\u001b[0m, in \u001b[0;36mIndex.__getitem__\u001b[1;34m(self, key)\u001b[0m\n\u001b[0;32m   5317\u001b[0m \u001b[39mif\u001b[39;00m is_integer(key) \u001b[39mor\u001b[39;00m is_float(key):\n\u001b[0;32m   5318\u001b[0m     \u001b[39m# GH#44051 exclude bool, which would return a 2d ndarray\u001b[39;00m\n\u001b[0;32m   5319\u001b[0m     key \u001b[39m=\u001b[39m com\u001b[39m.\u001b[39mcast_scalar_indexer(key, warn_float\u001b[39m=\u001b[39m\u001b[39mTrue\u001b[39;00m)\n\u001b[1;32m-> 5320\u001b[0m     \u001b[39mreturn\u001b[39;00m getitem(key)\n\u001b[0;32m   5322\u001b[0m \u001b[39mif\u001b[39;00m \u001b[39misinstance\u001b[39m(key, \u001b[39mslice\u001b[39m):\n\u001b[0;32m   5323\u001b[0m     \u001b[39m# This case is separated from the conditional above to avoid\u001b[39;00m\n\u001b[0;32m   5324\u001b[0m     \u001b[39m# pessimization com.is_bool_indexer and ndim checks.\u001b[39;00m\n\u001b[0;32m   5325\u001b[0m     result \u001b[39m=\u001b[39m getitem(key)\n",
      "\u001b[1;31mIndexError\u001b[0m: index 3 is out of bounds for axis 0 with size 0"
     ]
    }
   ],
   "source": [
    "runner = Runner(\n",
    "    **{\n",
    "        \"workflow\": \"ba_39_wf\",\n",
    "        \"ms_data_path\": f\"{PROJECT_PATH}\\\\user_data\\\\data\\\\proteinGroups.txt\",\n",
    "        \"meta_data_path\": f\"{PROJECT_PATH}\\\\user_data\\\\data\\\\meta.csv\",\n",
    "        \"peptides_path\": None,\n",
    "        \"run_name\": \"ba_39\",\n",
    "        \"df_mode\": \"disk\",\n",
    "        \"all_plots\": True,\n",
    "        \"verbose\": False,\n",
    "    }\n",
    ")\n",
    "runner.compute_workflow()"
   ]
  }
 ],
 "metadata": {
  "kernelspec": {
   "display_name": "protzilla2",
   "language": "python",
   "name": "python3"
  },
  "language_info": {
   "codemirror_mode": {
    "name": "ipython",
    "version": 3
   },
   "file_extension": ".py",
   "mimetype": "text/x-python",
   "name": "python",
   "nbconvert_exporter": "python",
   "pygments_lexer": "ipython3",
   "version": "3.11.0"
  },
  "orig_nbformat": 4
 },
 "nbformat": 4,
 "nbformat_minor": 2
}
