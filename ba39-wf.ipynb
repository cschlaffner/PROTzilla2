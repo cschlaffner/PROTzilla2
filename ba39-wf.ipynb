{
 "cells": [
  {
   "cell_type": "code",
   "execution_count": 4,
   "metadata": {},
   "outputs": [],
   "source": [
    "from protzilla.runner import Runner\n",
    "from protzilla.constants.paths import PROJECT_PATH\n",
    "from protzilla.utilities.random import random_string"
   ]
  },
  {
   "cell_type": "code",
   "execution_count": 9,
   "metadata": {},
   "outputs": [
    {
     "name": "stderr",
     "output_type": "stream",
     "text": [
      "INFO:root:Run ba_39 created at C:\\Users\\Lilly\\Documents\\Uni\\WiSe2223\\BP\\PROTzilla2\\user_data\\runs\\ba_39\n",
      "INFO:root:Saving plots at C:\\Users\\Lilly\\Documents\\Uni\\WiSe2223\\BP\\PROTzilla2\\user_data\\runs\\ba_39\\plots\n",
      "INFO:root:------ computing workflow\n",
      "\n"
     ]
    },
    {
     "name": "stdout",
     "output_type": "stream",
     "text": [
      "\n",
      "\n",
      "\n"
     ]
    },
    {
     "name": "stderr",
     "output_type": "stream",
     "text": [
      "INFO:root:imported MS Data\n",
      "INFO:root:imported Meta Data\n",
      "INFO:root:performing step: ('data_preprocessing', 'transformation', 'log_transformation')\n",
      "INFO:root:performing step: ('data_preprocessing', 'normalisation', 'median')\n",
      "INFO:root:performing step: ('data_analysis', 'differential_expression', 't_test')\n",
      "WARNING:root:auto-selected first group in t-test\n",
      "WARNING:root:auto-selected second group in t-test\n",
      "ERROR:root:There are Proteins with NaN values present in your data.                 Please filter them out before running the differential expression analysis.\n"
     ]
    }
   ],
   "source": [
    "runner = Runner(\n",
    "    **{\n",
    "        \"workflow\": \"ba_39_wf\",\n",
    "        \"ms_data_path\": f\"{PROJECT_PATH}\\\\user_data\\\\data\\\\proteinGroups.txt\",\n",
    "        \"meta_data_path\": f\"{PROJECT_PATH}\\\\user_data\\\\data\\\\meta.csv\",\n",
    "        \"peptides_path\": None,\n",
    "        \"run_name\": \"ba_39\",\n",
    "        \"df_mode\": \"disk\",\n",
    "        \"all_plots\": True,\n",
    "        \"verbose\": False,\n",
    "    }\n",
    ")\n",
    "runner.compute_workflow()"
   ]
  }
 ],
 "metadata": {
  "kernelspec": {
   "display_name": "protzilla2",
   "language": "python",
   "name": "python3"
  },
  "language_info": {
   "codemirror_mode": {
    "name": "ipython",
    "version": 3
   },
   "file_extension": ".py",
   "mimetype": "text/x-python",
   "name": "python",
   "nbconvert_exporter": "python",
   "pygments_lexer": "ipython3",
   "version": "3.11.0"
  },
  "orig_nbformat": 4
 },
 "nbformat": 4,
 "nbformat_minor": 2
}
